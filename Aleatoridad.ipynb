{
 "cells": [
  {
   "cell_type": "code",
   "execution_count": 147,
   "id": "55e7016c",
   "metadata": {},
   "outputs": [],
   "source": [
    "import random, numpy as np"
   ]
  },
  {
   "cell_type": "code",
   "execution_count": 10,
   "id": "2947830c",
   "metadata": {},
   "outputs": [
    {
     "data": {
      "text/plain": [
       "0.42291957152012805"
      ]
     },
     "execution_count": 10,
     "metadata": {},
     "output_type": "execute_result"
    }
   ],
   "source": [
    "num=random.random() #seudoaleatorio en (0,1)\n",
    "num"
   ]
  },
  {
   "cell_type": "code",
   "execution_count": 22,
   "id": "78de5492",
   "metadata": {},
   "outputs": [
    {
     "data": {
      "text/plain": [
       "1"
      ]
     },
     "execution_count": 22,
     "metadata": {},
     "output_type": "execute_result"
    }
   ],
   "source": [
    "lista=[0,1,2,3,4.5,6,7] #recoger un aleatorio entre la lista\n",
    "random.choice(lista)"
   ]
  },
  {
   "cell_type": "code",
   "execution_count": 25,
   "id": "902d4b3f",
   "metadata": {},
   "outputs": [
    {
     "data": {
      "text/plain": [
       "'o'"
      ]
     },
     "execution_count": 25,
     "metadata": {},
     "output_type": "execute_result"
    }
   ],
   "source": [
    "ente=\"propiedad\" #letra aleatoria en una cadena\n",
    "random.choice(ente)"
   ]
  },
  {
   "cell_type": "code",
   "execution_count": 33,
   "id": "45c339ec",
   "metadata": {},
   "outputs": [
    {
     "name": "stdout",
     "output_type": "stream",
     "text": [
      "Un número aleatorio de la lista es: 3\n"
     ]
    }
   ],
   "source": [
    "print(\"Un número aleatorio de la lista es: \", end=\"\") #uso de parámetro \"end\"\n",
    "print(random.choice([1, 4, 8, 10, 3]))"
   ]
  },
  {
   "cell_type": "code",
   "execution_count": 59,
   "id": "7d35b42d",
   "metadata": {},
   "outputs": [
    {
     "data": {
      "text/plain": [
       "65166"
      ]
     },
     "execution_count": 59,
     "metadata": {},
     "output_type": "execute_result"
    }
   ],
   "source": [
    "num1=random.randrange(20,200000) #aleatorios entre intervalos\n",
    "num1"
   ]
  },
  {
   "cell_type": "code",
   "execution_count": 77,
   "id": "7473e422",
   "metadata": {},
   "outputs": [
    {
     "name": "stdout",
     "output_type": "stream",
     "text": [
      "El número dado seed(6) es 0.793340083761663\n"
     ]
    }
   ],
   "source": [
    "random.seed(6) #fijando un número para obtener siempre el mismo pseudoaleatorio\n",
    "print(\"El número dado seed(6) es \", end=\"\")\n",
    "print(random.random())"
   ]
  },
  {
   "cell_type": "code",
   "execution_count": 85,
   "id": "db9963b7",
   "metadata": {},
   "outputs": [
    {
     "name": "stdout",
     "output_type": "stream",
     "text": [
      "La lista original es  ['A', 'B', 'C', 'D']\n"
     ]
    }
   ],
   "source": [
    "listaa=[\"A\",\"B\", \"C\", \"D\"] #lista que será desordenada\n",
    "print(\"La lista original es \", end=\" \")\n",
    "print(listaa)\n"
   ]
  },
  {
   "cell_type": "code",
   "execution_count": 105,
   "id": "40275349",
   "metadata": {},
   "outputs": [
    {
     "name": "stdout",
     "output_type": "stream",
     "text": [
      "Después del primer ordenamiento aleatorio ['D', 'B', 'C', 'A']\n"
     ]
    }
   ],
   "source": [
    "random.shuffle(listaa) #reordenamiento\n",
    "print(\"Después del primer ordenamiento aleatorio \", end=\"\" ) \n",
    "print(listaa)"
   ]
  },
  {
   "cell_type": "code",
   "execution_count": 114,
   "id": "0878328a",
   "metadata": {},
   "outputs": [
    {
     "name": "stdout",
     "output_type": "stream",
     "text": [
      "El número aleatorio real entre 1 y 100000 es 69822.67615152546\n"
     ]
    }
   ],
   "source": [
    "print(\"El número aleatorio real entre 1 y 100000 es \", end=\"\") #usando la distribución uniforme\n",
    "print(random.uniform(1, 100000))"
   ]
  },
  {
   "cell_type": "code",
   "execution_count": 128,
   "id": "a6bac8f5",
   "metadata": {},
   "outputs": [
    {
     "name": "stdout",
     "output_type": "stream",
     "text": [
      "[28, 85, 17, 50, 28, 75, 45, 59, 72, 98, 82, 35, 75, 76, 24, 72, 28, 94, 3, 52, 31, 50, 73, 95, 15, 82, 4, 40, 46, 63, 82, 32, 55, 48, 38, 46, 67, 91, 75, 47, 74, 7, 52, 81, 75, 23, 39, 37, 75, 85, 60, 30, 13, 58, 73, 20, 46, 73, 54, 86, 59, 41, 9, 58, 55, 62, 1, 13, 77, 8, 61, 55, 81, 7, 81, 3, 93, 65, 67, 44, 46, 20, 22, 61, 68, 9, 51, 75, 76, 14, 3, 44, 83, 29, 78, 94, 68, 32, 77, 66]\n"
     ]
    }
   ],
   "source": [
    "rand_list=[] #lista aleatoria\n",
    "n=100\n",
    "for i in range (n):\n",
    "    rand_list.append(random.randint(0,99))\n",
    "print(rand_list)"
   ]
  },
  {
   "cell_type": "code",
   "execution_count": 132,
   "id": "f8aa3d38",
   "metadata": {},
   "outputs": [
    {
     "data": {
      "text/plain": [
       "[28,\n",
       " 85,\n",
       " 17,\n",
       " 50,\n",
       " 28,\n",
       " 75,\n",
       " 45,\n",
       " 59,\n",
       " 72,\n",
       " 98,\n",
       " 82,\n",
       " 35,\n",
       " 75,\n",
       " 76,\n",
       " 24,\n",
       " 72,\n",
       " 28,\n",
       " 94,\n",
       " 3,\n",
       " 52,\n",
       " 31,\n",
       " 50,\n",
       " 73,\n",
       " 95,\n",
       " 15,\n",
       " 82,\n",
       " 4,\n",
       " 40,\n",
       " 46,\n",
       " 63,\n",
       " 82,\n",
       " 32,\n",
       " 55,\n",
       " 48,\n",
       " 38,\n",
       " 46,\n",
       " 67,\n",
       " 91,\n",
       " 75,\n",
       " 47,\n",
       " 74,\n",
       " 7,\n",
       " 52,\n",
       " 81,\n",
       " 75,\n",
       " 23,\n",
       " 39,\n",
       " 37,\n",
       " 75,\n",
       " 85,\n",
       " 60,\n",
       " 30,\n",
       " 13,\n",
       " 58,\n",
       " 73,\n",
       " 20,\n",
       " 46,\n",
       " 73,\n",
       " 54,\n",
       " 86,\n",
       " 59,\n",
       " 41,\n",
       " 9,\n",
       " 58,\n",
       " 55,\n",
       " 62,\n",
       " 1,\n",
       " 13,\n",
       " 77,\n",
       " 8,\n",
       " 61,\n",
       " 55,\n",
       " 81,\n",
       " 7,\n",
       " 81,\n",
       " 3,\n",
       " 93,\n",
       " 65,\n",
       " 67,\n",
       " 44,\n",
       " 46,\n",
       " 20,\n",
       " 22,\n",
       " 61,\n",
       " 68,\n",
       " 9,\n",
       " 51,\n",
       " 75,\n",
       " 76,\n",
       " 14,\n",
       " 3,\n",
       " 44,\n",
       " 83,\n",
       " 29,\n",
       " 78,\n",
       " 94,\n",
       " 68,\n",
       " 32,\n",
       " 77,\n",
       " 66]"
      ]
     },
     "execution_count": 132,
     "metadata": {},
     "output_type": "execute_result"
    }
   ],
   "source": [
    "rand_list"
   ]
  },
  {
   "cell_type": "code",
   "execution_count": 145,
   "id": "ae1d3e48",
   "metadata": {},
   "outputs": [
    {
     "data": {
      "text/plain": [
       "[43,\n",
       " 14,\n",
       " 47,\n",
       " 27,\n",
       " 36,\n",
       " 39,\n",
       " 35,\n",
       " 42,\n",
       " 44,\n",
       " 32,\n",
       " 6,\n",
       " 28,\n",
       " 49,\n",
       " 11,\n",
       " 9,\n",
       " 13,\n",
       " 19,\n",
       " 46,\n",
       " 10,\n",
       " 23,\n",
       " 34,\n",
       " 22,\n",
       " 2,\n",
       " 15,\n",
       " 7,\n",
       " 25,\n",
       " 31,\n",
       " 8,\n",
       " 48,\n",
       " 12,\n",
       " 40,\n",
       " 45,\n",
       " 20,\n",
       " 17,\n",
       " 24,\n",
       " 26,\n",
       " 41,\n",
       " 37,\n",
       " 21,\n",
       " 5]"
      ]
     },
     "execution_count": 145,
     "metadata": {},
     "output_type": "execute_result"
    }
   ],
   "source": [
    "ma = random.sample(range(1,50),40) #creando lista alternativamente\n",
    "ma"
   ]
  },
  {
   "cell_type": "code",
   "execution_count": 159,
   "id": "8b925b8c",
   "metadata": {},
   "outputs": [
    {
     "data": {
      "text/plain": [
       "array([[0.22317858, 0.27490209, 0.42300306, 0.74005827, 0.44186019],\n",
       "       [0.59242838, 0.33669816, 0.28103654, 0.89452481, 0.00482363]])"
      ]
     },
     "execution_count": 159,
     "metadata": {},
     "output_type": "execute_result"
    }
   ],
   "source": [
    "matriz=np.random.random((2,5)) #matriz aleatoria\n",
    "matriz"
   ]
  },
  {
   "cell_type": "code",
   "execution_count": 175,
   "id": "e05d1195",
   "metadata": {},
   "outputs": [
    {
     "data": {
      "text/plain": [
       "array([3, 6, 7, 7, 4, 3, 6, 6, 6, 6])"
      ]
     },
     "execution_count": 175,
     "metadata": {},
     "output_type": "execute_result"
    }
   ],
   "source": [
    "na=np.random.randint(3,8,10) #generar listas con numpy\n",
    "na"
   ]
  },
  {
   "cell_type": "code",
   "execution_count": 178,
   "id": "bf693cae",
   "metadata": {},
   "outputs": [
    {
     "data": {
      "text/plain": [
       "array([0.54907307, 0.63032407, 0.78802262, 0.76177064])"
      ]
     },
     "execution_count": 178,
     "metadata": {},
     "output_type": "execute_result"
    }
   ],
   "source": [
    "muestra=np.random.random_sample(4) #muestra aleatoria con numpy\n",
    "muestra"
   ]
  },
  {
   "cell_type": "code",
   "execution_count": 183,
   "id": "33c1a416",
   "metadata": {},
   "outputs": [
    {
     "data": {
      "text/plain": [
       "array([[0.77089572, 0.57935742],\n",
       "       [0.40388854, 0.28776664]])"
      ]
     },
     "execution_count": 183,
     "metadata": {},
     "output_type": "execute_result"
    }
   ],
   "source": [
    "muestraa=np.random.random_sample(size=(2,2)) #muestra doble, numpy\n",
    "muestraa"
   ]
  }
 ],
 "metadata": {
  "kernelspec": {
   "display_name": "Python 3 (ipykernel)",
   "language": "python",
   "name": "python3"
  },
  "language_info": {
   "codemirror_mode": {
    "name": "ipython",
    "version": 3
   },
   "file_extension": ".py",
   "mimetype": "text/x-python",
   "name": "python",
   "nbconvert_exporter": "python",
   "pygments_lexer": "ipython3",
   "version": "3.9.12"
  }
 },
 "nbformat": 4,
 "nbformat_minor": 5
}
