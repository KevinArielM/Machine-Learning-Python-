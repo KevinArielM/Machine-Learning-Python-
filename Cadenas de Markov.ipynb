{
 "cells": [
  {
   "cell_type": "code",
   "execution_count": 8,
   "id": "5d0013fa",
   "metadata": {},
   "outputs": [],
   "source": [
    "import pandas as pd, numpy as np"
   ]
  },
  {
   "cell_type": "code",
   "execution_count": 10,
   "id": "a175df4e",
   "metadata": {},
   "outputs": [
    {
     "data": {
      "text/plain": [
       "{0: 'Casa', 1: 'Cine', 2: 'Restaurante'}"
      ]
     },
     "execution_count": 10,
     "metadata": {},
     "output_type": "execute_result"
    }
   ],
   "source": [
    "estados={0:\"Casa\", 1:\"Cine\", 2:\"Restaurante\"}\n",
    "estados"
   ]
  },
  {
   "cell_type": "code",
   "execution_count": 12,
   "id": "85f5ff22",
   "metadata": {},
   "outputs": [
    {
     "data": {
      "text/plain": [
       "array([[0.2, 0.6, 0.2],\n",
       "       [0.3, 0. , 0.7],\n",
       "       [0.5, 0. , 0.5]])"
      ]
     },
     "execution_count": 12,
     "metadata": {},
     "output_type": "execute_result"
    }
   ],
   "source": [
    "m_trans=np.array([[.2,.6,.2],[.3,0,.7],[.5,0,.5]]) #matriz de transición asociada por estado\n",
    "m_trans"
   ]
  },
  {
   "cell_type": "code",
   "execution_count": 38,
   "id": "6018615c",
   "metadata": {},
   "outputs": [
    {
     "name": "stdout",
     "output_type": "stream",
     "text": [
      "Restaurante -> Restaurante -> Restaurante -> Restaurante -> Casa -> Restaurante -> Casa -> Restaurante -> Restaurante -> Casa -> Finalizaron las transiciones\n"
     ]
    }
   ],
   "source": [
    "#Caminata aleatoria en proceso de Markov\n",
    "n=10 #pasos\n",
    "inicio_estado=2 #se inicia en \"Restaurante\"\n",
    "print(estados[inicio_estado],\"->\", end=\" \")\n",
    "estado_ant=inicio_estado\n",
    "\n",
    "while n-1:\n",
    "    \n",
    "    actual_estado=np.random.choice([0,1,2],p=m_trans[estado_ant])\n",
    "    print(estados[actual_estado],\"->\", end=\" \")\n",
    "    actual_estado=estado_ant\n",
    "    n-=1\n",
    "print(\"Finalizaron las transiciones\")\n",
    "    "
   ]
  },
  {
   "cell_type": "code",
   "execution_count": 48,
   "id": "e83b2088",
   "metadata": {},
   "outputs": [
    {
     "name": "stdout",
     "output_type": "stream",
     "text": [
      "La distribución estacionaria dado el inicio de estado es  [0.351379 0.210954 0.437668]\n"
     ]
    }
   ],
   "source": [
    "#Simulación Montecarlo\n",
    "pasos=10**6 #tiende a + infinito\n",
    "inicio_estado=1\n",
    "pi=np.array([0,0,0]) #a\n",
    "pi[inicio_estado]=1\n",
    "estado_ant=inicio_estado\n",
    "\n",
    "i=0 \n",
    "\n",
    "while i < pasos:\n",
    "    actual_estado=np.random.choice([0,1,2],p=m_trans[estado_ant])\n",
    "    pi[actual_estado]+=1\n",
    "    estado_ant=actual_estado\n",
    "    i+=1\n",
    "    \n",
    "print(\"La distribución estacionaria dado el inicio de estado es \",pi/pasos)\n",
    "\n"
   ]
  },
  {
   "cell_type": "code",
   "execution_count": 56,
   "id": "d951ee87",
   "metadata": {},
   "outputs": [
    {
     "name": "stdout",
     "output_type": "stream",
     "text": [
      "M^n=\n",
      " [[0.35211268 0.21126761 0.43661972]\n",
      " [0.35211268 0.21126761 0.43661972]\n",
      " [0.35211268 0.21126761 0.43661972]]\n",
      "La distribución estacionaria dado el inicio de estado es [0.35211268 0.21126761 0.43661972]\n"
     ]
    }
   ],
   "source": [
    "#Método matricial\n",
    "\n",
    "pasos=10**2\n",
    "M=m_trans #matriz de transición\n",
    "i=0\n",
    "while i<pasos:\n",
    "    M=np.matmul(M,m_trans)\n",
    "    i+=1\n",
    "    \n",
    "print(\"M^n=\\n\", M)\n",
    "print(\"La distribución estacionaria dado el inicio de estado es\", M[0])\n",
    "\n"
   ]
  },
  {
   "cell_type": "code",
   "execution_count": 62,
   "id": "ae5d5a9a",
   "metadata": {},
   "outputs": [
    {
     "name": "stdout",
     "output_type": "stream",
     "text": [
      "vectores propios = \n",
      " [[-0.57735027+0.j          0.70597631+0.j          0.70597631-0.j        ]\n",
      " [-0.57735027+0.j         -0.26474112+0.4380559j  -0.26474112-0.4380559j ]\n",
      " [-0.57735027+0.j         -0.4412352 -0.21196253j -0.4412352 +0.21196253j]]\n",
      "valores propios = \n",
      " [ 1.  +0.j        -0.15+0.3122499j -0.15-0.3122499j]\n"
     ]
    }
   ],
   "source": [
    "#Valores propios\n",
    "import scipy.linalg\n",
    "derecha, izquierda= scipy.linalg.eig(m_trans)\n",
    "print(\"vectores propios = \\n\", izquierda)\n",
    "print(\"valores propios = \\n\", derecha)\n"
   ]
  },
  {
   "cell_type": "code",
   "execution_count": 70,
   "id": "ac246866",
   "metadata": {},
   "outputs": [
    {
     "name": "stdout",
     "output_type": "stream",
     "text": [
      "El vector normalizado es \n",
      " [0.3333333333333335, 0.33333333333333337, 0.3333333333333333]\n"
     ]
    }
   ],
   "source": [
    "#normalización de los vectores\n",
    "pi2=izquierda[:,0]\n",
    "pi_norm=[(x/np.sum(pi2)).real for x in pi2]\n",
    "print(\"El vector normalizado es \\n\",pi_norm)\n"
   ]
  },
  {
   "cell_type": "code",
   "execution_count": 73,
   "id": "ec6a2c86",
   "metadata": {},
   "outputs": [
    {
     "name": "stdout",
     "output_type": "stream",
     "text": [
      "La probabilidad para la secuencia es 0.33333333333333337\n"
     ]
    }
   ],
   "source": [
    "#encontrar probabilidades\n",
    "\n",
    "def prob(sec,m_trans,pi):\n",
    "    inicio_estado=sec[0]\n",
    "    prob=pi[inicio_estado]\n",
    "    estado_ant=inicio_estado\n",
    "    return prob\n",
    "\n",
    "print(\"La probabilidad para la secuencia es\", prob([1,2,2,0],m_trans,pi_norm))\n"
   ]
  }
 ],
 "metadata": {
  "kernelspec": {
   "display_name": "Python 3 (ipykernel)",
   "language": "python",
   "name": "python3"
  },
  "language_info": {
   "codemirror_mode": {
    "name": "ipython",
    "version": 3
   },
   "file_extension": ".py",
   "mimetype": "text/x-python",
   "name": "python",
   "nbconvert_exporter": "python",
   "pygments_lexer": "ipython3",
   "version": "3.9.12"
  }
 },
 "nbformat": 4,
 "nbformat_minor": 5
}
