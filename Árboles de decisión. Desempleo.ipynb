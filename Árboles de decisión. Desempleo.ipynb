{
 "cells": [
  {
   "cell_type": "code",
   "execution_count": 1,
   "id": "3d904ffb",
   "metadata": {},
   "outputs": [],
   "source": [
    "import pandas as pd, numpy as np\n",
    "from sklearn import tree\n",
    "\n"
   ]
  },
  {
   "cell_type": "code",
   "execution_count": 2,
   "id": "334ee864",
   "metadata": {},
   "outputs": [
    {
     "data": {
      "text/html": [
       "<div>\n",
       "<style scoped>\n",
       "    .dataframe tbody tr th:only-of-type {\n",
       "        vertical-align: middle;\n",
       "    }\n",
       "\n",
       "    .dataframe tbody tr th {\n",
       "        vertical-align: top;\n",
       "    }\n",
       "\n",
       "    .dataframe thead th {\n",
       "        text-align: right;\n",
       "    }\n",
       "</style>\n",
       "<table border=\"1\" class=\"dataframe\">\n",
       "  <thead>\n",
       "    <tr style=\"text-align: right;\">\n",
       "      <th></th>\n",
       "      <th>Años de experiencia</th>\n",
       "      <th>¿Empleado?</th>\n",
       "      <th>Empleos previos</th>\n",
       "      <th>Nivel de educación</th>\n",
       "      <th>Educación de primer nivel</th>\n",
       "      <th>Intern</th>\n",
       "      <th>Contratado</th>\n",
       "    </tr>\n",
       "  </thead>\n",
       "  <tbody>\n",
       "    <tr>\n",
       "      <th>0</th>\n",
       "      <td>23</td>\n",
       "      <td>Sí</td>\n",
       "      <td>8</td>\n",
       "      <td>Lic</td>\n",
       "      <td>Sí</td>\n",
       "      <td>Sí</td>\n",
       "      <td>Sí</td>\n",
       "    </tr>\n",
       "    <tr>\n",
       "      <th>1</th>\n",
       "      <td>25</td>\n",
       "      <td>Sí</td>\n",
       "      <td>4</td>\n",
       "      <td>Lic</td>\n",
       "      <td>Sí</td>\n",
       "      <td>Sí</td>\n",
       "      <td>Sí</td>\n",
       "    </tr>\n",
       "    <tr>\n",
       "      <th>2</th>\n",
       "      <td>18</td>\n",
       "      <td>No</td>\n",
       "      <td>2</td>\n",
       "      <td>Lic</td>\n",
       "      <td>No</td>\n",
       "      <td>Sí</td>\n",
       "      <td>Sí</td>\n",
       "    </tr>\n",
       "    <tr>\n",
       "      <th>3</th>\n",
       "      <td>6</td>\n",
       "      <td>Sí</td>\n",
       "      <td>5</td>\n",
       "      <td>Bachi</td>\n",
       "      <td>No</td>\n",
       "      <td>No</td>\n",
       "      <td>No</td>\n",
       "    </tr>\n",
       "    <tr>\n",
       "      <th>4</th>\n",
       "      <td>11</td>\n",
       "      <td>Sí</td>\n",
       "      <td>3</td>\n",
       "      <td>Bachi</td>\n",
       "      <td>No</td>\n",
       "      <td>No</td>\n",
       "      <td>No</td>\n",
       "    </tr>\n",
       "  </tbody>\n",
       "</table>\n",
       "</div>"
      ],
      "text/plain": [
       "   Años de experiencia ¿Empleado?  Empleos previos Nivel de educación  \\\n",
       "0                   23         Sí                8                Lic   \n",
       "1                   25         Sí                4                Lic   \n",
       "2                   18         No                2                Lic   \n",
       "3                    6         Sí                5              Bachi   \n",
       "4                   11         Sí                3              Bachi   \n",
       "\n",
       "  Educación de primer nivel Intern Contratado  \n",
       "0                        Sí     Sí         Sí  \n",
       "1                        Sí     Sí         Sí  \n",
       "2                        No     Sí         Sí  \n",
       "3                        No     No         No  \n",
       "4                        No     No         No  "
      ]
     },
     "execution_count": 2,
     "metadata": {},
     "output_type": "execute_result"
    }
   ],
   "source": [
    "#Crear datos ficticios y leerlos guardados en DataFrame\n",
    "desempleo=pd.read_csv(\"Desempleo.csv\")\n",
    "desempleo.head()"
   ]
  },
  {
   "cell_type": "code",
   "execution_count": 3,
   "id": "2621d1ae",
   "metadata": {},
   "outputs": [
    {
     "data": {
      "text/html": [
       "<div>\n",
       "<style scoped>\n",
       "    .dataframe tbody tr th:only-of-type {\n",
       "        vertical-align: middle;\n",
       "    }\n",
       "\n",
       "    .dataframe tbody tr th {\n",
       "        vertical-align: top;\n",
       "    }\n",
       "\n",
       "    .dataframe thead th {\n",
       "        text-align: right;\n",
       "    }\n",
       "</style>\n",
       "<table border=\"1\" class=\"dataframe\">\n",
       "  <thead>\n",
       "    <tr style=\"text-align: right;\">\n",
       "      <th></th>\n",
       "      <th>Años de experiencia</th>\n",
       "      <th>¿Empleado?</th>\n",
       "      <th>Empleos previos</th>\n",
       "      <th>Nivel de educación</th>\n",
       "      <th>Educación de primer nivel</th>\n",
       "      <th>Intern</th>\n",
       "      <th>Contratado</th>\n",
       "    </tr>\n",
       "  </thead>\n",
       "  <tbody>\n",
       "    <tr>\n",
       "      <th>0</th>\n",
       "      <td>23</td>\n",
       "      <td>1</td>\n",
       "      <td>8</td>\n",
       "      <td>3</td>\n",
       "      <td>1</td>\n",
       "      <td>Sí</td>\n",
       "      <td>1</td>\n",
       "    </tr>\n",
       "    <tr>\n",
       "      <th>1</th>\n",
       "      <td>25</td>\n",
       "      <td>1</td>\n",
       "      <td>4</td>\n",
       "      <td>3</td>\n",
       "      <td>1</td>\n",
       "      <td>Sí</td>\n",
       "      <td>1</td>\n",
       "    </tr>\n",
       "    <tr>\n",
       "      <th>2</th>\n",
       "      <td>18</td>\n",
       "      <td>0</td>\n",
       "      <td>2</td>\n",
       "      <td>3</td>\n",
       "      <td>0</td>\n",
       "      <td>Sí</td>\n",
       "      <td>1</td>\n",
       "    </tr>\n",
       "    <tr>\n",
       "      <th>3</th>\n",
       "      <td>6</td>\n",
       "      <td>1</td>\n",
       "      <td>5</td>\n",
       "      <td>2</td>\n",
       "      <td>0</td>\n",
       "      <td>No</td>\n",
       "      <td>0</td>\n",
       "    </tr>\n",
       "    <tr>\n",
       "      <th>4</th>\n",
       "      <td>11</td>\n",
       "      <td>1</td>\n",
       "      <td>3</td>\n",
       "      <td>2</td>\n",
       "      <td>0</td>\n",
       "      <td>No</td>\n",
       "      <td>0</td>\n",
       "    </tr>\n",
       "  </tbody>\n",
       "</table>\n",
       "</div>"
      ],
      "text/plain": [
       "   Años de experiencia  ¿Empleado?  Empleos previos  Nivel de educación  \\\n",
       "0                   23           1                8                   3   \n",
       "1                   25           1                4                   3   \n",
       "2                   18           0                2                   3   \n",
       "3                    6           1                5                   2   \n",
       "4                   11           1                3                   2   \n",
       "\n",
       "   Educación de primer nivel Intern  Contratado  \n",
       "0                          1     Sí           1  \n",
       "1                          1     Sí           1  \n",
       "2                          0     Sí           1  \n",
       "3                          0     No           0  \n",
       "4                          0     No           0  "
      ]
     },
     "execution_count": 3,
     "metadata": {},
     "output_type": "execute_result"
    }
   ],
   "source": [
    "#convertir en variables dummy las categóricas\n",
    "d={\"Sí\":1,\"No\":0} #diccionario\n",
    "desempleo[\"¿Empleado?\"]=desempleo[\"¿Empleado?\"].map(d)\n",
    "desempleo[\"Contratado\"]=desempleo[\"Contratado\"].map(d)\n",
    "desempleo[\"Educación de primer nivel\"]=desempleo[\"Educación de primer nivel\"].map(d)\n",
    "#desempleo[\"Intern\"]=desempleo[\"Intern\"].map(d)\n",
    "d2={\"Prima\":0, \"Secu\":1,\"Bachi\":2,\"Lic\":3}\n",
    "desempleo[\"Nivel de educación\"]=desempleo[\"Nivel de educación\"].map(d2)\n",
    "desempleo.head()"
   ]
  },
  {
   "cell_type": "code",
   "execution_count": 4,
   "id": "854dc48a",
   "metadata": {},
   "outputs": [
    {
     "data": {
      "text/plain": [
       "['Años de experiencia',\n",
       " '¿Empleado?',\n",
       " 'Empleos previos',\n",
       " 'Nivel de educación',\n",
       " 'Educación de primer nivel']"
      ]
     },
     "execution_count": 4,
     "metadata": {},
     "output_type": "execute_result"
    }
   ],
   "source": [
    "#hacer el árbol sobre la colimna Contratado\n",
    "features=list(desempleo.columns[:5])\n",
    "features"
   ]
  },
  {
   "cell_type": "code",
   "execution_count": 5,
   "id": "a5163ce9",
   "metadata": {},
   "outputs": [],
   "source": [
    "y=desempleo[\"Contratado\"]\n",
    "X=desempleo[features]\n",
    "modelo=tree.DecisionTreeClassifier() #construcción modelo\n"
   ]
  },
  {
   "cell_type": "code",
   "execution_count": 6,
   "id": "c3a8eedc",
   "metadata": {},
   "outputs": [
    {
     "data": {
      "text/html": [
       "<div>\n",
       "<style scoped>\n",
       "    .dataframe tbody tr th:only-of-type {\n",
       "        vertical-align: middle;\n",
       "    }\n",
       "\n",
       "    .dataframe tbody tr th {\n",
       "        vertical-align: top;\n",
       "    }\n",
       "\n",
       "    .dataframe thead th {\n",
       "        text-align: right;\n",
       "    }\n",
       "</style>\n",
       "<table border=\"1\" class=\"dataframe\">\n",
       "  <thead>\n",
       "    <tr style=\"text-align: right;\">\n",
       "      <th></th>\n",
       "      <th>Años de experiencia</th>\n",
       "      <th>¿Empleado?</th>\n",
       "      <th>Empleos previos</th>\n",
       "      <th>Nivel de educación</th>\n",
       "      <th>Educación de primer nivel</th>\n",
       "    </tr>\n",
       "  </thead>\n",
       "  <tbody>\n",
       "    <tr>\n",
       "      <th>0</th>\n",
       "      <td>23</td>\n",
       "      <td>1</td>\n",
       "      <td>8</td>\n",
       "      <td>3</td>\n",
       "      <td>1</td>\n",
       "    </tr>\n",
       "    <tr>\n",
       "      <th>1</th>\n",
       "      <td>25</td>\n",
       "      <td>1</td>\n",
       "      <td>4</td>\n",
       "      <td>3</td>\n",
       "      <td>1</td>\n",
       "    </tr>\n",
       "    <tr>\n",
       "      <th>2</th>\n",
       "      <td>18</td>\n",
       "      <td>0</td>\n",
       "      <td>2</td>\n",
       "      <td>3</td>\n",
       "      <td>0</td>\n",
       "    </tr>\n",
       "    <tr>\n",
       "      <th>3</th>\n",
       "      <td>6</td>\n",
       "      <td>1</td>\n",
       "      <td>5</td>\n",
       "      <td>2</td>\n",
       "      <td>0</td>\n",
       "    </tr>\n",
       "    <tr>\n",
       "      <th>4</th>\n",
       "      <td>11</td>\n",
       "      <td>1</td>\n",
       "      <td>3</td>\n",
       "      <td>2</td>\n",
       "      <td>0</td>\n",
       "    </tr>\n",
       "  </tbody>\n",
       "</table>\n",
       "</div>"
      ],
      "text/plain": [
       "   Años de experiencia  ¿Empleado?  Empleos previos  Nivel de educación  \\\n",
       "0                   23           1                8                   3   \n",
       "1                   25           1                4                   3   \n",
       "2                   18           0                2                   3   \n",
       "3                    6           1                5                   2   \n",
       "4                   11           1                3                   2   \n",
       "\n",
       "   Educación de primer nivel  \n",
       "0                          1  \n",
       "1                          1  \n",
       "2                          0  \n",
       "3                          0  \n",
       "4                          0  "
      ]
     },
     "execution_count": 6,
     "metadata": {},
     "output_type": "execute_result"
    }
   ],
   "source": [
    "X.head()"
   ]
  },
  {
   "cell_type": "code",
   "execution_count": 7,
   "id": "5e73c1f8",
   "metadata": {},
   "outputs": [
    {
     "data": {
      "text/plain": [
       "0    1\n",
       "1    1\n",
       "2    1\n",
       "3    0\n",
       "4    0\n",
       "Name: Contratado, dtype: int64"
      ]
     },
     "execution_count": 7,
     "metadata": {},
     "output_type": "execute_result"
    }
   ],
   "source": [
    "y.head()"
   ]
  },
  {
   "cell_type": "code",
   "execution_count": 8,
   "id": "6ec5d488",
   "metadata": {},
   "outputs": [],
   "source": [
    "modelo=modelo.fit(X,y)"
   ]
  },
  {
   "cell_type": "code",
   "execution_count": null,
   "id": "3d39ad33",
   "metadata": {},
   "outputs": [],
   "source": [
    "from IPython.display import Image\n",
    "from six import StringIO\n",
    "import pydot\n",
    "\n",
    "dot_data=StringIO()\n",
    "tree.export_graphviz(modelo, out_file=dot_data,\n",
    "                    feature_names=features)\n",
    "graph=pydot.graph_from_dot_data(dot_data.getvalue())\n",
    "Image(graph.create_png())"
   ]
  },
  {
   "cell_type": "code",
   "execution_count": 17,
   "id": "d3875b43",
   "metadata": {
    "scrolled": true
   },
   "outputs": [
    {
     "name": "stdout",
     "output_type": "stream",
     "text": [
      "Collecting pydotNote: you may need to restart the kernel to use updated packages.\n",
      "\n",
      "  Downloading pydot-1.4.2-py2.py3-none-any.whl (21 kB)\n",
      "Requirement already satisfied: pyparsing>=2.1.4 in c:\\users\\kevin\\dropbox\\python 3.9\\lib\\site-packages (from pydot) (3.0.4)\n",
      "Installing collected packages: pydot\n",
      "Successfully installed pydot-1.4.2\n"
     ]
    }
   ],
   "source": [
    "pip install pydot\n"
   ]
  },
  {
   "cell_type": "code",
   "execution_count": null,
   "id": "45faa3a7",
   "metadata": {},
   "outputs": [],
   "source": [
    "#Hacer predicciones\n",
    "from sklearn.ensemble import RandomForestClassifier\n",
    "modelo2=RandomForestClassifier(n_estimators=10)\n",
    "modelo2=modelo2.fit(X,y)\n",
    "\n",
    "modelo2.predict([10,1,8,2,1])\n"
   ]
  },
  {
   "cell_type": "code",
   "execution_count": null,
   "id": "bc7eb7e8",
   "metadata": {},
   "outputs": [],
   "source": []
  }
 ],
 "metadata": {
  "kernelspec": {
   "display_name": "Python 3 (ipykernel)",
   "language": "python",
   "name": "python3"
  },
  "language_info": {
   "codemirror_mode": {
    "name": "ipython",
    "version": 3
   },
   "file_extension": ".py",
   "mimetype": "text/x-python",
   "name": "python",
   "nbconvert_exporter": "python",
   "pygments_lexer": "ipython3",
   "version": "3.9.12"
  }
 },
 "nbformat": 4,
 "nbformat_minor": 5
}
