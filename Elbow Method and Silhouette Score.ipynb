{
 "cells": [
  {
   "cell_type": "code",
   "execution_count": 3,
   "id": "b71011f1",
   "metadata": {},
   "outputs": [],
   "source": [
    "import pandas as pd, matplotlib.pyplot as plt, numpy as np\n",
    "from sklearn.cluster import KMeans\n",
    "from sklearn import metrics\n",
    "from scipy.spatial.distance import cdist\n",
    "from sklearn.metrics import silhouette_samples, silhouette_score"
   ]
  },
  {
   "cell_type": "code",
   "execution_count": 2,
   "id": "1df2cc65",
   "metadata": {},
   "outputs": [
    {
     "data": {
      "text/html": [
       "<div>\n",
       "<style scoped>\n",
       "    .dataframe tbody tr th:only-of-type {\n",
       "        vertical-align: middle;\n",
       "    }\n",
       "\n",
       "    .dataframe tbody tr th {\n",
       "        vertical-align: top;\n",
       "    }\n",
       "\n",
       "    .dataframe thead th {\n",
       "        text-align: right;\n",
       "    }\n",
       "</style>\n",
       "<table border=\"1\" class=\"dataframe\">\n",
       "  <thead>\n",
       "    <tr style=\"text-align: right;\">\n",
       "      <th></th>\n",
       "      <th>V1</th>\n",
       "      <th>V2</th>\n",
       "    </tr>\n",
       "  </thead>\n",
       "  <tbody>\n",
       "    <tr>\n",
       "      <th>0</th>\n",
       "      <td>3.62160</td>\n",
       "      <td>8.6661</td>\n",
       "    </tr>\n",
       "    <tr>\n",
       "      <th>1</th>\n",
       "      <td>4.54590</td>\n",
       "      <td>8.1674</td>\n",
       "    </tr>\n",
       "    <tr>\n",
       "      <th>2</th>\n",
       "      <td>3.86600</td>\n",
       "      <td>-2.6383</td>\n",
       "    </tr>\n",
       "    <tr>\n",
       "      <th>3</th>\n",
       "      <td>3.45660</td>\n",
       "      <td>9.5228</td>\n",
       "    </tr>\n",
       "    <tr>\n",
       "      <th>4</th>\n",
       "      <td>0.32924</td>\n",
       "      <td>-4.4552</td>\n",
       "    </tr>\n",
       "  </tbody>\n",
       "</table>\n",
       "</div>"
      ],
      "text/plain": [
       "        V1      V2\n",
       "0  3.62160  8.6661\n",
       "1  4.54590  8.1674\n",
       "2  3.86600 -2.6383\n",
       "3  3.45660  9.5228\n",
       "4  0.32924 -4.4552"
      ]
     },
     "execution_count": 2,
     "metadata": {},
     "output_type": "execute_result"
    }
   ],
   "source": [
    "bank=pd.read_csv(\"Banknote.csv\")\n",
    "bank.head()"
   ]
  },
  {
   "cell_type": "markdown",
   "id": "a8e8582e",
   "metadata": {},
   "source": [
    "Es importante saber cuántos clusters se van a ocupar en un modelo. En ocasiones no es fácil saberlo pero hay métodos que permiten saber cuántos clusters serían adecuados: Coeficiente de Silueta y el Método del Codo. \n",
    "\n",
    "### Coeficiente de Silueta\n",
    "\n",
    "Se define a $a(x)$ como la distancia promedio de $x$ a todos los demás puntos del cluster y a $b(x)$ como la distancia promedio de $x$ a todos los demás puntos en el cluster más cercano.\n",
    "\n",
    "$$s(x)=\\frac{b(x)-a(x)}{\\max[a(x),b(x)]}$$\n",
    "\n",
    "en donde $s(x)$ puede variar entre $-1$ y $1$.\n",
    "1. $-1$ si es mal agrupamiento\n",
    "2. $0$ si es indiferente\n",
    "3. $1$ si es un buen agrupamiento\n",
    "\n",
    "El coeficiente de la siluta para todo el agrupamiento es: $$S=\\frac{1}{N}\\sum_{i=1}^{N}s(x)$$"
   ]
  },
  {
   "cell_type": "code",
   "execution_count": 19,
   "id": "062c9193",
   "metadata": {},
   "outputs": [
    {
     "name": "stdout",
     "output_type": "stream",
     "text": [
      "[[  3.6216    8.6661 ]\n",
      " [  4.5459    8.1674 ]\n",
      " [  3.866    -2.6383 ]\n",
      " ...\n",
      " [ -3.7503  -13.4586 ]\n",
      " [ -3.5637   -8.3827 ]\n",
      " [ -2.5419   -0.65804]]\n"
     ]
    }
   ],
   "source": [
    "V1=bank[\"V1\"]\n",
    "V2=bank[\"V2\"]\n",
    "data=np.column_stack((V1, V2))\n",
    "print(data)"
   ]
  },
  {
   "cell_type": "code",
   "execution_count": 24,
   "id": "d222039d",
   "metadata": {},
   "outputs": [],
   "source": [
    "kmedia=KMeans(n_clusters=5).fit(data)\n"
   ]
  },
  {
   "cell_type": "code",
   "execution_count": 25,
   "id": "92d7bf43",
   "metadata": {},
   "outputs": [
    {
     "data": {
      "text/plain": [
       "array([[-3.18326453,  9.39405856],\n",
       "       [ 3.14866199, -1.91375834],\n",
       "       [ 2.72120945,  7.83283585],\n",
       "       [-2.32610626, -8.03243231],\n",
       "       [-0.58962695,  1.65799383]])"
      ]
     },
     "execution_count": 25,
     "metadata": {},
     "output_type": "execute_result"
    }
   ],
   "source": [
    "kmedia.cluster_centers_ #estos son los centroides\n"
   ]
  },
  {
   "cell_type": "code",
   "execution_count": 26,
   "id": "268e4994",
   "metadata": {},
   "outputs": [],
   "source": [
    "prediccion = kmedia.fit_predict(bank)\n"
   ]
  },
  {
   "cell_type": "code",
   "execution_count": 12,
   "id": "958f84ac",
   "metadata": {},
   "outputs": [
    {
     "name": "stdout",
     "output_type": "stream",
     "text": [
      "Coeficiente de Silueta(n=2): 0.43382839895806435\n"
     ]
    }
   ],
   "source": [
    "print(f'Coeficiente de Silueta(n=2): {silhouette_score(data, prediccion)}')\n"
   ]
  },
  {
   "cell_type": "code",
   "execution_count": 17,
   "id": "a4b2373f",
   "metadata": {},
   "outputs": [
    {
     "name": "stdout",
     "output_type": "stream",
     "text": [
      "Coeficiente de Silueta(n=3): 0.433647663481252\n"
     ]
    }
   ],
   "source": [
    "print(f'Coeficiente de Silueta(n=3): {silhouette_score(data, prediccion)}')\n"
   ]
  },
  {
   "cell_type": "code",
   "execution_count": 23,
   "id": "4fc8a92c",
   "metadata": {},
   "outputs": [
    {
     "name": "stdout",
     "output_type": "stream",
     "text": [
      "Coeficiente de Silueta(n=4): 0.40377406947354777\n"
     ]
    }
   ],
   "source": [
    "print(f'Coeficiente de Silueta(n=4): {silhouette_score(data, prediccion)}')\n"
   ]
  },
  {
   "cell_type": "code",
   "execution_count": 30,
   "id": "b9f48d2a",
   "metadata": {},
   "outputs": [
    {
     "name": "stdout",
     "output_type": "stream",
     "text": [
      "Coeficiente de Silueta(n=5): 0.41826059029727214\n"
     ]
    }
   ],
   "source": [
    "print(f'Coeficiente de Silueta(n=5): {silhouette_score(data, prediccion)}')\n"
   ]
  },
  {
   "cell_type": "markdown",
   "id": "992c3294",
   "metadata": {},
   "source": [
    "Entonces se puede decir que con $n=2$ se ajustan mejor los clusters."
   ]
  },
  {
   "cell_type": "markdown",
   "id": "30ebfc87",
   "metadata": {},
   "source": [
    "### Método del Codo\n",
    "\n",
    "Consiste en crear una gráfica con el número de clusters en el eje $x$ y el total dentro de la suma de los cuadrados en el eje $y$ y luego identificar dónde aparece un “codo” o curva en el gráfico. El punto en el eje $x$ donde aparezca el codo será el número ideal de clusters a utilizar."
   ]
  },
  {
   "cell_type": "code",
   "execution_count": 37,
   "id": "524d46a5",
   "metadata": {
    "scrolled": true
   },
   "outputs": [
    {
     "name": "stderr",
     "output_type": "stream",
     "text": [
      "C:\\Users\\kevin\\Dropbox\\Python 3.9\\lib\\site-packages\\sklearn\\cluster\\_kmeans.py:1036: UserWarning: KMeans is known to have a memory leak on Windows with MKL, when there are less chunks than available threads. You can avoid it by setting the environment variable OMP_NUM_THREADS=6.\n",
      "  warnings.warn(\n"
     ]
    },
    {
     "data": {
      "image/png": "[encoded data removed]",
      "text/plain": [
       "<Figure size 432x288 with 1 Axes>"
      ]
     },
     "metadata": {
      "needs_background": "light"
     },
     "output_type": "display_data"
    }
   ],
   "source": [
    "#inicio de los parámetros\n",
    "kmeans_parametros = {\n",
    "\"init\": \"random\",\n",
    "\"n_init\": 10,\n",
    "\"random_state\": 1,\n",
    "}\n",
    "\n",
    "#lista para la suma de errores al cuadrado\n",
    "sse = []\n",
    "for k in range(1, 11):\n",
    "    kmeans = KMeans(n_clusters=k, **kmeans_parametros)\n",
    "    kmeans.fit(data)\n",
    "    sse.append(kmeans.inertia_)\n",
    "\n",
    "#graficando\n",
    "plt.plot(range(1, 11), sse)\n",
    "plt.xticks(range(1, 11))\n",
    "plt.xlabel(\"Clusters\")\n",
    "plt.ylabel(\"Suma de errores al cuadrado\")\n",
    "plt.show()"
   ]
  },
  {
   "cell_type": "markdown",
   "id": "47f59f15",
   "metadata": {},
   "source": [
    "De igual forma que con el coeficiente de silueta, el número de clusters puede ser $2$ o $3$."
   ]
  }
 ],
 "metadata": {
  "kernelspec": {
   "display_name": "Python 3 (ipykernel)",
   "language": "python",
   "name": "python3"
  },
  "language_info": {
   "codemirror_mode": {
    "name": "ipython",
    "version": 3
   },
   "file_extension": ".py",
   "mimetype": "text/x-python",
   "name": "python",
   "nbconvert_exporter": "python",
   "pygments_lexer": "ipython3",
   "version": "3.9.12"
  }
 },
 "nbformat": 4,
 "nbformat_minor": 5
}
