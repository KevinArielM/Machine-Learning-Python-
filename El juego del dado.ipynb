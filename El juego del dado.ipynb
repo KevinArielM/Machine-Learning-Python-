{
 "cells": [
  {
   "cell_type": "code",
   "execution_count": 1,
   "id": "3fd30384",
   "metadata": {},
   "outputs": [],
   "source": [
    "import pandas as pd, numpy as np"
   ]
  },
  {
   "cell_type": "code",
   "execution_count": 7,
   "id": "9409bc76",
   "metadata": {},
   "outputs": [
    {
     "name": "stdout",
     "output_type": "stream",
     "text": [
      "Suma de los dados es 9\n"
     ]
    }
   ],
   "source": [
    "dado=pd.DataFrame([1,2,3,4,5,6])\n",
    "suma_dados=dado.sample(2, replace=True).sum().loc[0]\n",
    "print(\"Suma de los dados es\", suma_dados)"
   ]
  },
  {
   "cell_type": "code",
   "execution_count": 22,
   "id": "cda413e9",
   "metadata": {},
   "outputs": [
    {
     "name": "stdout",
     "output_type": "stream",
     "text": [
      "Suma de los tres dados es 11\n"
     ]
    }
   ],
   "source": [
    "np.random.seed(4) #fijar semilla\n",
    "sum_tres_dados = dado.sample(3,replace=True).sum().loc[0]\n",
    "print(\"Suma de los tres dados es\", sum_tres_dados)"
   ]
  },
  {
   "cell_type": "code",
   "execution_count": 26,
   "id": "42633072",
   "metadata": {},
   "outputs": [
    {
     "data": {
      "text/plain": [
       "[10, 5, 11, 6, 6, 10, 7, 10, 7, 8, 6, 7, 10, 3, 7, 11, 6, 7, 8, 8]"
      ]
     },
     "execution_count": 26,
     "metadata": {},
     "output_type": "execute_result"
    }
   ],
   "source": [
    "intento = 100 #considerando más intentos\n",
    "resultado=[dado.sample(2,replace=True).sum().loc[0] for i in range (intento)]\n",
    "resultado[:20]"
   ]
  }
 ],
 "metadata": {
  "kernelspec": {
   "display_name": "Python 3 (ipykernel)",
   "language": "python",
   "name": "python3"
  },
  "language_info": {
   "codemirror_mode": {
    "name": "ipython",
    "version": 3
   },
   "file_extension": ".py",
   "mimetype": "text/x-python",
   "name": "python",
   "nbconvert_exporter": "python",
   "pygments_lexer": "ipython3",
   "version": "3.9.12"
  }
 },
 "nbformat": 4,
 "nbformat_minor": 5
}
