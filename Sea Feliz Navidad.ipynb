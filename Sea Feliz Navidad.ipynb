{
 "cells": [
  {
   "cell_type": "markdown",
   "id": "6e74d589",
   "metadata": {},
   "source": [
    "Sea la Navidad del 2023, se intenta el siguiente código:"
   ]
  },
  {
   "cell_type": "code",
   "execution_count": 22,
   "id": "3ddf1e68",
   "metadata": {},
   "outputs": [],
   "source": [
    "import random\n",
    "\n",
    "class Color:\n",
    "    \n",
    "    reset=\"\\033[0m\"\n",
    "    rojo=\"\\033[91m\"\n",
    "    verde=\"\\033[92m\"\n",
    "    azul=\"\\033[94m\"\n",
    "    cafe=\"\\033[38;2;139;69;19m\""
   ]
  },
  {
   "cell_type": "code",
   "execution_count": 23,
   "id": "a6294eee",
   "metadata": {},
   "outputs": [
    {
     "name": "stdout",
     "output_type": "stream",
     "text": [
      "                 \u001b[92m^                 \n",
      "                \u001b[92m^^^                \n",
      "               \u001b[92m^^^^^               \n",
      "              \u001b[92m^^^^^^^              \n",
      "             \u001b[92m^^^^^^^^^             \n",
      "            \u001b[92m^^^^^^^^^^^            \n",
      "           \u001b[92m^^^^^^^^^^^^^           \n",
      "          \u001b[92m^^^^^^^^^^^^^^^          \n",
      "         \u001b[92m^^^^^^^^^^^^^^^^^         \n",
      "        \u001b[92m^^^^^^^^^^^^^^^^^^^        \n",
      "       \u001b[92m^^^^^^^^^^^^^^^^^^^^^       \n",
      "      \u001b[92m^^^^^^^^^^^^^^^^^^^^^^^      \n",
      "     \u001b[92m^^^^^^^^^^^^^^^^^^^^^^^^^     \n",
      "    \u001b[92m^^^^^^^^^^^^^^^^^^^^^^^^^^^    \n",
      "   \u001b[92m^^^^^^^^^^^^^^^^^^^^^^^^^^^^^   \n",
      "               \u001b[38;2;139;69;19m|||               \n",
      "     \u001b[91m-------------------------     \n",
      "          \u001b[0m¡Feliz Navidad!           \n",
      "     \u001b[91m-------------------------     \n",
      "               \u001b[38;2;139;69;19m|||               \n",
      "     \u001b[91m-------------------------     \n",
      "          \u001b[0m¡Feliz Navidad!           \n",
      "     \u001b[91m-------------------------     \n",
      "               \u001b[38;2;139;69;19m|||               \n",
      "     \u001b[91m-------------------------     \n",
      "          \u001b[0m¡Feliz Navidad!           \n",
      "     \u001b[91m-------------------------     \n"
     ]
    }
   ],
   "source": [
    "for i in range (1,30,2):\n",
    "    print((Color.verde+(\"^\"*i)).center(40))\n",
    "\n",
    "for leg in range(3):\n",
    "    print((Color.cafe+\"|||\").center(50))\n",
    "    print((Color.rojo+(\"-\"*25)).center(40))\n",
    "    print((Color.reset+\"¡Feliz Navidad!\").center(40))\n",
    "    print((Color.rojo+(\"-\"*25)).center(40))\n",
    "        \n",
    "    "
   ]
  }
 ],
 "metadata": {
  "kernelspec": {
   "display_name": "Python 3 (ipykernel)",
   "language": "python",
   "name": "python3"
  },
  "language_info": {
   "codemirror_mode": {
    "name": "ipython",
    "version": 3
   },
   "file_extension": ".py",
   "mimetype": "text/x-python",
   "name": "python",
   "nbconvert_exporter": "python",
   "pygments_lexer": "ipython3",
   "version": "3.9.12"
  }
 },
 "nbformat": 4,
 "nbformat_minor": 5
}
