{
 "cells": [
  {
   "cell_type": "code",
   "execution_count": 1,
   "id": "04855304",
   "metadata": {},
   "outputs": [],
   "source": [
    "import numpy as np\n",
    "import matplotlib.pyplot as plt\n"
   ]
  },
  {
   "cell_type": "code",
   "execution_count": 40,
   "id": "f7833ffa",
   "metadata": {},
   "outputs": [],
   "source": [
    "# Parámetros del proceso de Wiener\n",
    "mu = 0.2\n",
    "sigma = 0.2\n",
    "delta_t = 0.1\n",
    "num_steps = 20"
   ]
  },
  {
   "cell_type": "code",
   "execution_count": 41,
   "id": "27fec522",
   "metadata": {},
   "outputs": [],
   "source": [
    "# Inicialización\n",
    "X = np.zeros(num_steps + 1)"
   ]
  },
  {
   "cell_type": "code",
   "execution_count": 42,
   "id": "8fe08fcd",
   "metadata": {},
   "outputs": [],
   "source": [
    "# Simulación del proceso de Wiener\n",
    "for i in range(num_steps):\n",
    "    # Generar un valor aleatorio de la distribución normal estándar (Z)\n",
    "    Z = np.random.normal(0, 1)\n",
    "    \n",
    "    # Calcular la nueva posición utilizando el proceso de Wiener\n",
    "    X[i + 1] = X[i] + mu * delta_t + sigma * np.sqrt(delta_t) * Z"
   ]
  },
  {
   "cell_type": "code",
   "execution_count": 43,
   "id": "aa00af72",
   "metadata": {},
   "outputs": [],
   "source": [
    "# Mostrar resultados\n",
    "t = np.arange(0, (num_steps + 1) * delta_t, delta_t)\n"
   ]
  },
  {
   "cell_type": "code",
   "execution_count": 44,
   "id": "d7319ac7",
   "metadata": {},
   "outputs": [
    {
     "data": {
      "image/png": "[encoded data removed]",
      "text/plain": [
       "<Figure size 432x288 with 1 Axes>"
      ]
     },
     "metadata": {
      "needs_background": "light"
     },
     "output_type": "display_data"
    }
   ],
   "source": [
    "plt.plot(t, X, marker='o', linestyle='-', color='b')\n",
    "plt.title('Simulación del Proceso de Wiener')\n",
    "plt.xlabel('Tiempo')\n",
    "plt.ylabel('Posición')\n",
    "plt.show()"
   ]
  },
  {
   "cell_type": "code",
   "execution_count": null,
   "id": "f4193da1",
   "metadata": {},
   "outputs": [],
   "source": []
  },
  {
   "cell_type": "code",
   "execution_count": null,
   "id": "7ab97598",
   "metadata": {},
   "outputs": [],
   "source": []
  },
  {
   "cell_type": "code",
   "execution_count": null,
   "id": "87424bd6",
   "metadata": {},
   "outputs": [],
   "source": []
  },
  {
   "cell_type": "code",
   "execution_count": null,
   "id": "79779f4d",
   "metadata": {},
   "outputs": [],
   "source": []
  }
 ],
 "metadata": {
  "kernelspec": {
   "display_name": "Python 3 (ipykernel)",
   "language": "python",
   "name": "python3"
  },
  "language_info": {
   "codemirror_mode": {
    "name": "ipython",
    "version": 3
   },
   "file_extension": ".py",
   "mimetype": "text/x-python",
   "name": "python",
   "nbconvert_exporter": "python",
   "pygments_lexer": "ipython3",
   "version": "3.9.12"
  }
 },
 "nbformat": 4,
 "nbformat_minor": 5
}
