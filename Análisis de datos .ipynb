{
 "cells": [
  {
   "cell_type": "code",
   "execution_count": 45,
   "id": "9b7d5a96",
   "metadata": {},
   "outputs": [],
   "source": [
    "import pandas as pd, numpy as np\n",
    "from matplotlib import pyplot as plt\n"
   ]
  },
  {
   "cell_type": "code",
   "execution_count": 5,
   "id": "12bdd7cf",
   "metadata": {},
   "outputs": [
    {
     "data": {
      "text/html": [
       "<div>\n",
       "<style scoped>\n",
       "    .dataframe tbody tr th:only-of-type {\n",
       "        vertical-align: middle;\n",
       "    }\n",
       "\n",
       "    .dataframe tbody tr th {\n",
       "        vertical-align: top;\n",
       "    }\n",
       "\n",
       "    .dataframe thead th {\n",
       "        text-align: right;\n",
       "    }\n",
       "</style>\n",
       "<table border=\"1\" class=\"dataframe\">\n",
       "  <thead>\n",
       "    <tr style=\"text-align: right;\">\n",
       "      <th></th>\n",
       "      <th>Draw Date</th>\n",
       "      <th>Winning Numbers</th>\n",
       "      <th>Mega Ball</th>\n",
       "      <th>Multiplier</th>\n",
       "    </tr>\n",
       "  </thead>\n",
       "  <tbody>\n",
       "    <tr>\n",
       "      <th>0</th>\n",
       "      <td>09/25/2020</td>\n",
       "      <td>20 36 37 48 67</td>\n",
       "      <td>16</td>\n",
       "      <td>2.0</td>\n",
       "    </tr>\n",
       "    <tr>\n",
       "      <th>1</th>\n",
       "      <td>09/29/2020</td>\n",
       "      <td>14 39 43 44 67</td>\n",
       "      <td>19</td>\n",
       "      <td>3.0</td>\n",
       "    </tr>\n",
       "    <tr>\n",
       "      <th>2</th>\n",
       "      <td>10/02/2020</td>\n",
       "      <td>09 38 47 49 68</td>\n",
       "      <td>25</td>\n",
       "      <td>2.0</td>\n",
       "    </tr>\n",
       "    <tr>\n",
       "      <th>3</th>\n",
       "      <td>10/06/2020</td>\n",
       "      <td>15 16 18 39 59</td>\n",
       "      <td>17</td>\n",
       "      <td>3.0</td>\n",
       "    </tr>\n",
       "    <tr>\n",
       "      <th>4</th>\n",
       "      <td>10/09/2020</td>\n",
       "      <td>05 11 25 27 64</td>\n",
       "      <td>13</td>\n",
       "      <td>2.0</td>\n",
       "    </tr>\n",
       "  </tbody>\n",
       "</table>\n",
       "</div>"
      ],
      "text/plain": [
       "    Draw Date Winning Numbers  Mega Ball  Multiplier\n",
       "0  09/25/2020  20 36 37 48 67         16         2.0\n",
       "1  09/29/2020  14 39 43 44 67         19         3.0\n",
       "2  10/02/2020  09 38 47 49 68         25         2.0\n",
       "3  10/06/2020  15 16 18 39 59         17         3.0\n",
       "4  10/09/2020  05 11 25 27 64         13         2.0"
      ]
     },
     "execution_count": 5,
     "metadata": {},
     "output_type": "execute_result"
    }
   ],
   "source": [
    "datos=pd.read_csv(\"Lottery_Mega_Millions_Winning_Numbers__Beginning_2002.csv\")\n",
    "datos.head() #datos de ganadores de la loteria en EU."
   ]
  },
  {
   "cell_type": "code",
   "execution_count": 7,
   "id": "4d235844",
   "metadata": {},
   "outputs": [
    {
     "name": "stdout",
     "output_type": "stream",
     "text": [
      "    Draw Date Winning Numbers  Mega Ball  Multiplier\n",
      "0  09/25/2020  20 36 37 48 67         16         2.0\n",
      "1  09/29/2020  14 39 43 44 67         19         3.0\n",
      "2  10/02/2020  09 38 47 49 68         25         2.0\n",
      "3  10/06/2020  15 16 18 39 59         17         3.0\n",
      "4  10/09/2020  05 11 25 27 64         13         2.0\n"
     ]
    }
   ],
   "source": [
    "print(datos.head())"
   ]
  },
  {
   "cell_type": "code",
   "execution_count": 12,
   "id": "573f2751",
   "metadata": {},
   "outputs": [
    {
     "data": {
      "text/plain": [
       "(2179, 4)"
      ]
     },
     "execution_count": 12,
     "metadata": {},
     "output_type": "execute_result"
    }
   ],
   "source": [
    "datos.shape #dimensión"
   ]
  },
  {
   "cell_type": "code",
   "execution_count": 14,
   "id": "b8922412",
   "metadata": {},
   "outputs": [],
   "source": [
    "mínima_megabola=datos[\"Mega Ball\"].min()\n",
    "máxima_megabola=datos[\"Mega Ball\"].max()"
   ]
  },
  {
   "cell_type": "code",
   "execution_count": 16,
   "id": "afd55fef",
   "metadata": {},
   "outputs": [
    {
     "name": "stdout",
     "output_type": "stream",
     "text": [
      "1\n",
      "52\n"
     ]
    }
   ],
   "source": [
    "print(mínima_megabola)\n",
    "print(máxima_megabola)"
   ]
  },
  {
   "cell_type": "code",
   "execution_count": 18,
   "id": "5fc1021e",
   "metadata": {},
   "outputs": [],
   "source": [
    "#localización \n",
    "id_mínima_megabola=datos[\"Mega Ball\"].idxmin()\n",
    "id_máxima_megabola=datos[\"Mega Ball\"].idxmax() "
   ]
  },
  {
   "cell_type": "code",
   "execution_count": 19,
   "id": "580912c0",
   "metadata": {},
   "outputs": [
    {
     "name": "stdout",
     "output_type": "stream",
     "text": [
      "9\n",
      "1725\n"
     ]
    }
   ],
   "source": [
    "print(id_mínima_megabola)\n",
    "print(id_máxima_megabola)"
   ]
  },
  {
   "cell_type": "code",
   "execution_count": 25,
   "id": "ad3f3861",
   "metadata": {},
   "outputs": [
    {
     "name": "stdout",
     "output_type": "stream",
     "text": [
      "    Draw Date Winning Numbers  Mega Ball  Multiplier\n",
      "9  10/27/2020  06 13 34 46 62          1         3.0\n",
      "       Draw Date Winning Numbers  Mega Ball  Multiplier\n",
      "1725  10/01/2004  08 10 17 24 39         52         NaN\n"
     ]
    },
    {
     "data": {
      "text/plain": [
       "(None, None)"
      ]
     },
     "execution_count": 25,
     "metadata": {},
     "output_type": "execute_result"
    }
   ],
   "source": [
    "#comprobación del id\n",
    "\n",
    "\n",
    "print(datos.loc[[9]]), print(datos.loc[[1725]])"
   ]
  },
  {
   "cell_type": "code",
   "execution_count": 29,
   "id": "c2e68e83",
   "metadata": {},
   "outputs": [
    {
     "data": {
      "text/html": [
       "<div>\n",
       "<style scoped>\n",
       "    .dataframe tbody tr th:only-of-type {\n",
       "        vertical-align: middle;\n",
       "    }\n",
       "\n",
       "    .dataframe tbody tr th {\n",
       "        vertical-align: top;\n",
       "    }\n",
       "\n",
       "    .dataframe thead th {\n",
       "        text-align: right;\n",
       "    }\n",
       "</style>\n",
       "<table border=\"1\" class=\"dataframe\">\n",
       "  <thead>\n",
       "    <tr style=\"text-align: right;\">\n",
       "      <th></th>\n",
       "      <th>Multiplier</th>\n",
       "    </tr>\n",
       "    <tr>\n",
       "      <th>Mega Ball</th>\n",
       "      <th></th>\n",
       "    </tr>\n",
       "  </thead>\n",
       "  <tbody>\n",
       "    <tr>\n",
       "      <th>1</th>\n",
       "      <td>3.568966</td>\n",
       "    </tr>\n",
       "    <tr>\n",
       "      <th>2</th>\n",
       "      <td>3.468085</td>\n",
       "    </tr>\n",
       "    <tr>\n",
       "      <th>3</th>\n",
       "      <td>3.500000</td>\n",
       "    </tr>\n",
       "    <tr>\n",
       "      <th>4</th>\n",
       "      <td>3.233333</td>\n",
       "    </tr>\n",
       "    <tr>\n",
       "      <th>5</th>\n",
       "      <td>3.511111</td>\n",
       "    </tr>\n",
       "  </tbody>\n",
       "</table>\n",
       "</div>"
      ],
      "text/plain": [
       "           Multiplier\n",
       "Mega Ball            \n",
       "1            3.568966\n",
       "2            3.468085\n",
       "3            3.500000\n",
       "4            3.233333\n",
       "5            3.511111"
      ]
     },
     "execution_count": 29,
     "metadata": {},
     "output_type": "execute_result"
    }
   ],
   "source": [
    "#datos promedio por bola\n",
    "datos_promedio=datos.groupby([\"Mega Ball\"]).mean()\n",
    "datos_promedio.head()"
   ]
  },
  {
   "cell_type": "code",
   "execution_count": 36,
   "id": "8965d4d5",
   "metadata": {},
   "outputs": [],
   "source": [
    "plt.rcParams[\"figure.figsize\"]=[12,7] #dimensión del gráfico"
   ]
  },
  {
   "cell_type": "code",
   "execution_count": 38,
   "id": "6d19207b",
   "metadata": {},
   "outputs": [
    {
     "data": {
      "text/plain": [
       "<AxesSubplot:xlabel='Mega Ball'>"
      ]
     },
     "execution_count": 38,
     "metadata": {},
     "output_type": "execute_result"
    },
    {
     "data": {
      "image/png": "[encoded data removed]",
      "text/plain": [
       "<Figure size 864x504 with 1 Axes>"
      ]
     },
     "metadata": {
      "needs_background": "light"
     },
     "output_type": "display_data"
    }
   ],
   "source": [
    "datos_promedio.plot.bar(color=\"r\",alpha=.6) #gráfica de barras"
   ]
  },
  {
   "cell_type": "code",
   "execution_count": 40,
   "id": "7976fc4c",
   "metadata": {},
   "outputs": [
    {
     "data": {
      "text/plain": [
       "<AxesSubplot:xlabel='Mega Ball'>"
      ]
     },
     "execution_count": 40,
     "metadata": {},
     "output_type": "execute_result"
    },
    {
     "data": {
      "image/png": "[encoded data removed]",
      "text/plain": [
       "<Figure size 864x504 with 1 Axes>"
      ]
     },
     "metadata": {
      "needs_background": "light"
     },
     "output_type": "display_data"
    }
   ],
   "source": [
    "datos_promedio.plot(color=\"r\",alpha=.6) #gráfica de líneas "
   ]
  },
  {
   "cell_type": "code",
   "execution_count": 49,
   "id": "bedb3b3d",
   "metadata": {},
   "outputs": [
    {
     "data": {
      "image/png": "[encoded data removed]",
      "text/plain": [
       "<Figure size 864x576 with 2 Axes>"
      ]
     },
     "metadata": {
      "needs_background": "light"
     },
     "output_type": "display_data"
    }
   ],
   "source": [
    "f=plt.figure(figsize=(12,8)) #correlaciones entre las dos primeras columnas\n",
    "plt.matshow(datos.corr(),fignum=f.number)\n",
    "plt.xticks(range(datos.shape[1]), datos.columns, fontsize=14, rotation=45)\n",
    "plt.yticks(range(datos.shape[1]), datos.columns, fontsize=14)\n",
    "cb=plt.colorbar()\n",
    "cb.ax.tick_params(labelsize=14);"
   ]
  }
 ],
 "metadata": {
  "kernelspec": {
   "display_name": "Python 3 (ipykernel)",
   "language": "python",
   "name": "python3"
  },
  "language_info": {
   "codemirror_mode": {
    "name": "ipython",
    "version": 3
   },
   "file_extension": ".py",
   "mimetype": "text/x-python",
   "name": "python",
   "nbconvert_exporter": "python",
   "pygments_lexer": "ipython3",
   "version": "3.9.12"
  }
 },
 "nbformat": 4,
 "nbformat_minor": 5
}
