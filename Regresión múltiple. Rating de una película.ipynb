{
 "cells": [
  {
   "cell_type": "code",
   "execution_count": 2,
   "id": "49d58f63",
   "metadata": {},
   "outputs": [],
   "source": [
    "import pandas as pd, numpy as np, matplotlib.pyplot as plt"
   ]
  },
  {
   "cell_type": "code",
   "execution_count": 3,
   "id": "dd29acfe",
   "metadata": {},
   "outputs": [
    {
     "data": {
      "text/html": [
       "<div>\n",
       "<style scoped>\n",
       "    .dataframe tbody tr th:only-of-type {\n",
       "        vertical-align: middle;\n",
       "    }\n",
       "\n",
       "    .dataframe tbody tr th {\n",
       "        vertical-align: top;\n",
       "    }\n",
       "\n",
       "    .dataframe thead th {\n",
       "        text-align: right;\n",
       "    }\n",
       "</style>\n",
       "<table border=\"1\" class=\"dataframe\">\n",
       "  <thead>\n",
       "    <tr style=\"text-align: right;\">\n",
       "      <th></th>\n",
       "      <th>Poster_Link</th>\n",
       "      <th>Series_Title</th>\n",
       "      <th>Released_Year</th>\n",
       "      <th>Certificate</th>\n",
       "      <th>Runtime</th>\n",
       "      <th>Genre</th>\n",
       "      <th>IMDB_Rating</th>\n",
       "      <th>Overview</th>\n",
       "      <th>Meta_score</th>\n",
       "      <th>Director</th>\n",
       "      <th>Star1</th>\n",
       "      <th>Star2</th>\n",
       "      <th>Star3</th>\n",
       "      <th>Star4</th>\n",
       "      <th>No_of_Votes</th>\n",
       "      <th>Gross</th>\n",
       "    </tr>\n",
       "  </thead>\n",
       "  <tbody>\n",
       "    <tr>\n",
       "      <th>0</th>\n",
       "      <td>https://m.media-amazon.com/images/M/MV5BMDFkYT...</td>\n",
       "      <td>The Shawshank Redemption</td>\n",
       "      <td>1994</td>\n",
       "      <td>A</td>\n",
       "      <td>142 min</td>\n",
       "      <td>Drama</td>\n",
       "      <td>9.3</td>\n",
       "      <td>Two imprisoned men bond over a number of years...</td>\n",
       "      <td>80.0</td>\n",
       "      <td>Frank Darabont</td>\n",
       "      <td>Tim Robbins</td>\n",
       "      <td>Morgan Freeman</td>\n",
       "      <td>Bob Gunton</td>\n",
       "      <td>William Sadler</td>\n",
       "      <td>2343110</td>\n",
       "      <td>28,341,469</td>\n",
       "    </tr>\n",
       "    <tr>\n",
       "      <th>1</th>\n",
       "      <td>https://m.media-amazon.com/images/M/MV5BM2MyNj...</td>\n",
       "      <td>The Godfather</td>\n",
       "      <td>1972</td>\n",
       "      <td>A</td>\n",
       "      <td>175 min</td>\n",
       "      <td>Crime, Drama</td>\n",
       "      <td>9.2</td>\n",
       "      <td>An organized crime dynasty's aging patriarch t...</td>\n",
       "      <td>100.0</td>\n",
       "      <td>Francis Ford Coppola</td>\n",
       "      <td>Marlon Brando</td>\n",
       "      <td>Al Pacino</td>\n",
       "      <td>James Caan</td>\n",
       "      <td>Diane Keaton</td>\n",
       "      <td>1620367</td>\n",
       "      <td>134,966,411</td>\n",
       "    </tr>\n",
       "    <tr>\n",
       "      <th>2</th>\n",
       "      <td>https://m.media-amazon.com/images/M/MV5BMTMxNT...</td>\n",
       "      <td>The Dark Knight</td>\n",
       "      <td>2008</td>\n",
       "      <td>UA</td>\n",
       "      <td>152 min</td>\n",
       "      <td>Action, Crime, Drama</td>\n",
       "      <td>9.0</td>\n",
       "      <td>When the menace known as the Joker wreaks havo...</td>\n",
       "      <td>84.0</td>\n",
       "      <td>Christopher Nolan</td>\n",
       "      <td>Christian Bale</td>\n",
       "      <td>Heath Ledger</td>\n",
       "      <td>Aaron Eckhart</td>\n",
       "      <td>Michael Caine</td>\n",
       "      <td>2303232</td>\n",
       "      <td>534,858,444</td>\n",
       "    </tr>\n",
       "    <tr>\n",
       "      <th>3</th>\n",
       "      <td>https://m.media-amazon.com/images/M/MV5BMWMwMG...</td>\n",
       "      <td>The Godfather: Part II</td>\n",
       "      <td>1974</td>\n",
       "      <td>A</td>\n",
       "      <td>202 min</td>\n",
       "      <td>Crime, Drama</td>\n",
       "      <td>9.0</td>\n",
       "      <td>The early life and career of Vito Corleone in ...</td>\n",
       "      <td>90.0</td>\n",
       "      <td>Francis Ford Coppola</td>\n",
       "      <td>Al Pacino</td>\n",
       "      <td>Robert De Niro</td>\n",
       "      <td>Robert Duvall</td>\n",
       "      <td>Diane Keaton</td>\n",
       "      <td>1129952</td>\n",
       "      <td>57,300,000</td>\n",
       "    </tr>\n",
       "    <tr>\n",
       "      <th>4</th>\n",
       "      <td>https://m.media-amazon.com/images/M/MV5BMWU4N2...</td>\n",
       "      <td>12 Angry Men</td>\n",
       "      <td>1957</td>\n",
       "      <td>U</td>\n",
       "      <td>96 min</td>\n",
       "      <td>Crime, Drama</td>\n",
       "      <td>9.0</td>\n",
       "      <td>A jury holdout attempts to prevent a miscarria...</td>\n",
       "      <td>96.0</td>\n",
       "      <td>Sidney Lumet</td>\n",
       "      <td>Henry Fonda</td>\n",
       "      <td>Lee J. Cobb</td>\n",
       "      <td>Martin Balsam</td>\n",
       "      <td>John Fiedler</td>\n",
       "      <td>689845</td>\n",
       "      <td>4,360,000</td>\n",
       "    </tr>\n",
       "  </tbody>\n",
       "</table>\n",
       "</div>"
      ],
      "text/plain": [
       "                                         Poster_Link  \\\n",
       "0  https://m.media-amazon.com/images/M/MV5BMDFkYT...   \n",
       "1  https://m.media-amazon.com/images/M/MV5BM2MyNj...   \n",
       "2  https://m.media-amazon.com/images/M/MV5BMTMxNT...   \n",
       "3  https://m.media-amazon.com/images/M/MV5BMWMwMG...   \n",
       "4  https://m.media-amazon.com/images/M/MV5BMWU4N2...   \n",
       "\n",
       "               Series_Title  Released_Year Certificate  Runtime  \\\n",
       "0  The Shawshank Redemption           1994           A  142 min   \n",
       "1             The Godfather           1972           A  175 min   \n",
       "2           The Dark Knight           2008          UA  152 min   \n",
       "3    The Godfather: Part II           1974           A  202 min   \n",
       "4              12 Angry Men           1957           U   96 min   \n",
       "\n",
       "                  Genre  IMDB_Rating  \\\n",
       "0                 Drama          9.3   \n",
       "1          Crime, Drama          9.2   \n",
       "2  Action, Crime, Drama          9.0   \n",
       "3          Crime, Drama          9.0   \n",
       "4          Crime, Drama          9.0   \n",
       "\n",
       "                                            Overview  Meta_score  \\\n",
       "0  Two imprisoned men bond over a number of years...        80.0   \n",
       "1  An organized crime dynasty's aging patriarch t...       100.0   \n",
       "2  When the menace known as the Joker wreaks havo...        84.0   \n",
       "3  The early life and career of Vito Corleone in ...        90.0   \n",
       "4  A jury holdout attempts to prevent a miscarria...        96.0   \n",
       "\n",
       "               Director           Star1           Star2          Star3  \\\n",
       "0        Frank Darabont     Tim Robbins  Morgan Freeman     Bob Gunton   \n",
       "1  Francis Ford Coppola   Marlon Brando       Al Pacino     James Caan   \n",
       "2     Christopher Nolan  Christian Bale    Heath Ledger  Aaron Eckhart   \n",
       "3  Francis Ford Coppola       Al Pacino  Robert De Niro  Robert Duvall   \n",
       "4          Sidney Lumet     Henry Fonda     Lee J. Cobb  Martin Balsam   \n",
       "\n",
       "            Star4  No_of_Votes        Gross  \n",
       "0  William Sadler      2343110   28,341,469  \n",
       "1    Diane Keaton      1620367  134,966,411  \n",
       "2   Michael Caine      2303232  534,858,444  \n",
       "3    Diane Keaton      1129952   57,300,000  \n",
       "4    John Fiedler       689845    4,360,000  "
      ]
     },
     "execution_count": 3,
     "metadata": {},
     "output_type": "execute_result"
    }
   ],
   "source": [
    "pelis=pd.read_csv(\"imdb_top_1000.csv\")\n",
    "pelis.head()"
   ]
  },
  {
   "cell_type": "code",
   "execution_count": 4,
   "id": "b87e96ec",
   "metadata": {},
   "outputs": [
    {
     "data": {
      "text/html": [
       "<div>\n",
       "<style scoped>\n",
       "    .dataframe tbody tr th:only-of-type {\n",
       "        vertical-align: middle;\n",
       "    }\n",
       "\n",
       "    .dataframe tbody tr th {\n",
       "        vertical-align: top;\n",
       "    }\n",
       "\n",
       "    .dataframe thead th {\n",
       "        text-align: right;\n",
       "    }\n",
       "</style>\n",
       "<table border=\"1\" class=\"dataframe\">\n",
       "  <thead>\n",
       "    <tr style=\"text-align: right;\">\n",
       "      <th></th>\n",
       "      <th>Released_Year</th>\n",
       "      <th>IMDB_Rating</th>\n",
       "      <th>No_of_Votes</th>\n",
       "    </tr>\n",
       "  </thead>\n",
       "  <tbody>\n",
       "    <tr>\n",
       "      <th>0</th>\n",
       "      <td>1994</td>\n",
       "      <td>9.3</td>\n",
       "      <td>2343110</td>\n",
       "    </tr>\n",
       "    <tr>\n",
       "      <th>1</th>\n",
       "      <td>1972</td>\n",
       "      <td>9.2</td>\n",
       "      <td>1620367</td>\n",
       "    </tr>\n",
       "    <tr>\n",
       "      <th>2</th>\n",
       "      <td>2008</td>\n",
       "      <td>9.0</td>\n",
       "      <td>2303232</td>\n",
       "    </tr>\n",
       "    <tr>\n",
       "      <th>3</th>\n",
       "      <td>1974</td>\n",
       "      <td>9.0</td>\n",
       "      <td>1129952</td>\n",
       "    </tr>\n",
       "    <tr>\n",
       "      <th>4</th>\n",
       "      <td>1957</td>\n",
       "      <td>9.0</td>\n",
       "      <td>689845</td>\n",
       "    </tr>\n",
       "  </tbody>\n",
       "</table>\n",
       "</div>"
      ],
      "text/plain": [
       "   Released_Year  IMDB_Rating  No_of_Votes\n",
       "0           1994          9.3      2343110\n",
       "1           1972          9.2      1620367\n",
       "2           2008          9.0      2303232\n",
       "3           1974          9.0      1129952\n",
       "4           1957          9.0       689845"
      ]
     },
     "execution_count": 4,
     "metadata": {},
     "output_type": "execute_result"
    }
   ],
   "source": [
    "datos_columna=pd.read_csv(\"imdb_top_1000.csv\", usecols=[\"Released_Year\",\"IMDB_Rating\",\"No_of_Votes\"])\n",
    "datos_columna.head()"
   ]
  },
  {
   "cell_type": "code",
   "execution_count": 84,
   "id": "a98e07bb",
   "metadata": {},
   "outputs": [],
   "source": [
    "#Idea\n",
    "#Por género cuántas peliculas hay en el top y su media de calificación\n",
    "\n",
    "#pelis_propiedades=pelis.groupby(\"Genre\").agg({\"IMDB_Rating\":[np.size,np.mean]})\n",
    "#pelis_propiedades"
   ]
  },
  {
   "cell_type": "code",
   "execution_count": 83,
   "id": "eefebe36",
   "metadata": {},
   "outputs": [],
   "source": [
    "#Idea\n",
    "#Hacer escala de datos para preparar el modelo\n",
    "\n",
    "#rating_genero=pd.DataFrame(pelis_propiedades[\"IMDB_Rating\"][\"size\"])\n",
    "#pelis_escaladas=rating_genero.apply(lambda x: (x-np.min(x))/(np.max(x)-np.min(x)))\n",
    "#pelis_escaladas.head()\n"
   ]
  },
  {
   "cell_type": "code",
   "execution_count": 6,
   "id": "c3f71696",
   "metadata": {},
   "outputs": [],
   "source": [
    "#En el modelo se eliminaron variables categóricas\n",
    "from sklearn.model_selection import train_test_split\n",
    "x_train, x_,y_train,y_=train_test_split(datos_columna,datos_columna.IMDB_Rating,test_size=.3)\n",
    "x_val,x_test, y_val, y_test=train_test_split(x_,y_,test_size=.3)"
   ]
  },
  {
   "cell_type": "code",
   "execution_count": 7,
   "id": "b3eb7a17",
   "metadata": {},
   "outputs": [
    {
     "data": {
      "text/html": [
       "<div>\n",
       "<style scoped>\n",
       "    .dataframe tbody tr th:only-of-type {\n",
       "        vertical-align: middle;\n",
       "    }\n",
       "\n",
       "    .dataframe tbody tr th {\n",
       "        vertical-align: top;\n",
       "    }\n",
       "\n",
       "    .dataframe thead th {\n",
       "        text-align: right;\n",
       "    }\n",
       "</style>\n",
       "<table border=\"1\" class=\"dataframe\">\n",
       "  <thead>\n",
       "    <tr style=\"text-align: right;\">\n",
       "      <th></th>\n",
       "      <th>Released_Year</th>\n",
       "      <th>IMDB_Rating</th>\n",
       "      <th>No_of_Votes</th>\n",
       "    </tr>\n",
       "  </thead>\n",
       "  <tbody>\n",
       "    <tr>\n",
       "      <th>133</th>\n",
       "      <td>2015</td>\n",
       "      <td>8.2</td>\n",
       "      <td>31142</td>\n",
       "    </tr>\n",
       "    <tr>\n",
       "      <th>595</th>\n",
       "      <td>2013</td>\n",
       "      <td>7.8</td>\n",
       "      <td>73690</td>\n",
       "    </tr>\n",
       "    <tr>\n",
       "      <th>711</th>\n",
       "      <td>1944</td>\n",
       "      <td>7.8</td>\n",
       "      <td>31053</td>\n",
       "    </tr>\n",
       "    <tr>\n",
       "      <th>459</th>\n",
       "      <td>1939</td>\n",
       "      <td>8.0</td>\n",
       "      <td>26725</td>\n",
       "    </tr>\n",
       "    <tr>\n",
       "      <th>328</th>\n",
       "      <td>2016</td>\n",
       "      <td>8.0</td>\n",
       "      <td>213970</td>\n",
       "    </tr>\n",
       "    <tr>\n",
       "      <th>...</th>\n",
       "      <td>...</td>\n",
       "      <td>...</td>\n",
       "      <td>...</td>\n",
       "    </tr>\n",
       "    <tr>\n",
       "      <th>143</th>\n",
       "      <td>2009</td>\n",
       "      <td>8.2</td>\n",
       "      <td>193217</td>\n",
       "    </tr>\n",
       "    <tr>\n",
       "      <th>886</th>\n",
       "      <td>2015</td>\n",
       "      <td>7.6</td>\n",
       "      <td>35785</td>\n",
       "    </tr>\n",
       "    <tr>\n",
       "      <th>273</th>\n",
       "      <td>1982</td>\n",
       "      <td>8.1</td>\n",
       "      <td>31595</td>\n",
       "    </tr>\n",
       "    <tr>\n",
       "      <th>385</th>\n",
       "      <td>1999</td>\n",
       "      <td>8.0</td>\n",
       "      <td>82002</td>\n",
       "    </tr>\n",
       "    <tr>\n",
       "      <th>597</th>\n",
       "      <td>2013</td>\n",
       "      <td>7.8</td>\n",
       "      <td>108399</td>\n",
       "    </tr>\n",
       "  </tbody>\n",
       "</table>\n",
       "<p>700 rows × 3 columns</p>\n",
       "</div>"
      ],
      "text/plain": [
       "     Released_Year  IMDB_Rating  No_of_Votes\n",
       "133           2015          8.2        31142\n",
       "595           2013          7.8        73690\n",
       "711           1944          7.8        31053\n",
       "459           1939          8.0        26725\n",
       "328           2016          8.0       213970\n",
       "..             ...          ...          ...\n",
       "143           2009          8.2       193217\n",
       "886           2015          7.6        35785\n",
       "273           1982          8.1        31595\n",
       "385           1999          8.0        82002\n",
       "597           2013          7.8       108399\n",
       "\n",
       "[700 rows x 3 columns]"
      ]
     },
     "execution_count": 7,
     "metadata": {},
     "output_type": "execute_result"
    }
   ],
   "source": [
    "x_train"
   ]
  },
  {
   "cell_type": "code",
   "execution_count": 93,
   "id": "d1320e1c",
   "metadata": {},
   "outputs": [
    {
     "data": {
      "text/plain": [
       "<AxesSubplot:>"
      ]
     },
     "execution_count": 93,
     "metadata": {},
     "output_type": "execute_result"
    },
    {
     "data": {
      "image/png": "[encoded data removed]",
      "text/plain": [
       "<Figure size 1800x720 with 2 Axes>"
      ]
     },
     "metadata": {
      "needs_background": "light"
     },
     "output_type": "display_data"
    }
   ],
   "source": [
    "#Datos faltantes\n",
    "import missingno as msno\n",
    "msno.matrix(datos_columna)"
   ]
  },
  {
   "cell_type": "code",
   "execution_count": 95,
   "id": "b4f01f48",
   "metadata": {},
   "outputs": [
    {
     "data": {
      "text/plain": [
       "<AxesSubplot:>"
      ]
     },
     "execution_count": 95,
     "metadata": {},
     "output_type": "execute_result"
    },
    {
     "data": {
      "image/png": "[encoded data removed]",
      "text/plain": [
       "<Figure size 1800x720 with 3 Axes>"
      ]
     },
     "metadata": {
      "needs_background": "light"
     },
     "output_type": "display_data"
    }
   ],
   "source": [
    "msno.bar(datos_columna)"
   ]
  },
  {
   "cell_type": "code",
   "execution_count": 14,
   "id": "bfbe0d0d",
   "metadata": {},
   "outputs": [
    {
     "name": "stdout",
     "output_type": "stream",
     "text": [
      "     const  Released_Year  No_of_Votes\n",
      "0      1.0       0.119404     6.324451\n",
      "1      1.0      -0.825856     4.115639\n",
      "2      1.0       0.720933     6.202578\n",
      "3      1.0      -0.739924     2.616857\n",
      "4      1.0      -1.470352     1.271824\n",
      "..     ...            ...          ...\n",
      "995    1.0      -1.298486    -0.327463\n",
      "996    1.0      -1.513318    -0.732308\n",
      "997    1.0      -1.642217    -0.703889\n",
      "998    1.0      -2.028914    -0.755547\n",
      "999    1.0      -2.415612    -0.677976\n",
      "\n",
      "[1000 rows x 3 columns]\n",
      "                            OLS Regression Results                            \n",
      "==============================================================================\n",
      "Dep. Variable:            IMDB_Rating   R-squared:                       0.312\n",
      "Model:                            OLS   Adj. R-squared:                  0.310\n",
      "Method:                 Least Squares   F-statistic:                     225.9\n",
      "Date:                Tue, 02 May 2023   Prob (F-statistic):           1.24e-81\n",
      "Time:                        15:50:10   Log-Likelihood:                 57.617\n",
      "No. Observations:                1000   AIC:                            -109.2\n",
      "Df Residuals:                     997   BIC:                            -94.51\n",
      "Df Model:                           2                                         \n",
      "Covariance Type:            nonrobust                                         \n",
      "=================================================================================\n",
      "                    coef    std err          t      P>|t|      [0.025      0.975]\n",
      "---------------------------------------------------------------------------------\n",
      "const             7.9493      0.007   1098.845      0.000       7.935       7.963\n",
      "Released_Year    -0.0734      0.007     -9.839      0.000      -0.088      -0.059\n",
      "No_of_Votes       0.1540      0.007     20.660      0.000       0.139       0.169\n",
      "==============================================================================\n",
      "Omnibus:                       36.218   Durbin-Watson:                   0.410\n",
      "Prob(Omnibus):                  0.000   Jarque-Bera (JB):               39.611\n",
      "Skew:                           0.487   Prob(JB):                     2.50e-09\n",
      "Kurtosis:                       2.974   Cond. No.                         1.28\n",
      "==============================================================================\n",
      "\n",
      "Notes:\n",
      "[1] Standard Errors assume that the covariance matrix of the errors is correctly specified.\n"
     ]
    },
    {
     "name": "stderr",
     "output_type": "stream",
     "text": [
      "C:\\Users\\kevin\\AppData\\Local\\Temp\\ipykernel_28056\\2890539372.py:9: SettingWithCopyWarning: \n",
      "A value is trying to be set on a copy of a slice from a DataFrame.\n",
      "Try using .loc[row_indexer,col_indexer] = value instead\n",
      "\n",
      "See the caveats in the documentation: https://pandas.pydata.org/pandas-docs/stable/user_guide/indexing.html#returning-a-view-versus-a-copy\n",
      "  x[[\"Released_Year\",\"No_of_Votes\"]]=scale.fit_transform(x[[\"Released_Year\",\"No_of_Votes\"]].values)\n"
     ]
    }
   ],
   "source": [
    "#Estandarizar datos y construir el modelo OLS (mínimos cuadrados)\n",
    "import statsmodels.api as sm\n",
    "from sklearn.preprocessing import StandardScaler\n",
    "scale=StandardScaler()\n",
    "\n",
    "x=datos_columna[[\"Released_Year\",\"No_of_Votes\"]]\n",
    "y=datos_columna[\"IMDB_Rating\"]\n",
    "\n",
    "x[[\"Released_Year\",\"No_of_Votes\"]]=scale.fit_transform(x[[\"Released_Year\",\"No_of_Votes\"]].values)\n",
    "\n",
    "#Agregar una columna de intersección \n",
    "\n",
    "x=sm.add_constant(x)\n",
    "print(x)\n",
    "\n",
    "est = sm.OLS(y,x).fit()\n",
    "\n",
    "print(est.summary())"
   ]
  },
  {
   "cell_type": "code",
   "execution_count": 17,
   "id": "49544456",
   "metadata": {},
   "outputs": [
    {
     "name": "stdout",
     "output_type": "stream",
     "text": [
      "[ 1.         -1.21255357 -0.53083174]\n",
      "[7.95648208]\n"
     ]
    }
   ],
   "source": [
    "#Predicción usando regresión múltiple. Auto con del año 1963 con 100000 votantes\n",
    "prediccion=scale.transform([[1963,100000]]) #año, votantes\n",
    "prediccion=np.insert(prediccion[0],0,1) #agregar constante de intersección como se hizo en el modelo\n",
    "print(prediccion)\n",
    "resultado=est.predict(prediccion)\n",
    "print(resultado)"
   ]
  },
  {
   "cell_type": "markdown",
   "id": "8f830ddc",
   "metadata": {},
   "source": [
    "La predicción tiene sentido porque generalmente las películas clásicas y populares obtienen mejor calificaciones."
   ]
  },
  {
   "cell_type": "code",
   "execution_count": 24,
   "id": "d0359335",
   "metadata": {},
   "outputs": [
    {
     "name": "stdout",
     "output_type": "stream",
     "text": [
      "[ 1.          1.36542787 -0.82928016]\n",
      "[7.72140639]\n"
     ]
    }
   ],
   "source": [
    "prediccion=scale.transform([[2023,2345]]) #año,votantes\n",
    "prediccion=np.insert(prediccion[0],0,1) #agregar constante de intersección como se hizo en el modelo\n",
    "print(prediccion)\n",
    "resultado=est.predict(prediccion)\n",
    "print(resultado)"
   ]
  },
  {
   "cell_type": "markdown",
   "id": "a4068b93",
   "metadata": {},
   "source": [
    "Mientras que para una película moderna se espera una menor calificación, como lo dice el modelo. Se pueden construir modelos más sofisticados pero requieren más datos completos numéricos o quizá sería más apropiado buscar otro modelo de machine learning..."
   ]
  }
 ],
 "metadata": {
  "kernelspec": {
   "display_name": "Python 3 (ipykernel)",
   "language": "python",
   "name": "python3"
  },
  "language_info": {
   "codemirror_mode": {
    "name": "ipython",
    "version": 3
   },
   "file_extension": ".py",
   "mimetype": "text/x-python",
   "name": "python",
   "nbconvert_exporter": "python",
   "pygments_lexer": "ipython3",
   "version": "3.9.12"
  }
 },
 "nbformat": 4,
 "nbformat_minor": 5
}
