{
 "cells": [
  {
   "cell_type": "markdown",
   "id": "95719e26",
   "metadata": {},
   "source": [
    "Las expresiones regulares son secuencias de caracteres que siguen un patrón."
   ]
  },
  {
   "cell_type": "code",
   "execution_count": 1,
   "id": "9b6f8fe3",
   "metadata": {},
   "outputs": [],
   "source": [
    "import re #libreria requerida"
   ]
  },
  {
   "cell_type": "code",
   "execution_count": 4,
   "id": "3e8637ba",
   "metadata": {},
   "outputs": [
    {
     "name": "stdout",
     "output_type": "stream",
     "text": [
      "Es correcto\n"
     ]
    }
   ],
   "source": [
    "txt= \"El sol en China\" #buscar caracteres\n",
    "x=re.search(\"^El.*China\",txt) #\"^\" inicia, \".\" otros caracteres, \"*\" al menos una vez está y \"$\" termina\n",
    "if x:\n",
    "    print(\"Es correcto\")\n",
    "else :\n",
    "    print(\"Es falso\")"
   ]
  },
  {
   "cell_type": "code",
   "execution_count": 4,
   "id": "c0daf00b",
   "metadata": {},
   "outputs": [
    {
     "name": "stdout",
     "output_type": "stream",
     "text": [
      "['l', 'l']\n"
     ]
    }
   ],
   "source": [
    "x=re.findall (\"l\",txt) #busca las coincidencias\n",
    "print(x)"
   ]
  },
  {
   "cell_type": "code",
   "execution_count": 3,
   "id": "1fa7838d",
   "metadata": {},
   "outputs": [
    {
     "name": "stdout",
     "output_type": "stream",
     "text": [
      "[]\n"
     ]
    }
   ],
   "source": [
    "x=re.findall(\"Méx\",txt) #lista sin resultados\n",
    "print(x)"
   ]
  },
  {
   "cell_type": "code",
   "execution_count": 9,
   "id": "47df0cc3",
   "metadata": {},
   "outputs": [
    {
     "name": "stdout",
     "output_type": "stream",
     "text": [
      "['El', 'sol', 'en', 'China']\n"
     ]
    }
   ],
   "source": [
    "txt=\"El sol en China\" #separar por espacios\n",
    "x=re.split(\"\\s\",txt)\n",
    "print(x)"
   ]
  },
  {
   "cell_type": "code",
   "execution_count": 15,
   "id": "4c234e99",
   "metadata": {},
   "outputs": [
    {
     "name": "stdout",
     "output_type": "stream",
     "text": [
      "El-sol-en-China\n"
     ]
    }
   ],
   "source": [
    "x=re.sub(\"\\s\",\"-\",txt) #reemplazar el espacio en blanco\n",
    "print(x)"
   ]
  },
  {
   "cell_type": "code",
   "execution_count": 19,
   "id": "9c125aad",
   "metadata": {},
   "outputs": [
    {
     "name": "stdout",
     "output_type": "stream",
     "text": [
      "El-sol en China\n"
     ]
    }
   ],
   "source": [
    "x=re.sub(\"\\s\",\"-\",txt,1) #reemplazar la primera ocurrencia\n",
    "print(x)"
   ]
  },
  {
   "cell_type": "code",
   "execution_count": 22,
   "id": "bdeaba12",
   "metadata": {},
   "outputs": [
    {
     "name": "stdout",
     "output_type": "stream",
     "text": [
      "(10, 15)\n"
     ]
    }
   ],
   "source": [
    "x = re.search(r\"\\bC\\w+\", txt) #buscar la posición de una letra, imprime la posición inicial y la final\n",
    "print(x.span())"
   ]
  },
  {
   "cell_type": "code",
   "execution_count": 23,
   "id": "9f7c3640",
   "metadata": {},
   "outputs": [
    {
     "name": "stdout",
     "output_type": "stream",
     "text": [
      "El sol en China\n"
     ]
    }
   ],
   "source": [
    "x = re.search(r\"\\bC\\w+\", txt) #imprime la cadena completa de caracteres\n",
    "print(x.string)"
   ]
  },
  {
   "cell_type": "code",
   "execution_count": 26,
   "id": "c81d0444",
   "metadata": {},
   "outputs": [
    {
     "name": "stdout",
     "output_type": "stream",
     "text": [
      "sol\n"
     ]
    }
   ],
   "source": [
    "x = re.search(r\"\\bs\\w+\", txt) #imprime la cadena completa de una palabra buscada por una letra\n",
    "print(x.group()) "
   ]
  }
 ],
 "metadata": {
  "kernelspec": {
   "display_name": "Python 3 (ipykernel)",
   "language": "python",
   "name": "python3"
  },
  "language_info": {
   "codemirror_mode": {
    "name": "ipython",
    "version": 3
   },
   "file_extension": ".py",
   "mimetype": "text/x-python",
   "name": "python",
   "nbconvert_exporter": "python",
   "pygments_lexer": "ipython3",
   "version": "3.9.12"
  }
 },
 "nbformat": 4,
 "nbformat_minor": 5
}
