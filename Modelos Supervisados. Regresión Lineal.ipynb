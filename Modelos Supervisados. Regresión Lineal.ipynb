{
 "cells": [
  {
   "cell_type": "markdown",
   "id": "c8a76028",
   "metadata": {},
   "source": [
    "En *machine learning*, los modelos supervisados se usan siempre que se quiera predecir un resultado determinado a partir de una entrada dada y hay ejemplos de pares entrada-salida. Se construye un modelo de *machine learning* a partir de estos pares de entrada y salida que componen los datos de entrenamiento. El principal objetivo es hacer predicciones precisas a datos inéditos. \n",
    "\n",
    "Los dos principales tipos de modelos supervisados son de **clasificación** y de **regresión**. En la clasificación el objetivo es predecir una etiqueta de clase, que es una elección predefinida de posibilidades.  Por otra perte, en modelos de regresión se trata de predecir un número continuo (número real). Por ejemplo, predecir el ingreso de una persona dada su edad, educación, su residencia, etcétera. \n",
    "\n",
    "Para distinguir qué tipo de modelo supervisado es adecuado a cada situación es importante ver si hay algún orden o continuidad en los datos de salida, si ocurre esto, lo mejor será utilizar un modelo de regresión. Por el contrario, si no hay orden o continuidad en los datos de salida, lo adecuado sería usar un modelo de clasificación.\n",
    "\n",
    "Cuando un modelo funciona muy bien para el *training set* pero no para el *test set* se dice que tiene sobreajuste (*overfitting*); cuando un modelo hace suposiciones muy sencillas se dice que está desajustado (*underfitting*) porque no se explican los datos de salida para los datos de entrenamiento precisamente. \n",
    "\n",
    "Por lo tanto, el modelo adecuado será aquel que no sea tan complejo ni tan sencillo. Al punto medio entre estos dos modelos se le conoce como *sweet spot*, que será el que mejor desempeño tenga generalizando. \n",
    "\n"
   ]
  },
  {
   "cell_type": "markdown",
   "id": "a025a6a9",
   "metadata": {},
   "source": [
    "### Regresión lineal"
   ]
  },
  {
   "cell_type": "code",
   "execution_count": 1,
   "id": "c263592e",
   "metadata": {},
   "outputs": [
    {
     "data": {
      "text/html": [
       "<div>\n",
       "<style scoped>\n",
       "    .dataframe tbody tr th:only-of-type {\n",
       "        vertical-align: middle;\n",
       "    }\n",
       "\n",
       "    .dataframe tbody tr th {\n",
       "        vertical-align: top;\n",
       "    }\n",
       "\n",
       "    .dataframe thead th {\n",
       "        text-align: right;\n",
       "    }\n",
       "</style>\n",
       "<table border=\"1\" class=\"dataframe\">\n",
       "  <thead>\n",
       "    <tr style=\"text-align: right;\">\n",
       "      <th></th>\n",
       "      <th>longitude</th>\n",
       "      <th>latitude</th>\n",
       "      <th>housing_median_age</th>\n",
       "      <th>total_rooms</th>\n",
       "      <th>total_bedrooms</th>\n",
       "      <th>population</th>\n",
       "      <th>households</th>\n",
       "      <th>median_income</th>\n",
       "      <th>median_house_value</th>\n",
       "      <th>ocean_proximity</th>\n",
       "    </tr>\n",
       "  </thead>\n",
       "  <tbody>\n",
       "    <tr>\n",
       "      <th>0</th>\n",
       "      <td>-122.23</td>\n",
       "      <td>37.88</td>\n",
       "      <td>41.0</td>\n",
       "      <td>880.0</td>\n",
       "      <td>129.0</td>\n",
       "      <td>322.0</td>\n",
       "      <td>126.0</td>\n",
       "      <td>8.3252</td>\n",
       "      <td>452600.0</td>\n",
       "      <td>NEAR BAY</td>\n",
       "    </tr>\n",
       "    <tr>\n",
       "      <th>1</th>\n",
       "      <td>-122.22</td>\n",
       "      <td>37.86</td>\n",
       "      <td>21.0</td>\n",
       "      <td>7099.0</td>\n",
       "      <td>1106.0</td>\n",
       "      <td>2401.0</td>\n",
       "      <td>1138.0</td>\n",
       "      <td>8.3014</td>\n",
       "      <td>358500.0</td>\n",
       "      <td>NEAR BAY</td>\n",
       "    </tr>\n",
       "    <tr>\n",
       "      <th>2</th>\n",
       "      <td>-122.24</td>\n",
       "      <td>37.85</td>\n",
       "      <td>52.0</td>\n",
       "      <td>1467.0</td>\n",
       "      <td>190.0</td>\n",
       "      <td>496.0</td>\n",
       "      <td>177.0</td>\n",
       "      <td>7.2574</td>\n",
       "      <td>352100.0</td>\n",
       "      <td>NEAR BAY</td>\n",
       "    </tr>\n",
       "    <tr>\n",
       "      <th>3</th>\n",
       "      <td>-122.25</td>\n",
       "      <td>37.85</td>\n",
       "      <td>52.0</td>\n",
       "      <td>1274.0</td>\n",
       "      <td>235.0</td>\n",
       "      <td>558.0</td>\n",
       "      <td>219.0</td>\n",
       "      <td>5.6431</td>\n",
       "      <td>341300.0</td>\n",
       "      <td>NEAR BAY</td>\n",
       "    </tr>\n",
       "    <tr>\n",
       "      <th>4</th>\n",
       "      <td>-122.25</td>\n",
       "      <td>37.85</td>\n",
       "      <td>52.0</td>\n",
       "      <td>1627.0</td>\n",
       "      <td>280.0</td>\n",
       "      <td>565.0</td>\n",
       "      <td>259.0</td>\n",
       "      <td>3.8462</td>\n",
       "      <td>342200.0</td>\n",
       "      <td>NEAR BAY</td>\n",
       "    </tr>\n",
       "  </tbody>\n",
       "</table>\n",
       "</div>"
      ],
      "text/plain": [
       "   longitude  latitude  housing_median_age  total_rooms  total_bedrooms  \\\n",
       "0    -122.23     37.88                41.0        880.0           129.0   \n",
       "1    -122.22     37.86                21.0       7099.0          1106.0   \n",
       "2    -122.24     37.85                52.0       1467.0           190.0   \n",
       "3    -122.25     37.85                52.0       1274.0           235.0   \n",
       "4    -122.25     37.85                52.0       1627.0           280.0   \n",
       "\n",
       "   population  households  median_income  median_house_value ocean_proximity  \n",
       "0       322.0       126.0         8.3252            452600.0        NEAR BAY  \n",
       "1      2401.0      1138.0         8.3014            358500.0        NEAR BAY  \n",
       "2       496.0       177.0         7.2574            352100.0        NEAR BAY  \n",
       "3       558.0       219.0         5.6431            341300.0        NEAR BAY  \n",
       "4       565.0       259.0         3.8462            342200.0        NEAR BAY  "
      ]
     },
     "execution_count": 1,
     "metadata": {},
     "output_type": "execute_result"
    }
   ],
   "source": [
    "import pandas as pd\n",
    "datos=pd.read_csv(\"housecsv.txt\")\n",
    "datos.head()"
   ]
  },
  {
   "cell_type": "markdown",
   "id": "9fd838f8",
   "metadata": {},
   "source": [
    "### Preparación de datos"
   ]
  },
  {
   "cell_type": "code",
   "execution_count": 2,
   "id": "612fd8e6",
   "metadata": {},
   "outputs": [],
   "source": [
    "from sklearn.linear_model import LinearRegression\n",
    "#dividir en datos de entrenamiento y los datos de prueba\n",
    "from sklearn.model_selection import train_test_split"
   ]
  },
  {
   "cell_type": "code",
   "execution_count": 51,
   "id": "b7d9533b",
   "metadata": {},
   "outputs": [],
   "source": [
    "#seleccionar variables. House value es el objetivo\n",
    "#el modelo predice el valor de una casa en función de la población y el ingreso\n",
    "x_train, x_test, y_train, y_test= train_test_split(datos[[\"population\",\"median_income\"]],datos.median_house_value,test_size=.25)"
   ]
  },
  {
   "cell_type": "code",
   "execution_count": 28,
   "id": "31abe3b9",
   "metadata": {},
   "outputs": [
    {
     "data": {
      "text/plain": [
       "((14448, 2), (6192, 2))"
      ]
     },
     "execution_count": 28,
     "metadata": {},
     "output_type": "execute_result"
    }
   ],
   "source": [
    "x_train.shape,x_test.shape"
   ]
  },
  {
   "cell_type": "markdown",
   "id": "8e98be00",
   "metadata": {},
   "source": [
    "### Modelo"
   ]
  },
  {
   "cell_type": "code",
   "execution_count": 52,
   "id": "7dd8ff91",
   "metadata": {},
   "outputs": [],
   "source": [
    "#definir modelo\n",
    "modelo=LinearRegression()"
   ]
  },
  {
   "cell_type": "code",
   "execution_count": 53,
   "id": "cad4f699",
   "metadata": {},
   "outputs": [
    {
     "data": {
      "text/plain": [
       "LinearRegression()"
      ]
     },
     "execution_count": 53,
     "metadata": {},
     "output_type": "execute_result"
    }
   ],
   "source": [
    "#ajustar el modelo a los datos\n",
    "modelo.fit(x_train,y_train)"
   ]
  },
  {
   "cell_type": "code",
   "execution_count": 54,
   "id": "59a2355f",
   "metadata": {},
   "outputs": [
    {
     "data": {
      "text/plain": [
       "0.4717737391332707"
      ]
     },
     "execution_count": 54,
     "metadata": {},
     "output_type": "execute_result"
    }
   ],
   "source": [
    "#R^2 del modelo\n",
    "modelo.score(x_test,y_test)"
   ]
  },
  {
   "cell_type": "markdown",
   "id": "11b428c3",
   "metadata": {},
   "source": [
    "### Mejorar el modelo"
   ]
  },
  {
   "cell_type": "code",
   "execution_count": 18,
   "id": "6348bb27",
   "metadata": {},
   "outputs": [],
   "source": [
    "from sklearn import preprocessing"
   ]
  },
  {
   "cell_type": "code",
   "execution_count": 57,
   "id": "c0eaa7aa",
   "metadata": {},
   "outputs": [],
   "source": [
    "#dividir datos de prueba en dos\n",
    "x_val, x_test, y_val, y_test= train_test_split(x_test, y_test)"
   ]
  },
  {
   "cell_type": "code",
   "execution_count": 58,
   "id": "b6956b83",
   "metadata": {},
   "outputs": [
    {
     "data": {
      "text/plain": [
       "((3870, 2), (1290, 2))"
      ]
     },
     "execution_count": 58,
     "metadata": {},
     "output_type": "execute_result"
    }
   ],
   "source": [
    "x_val.shape, x_test.shape"
   ]
  },
  {
   "cell_type": "code",
   "execution_count": 32,
   "id": "7e609cc0",
   "metadata": {},
   "outputs": [],
   "source": [
    "escala= preprocessing.StandardScaler()\n",
    "modelo=LinearRegression()"
   ]
  },
  {
   "cell_type": "code",
   "execution_count": 59,
   "id": "102e6431",
   "metadata": {},
   "outputs": [
    {
     "data": {
      "text/plain": [
       "StandardScaler()"
      ]
     },
     "execution_count": 59,
     "metadata": {},
     "output_type": "execute_result"
    }
   ],
   "source": [
    "escala.fit(x_train)"
   ]
  },
  {
   "cell_type": "code",
   "execution_count": 60,
   "id": "db0a60e3",
   "metadata": {},
   "outputs": [
    {
     "data": {
      "text/plain": [
       "array([[ 0.33404898,  1.78737767],\n",
       "       [ 0.63826356, -0.88065783],\n",
       "       [-0.63445339,  0.87383998],\n",
       "       ...,\n",
       "       [-0.04578957, -0.07577766],\n",
       "       [ 0.19998831,  0.09151628],\n",
       "       [-0.00625886, -0.99714747]])"
      ]
     },
     "execution_count": 60,
     "metadata": {},
     "output_type": "execute_result"
    }
   ],
   "source": [
    "x_escalada=escala.transform(x_train)\n",
    "x_escalada"
   ]
  },
  {
   "cell_type": "code",
   "execution_count": 61,
   "id": "85f8abbc",
   "metadata": {},
   "outputs": [
    {
     "data": {
      "text/html": [
       "<div>\n",
       "<style scoped>\n",
       "    .dataframe tbody tr th:only-of-type {\n",
       "        vertical-align: middle;\n",
       "    }\n",
       "\n",
       "    .dataframe tbody tr th {\n",
       "        vertical-align: top;\n",
       "    }\n",
       "\n",
       "    .dataframe thead th {\n",
       "        text-align: right;\n",
       "    }\n",
       "</style>\n",
       "<table border=\"1\" class=\"dataframe\">\n",
       "  <thead>\n",
       "    <tr style=\"text-align: right;\">\n",
       "      <th></th>\n",
       "      <th>population</th>\n",
       "      <th>median_income</th>\n",
       "    </tr>\n",
       "  </thead>\n",
       "  <tbody>\n",
       "    <tr>\n",
       "      <th>18090</th>\n",
       "      <td>1818.0</td>\n",
       "      <td>7.2986</td>\n",
       "    </tr>\n",
       "    <tr>\n",
       "      <th>3806</th>\n",
       "      <td>2172.0</td>\n",
       "      <td>2.1888</td>\n",
       "    </tr>\n",
       "    <tr>\n",
       "      <th>16936</th>\n",
       "      <td>691.0</td>\n",
       "      <td>5.5490</td>\n",
       "    </tr>\n",
       "    <tr>\n",
       "      <th>5193</th>\n",
       "      <td>526.0</td>\n",
       "      <td>2.5000</td>\n",
       "    </tr>\n",
       "    <tr>\n",
       "      <th>1006</th>\n",
       "      <td>1422.0</td>\n",
       "      <td>3.7212</td>\n",
       "    </tr>\n",
       "  </tbody>\n",
       "</table>\n",
       "</div>"
      ],
      "text/plain": [
       "       population  median_income\n",
       "18090      1818.0         7.2986\n",
       "3806       2172.0         2.1888\n",
       "16936       691.0         5.5490\n",
       "5193        526.0         2.5000\n",
       "1006       1422.0         3.7212"
      ]
     },
     "execution_count": 61,
     "metadata": {},
     "output_type": "execute_result"
    }
   ],
   "source": [
    "x_train.head()"
   ]
  },
  {
   "cell_type": "code",
   "execution_count": 62,
   "id": "51bd8c06",
   "metadata": {},
   "outputs": [
    {
     "data": {
      "text/plain": [
       "LinearRegression()"
      ]
     },
     "execution_count": 62,
     "metadata": {},
     "output_type": "execute_result"
    }
   ],
   "source": [
    "#ajustar modelo\n",
    "modelo.fit(x_escalada,y_train)"
   ]
  },
  {
   "cell_type": "code",
   "execution_count": 63,
   "id": "e127cc6d",
   "metadata": {},
   "outputs": [
    {
     "data": {
      "text/plain": [
       "0.47589773704722005"
      ]
     },
     "execution_count": 63,
     "metadata": {},
     "output_type": "execute_result"
    }
   ],
   "source": [
    "#evaluación del modelo\n",
    "modelo.score(escala.transform(x_val), y_val)"
   ]
  },
  {
   "cell_type": "markdown",
   "id": "4d7f1242",
   "metadata": {},
   "source": [
    "### Predecir datos"
   ]
  },
  {
   "cell_type": "code",
   "execution_count": 65,
   "id": "d9b6862a",
   "metadata": {},
   "outputs": [
    {
     "data": {
      "text/plain": [
       "array([347945.69754901, 135094.92775154, 278674.98556519, ...,\n",
       "       201299.78030218, 213754.92598244, 128015.1564983 ])"
      ]
     },
     "execution_count": 65,
     "metadata": {},
     "output_type": "execute_result"
    }
   ],
   "source": [
    "#con los datos de entrenamiento\n",
    "modelo.predict(escala.transform(x_train))"
   ]
  },
  {
   "cell_type": "code",
   "execution_count": 69,
   "id": "051bc6b2",
   "metadata": {},
   "outputs": [
    {
     "data": {
      "text/plain": [
       "18090    500001.0\n",
       "3806     195600.0\n",
       "16936    500001.0\n",
       "5193     110200.0\n",
       "1006     183800.0\n",
       "           ...   \n",
       "7145     172900.0\n",
       "20442    404700.0\n",
       "11310    188500.0\n",
       "7873     179500.0\n",
       "18773     63000.0\n",
       "Name: median_house_value, Length: 15480, dtype: float64"
      ]
     },
     "execution_count": 69,
     "metadata": {},
     "output_type": "execute_result"
    }
   ],
   "source": [
    "y_train"
   ]
  },
  {
   "cell_type": "code",
   "execution_count": 70,
   "id": "1071890b",
   "metadata": {},
   "outputs": [
    {
     "data": {
      "text/plain": [
       "0        452600.0\n",
       "1        358500.0\n",
       "2        352100.0\n",
       "3        341300.0\n",
       "4        342200.0\n",
       "           ...   \n",
       "20635     78100.0\n",
       "20636     77100.0\n",
       "20637     92300.0\n",
       "20638     84700.0\n",
       "20639     89400.0\n",
       "Name: median_house_value, Length: 20640, dtype: float64"
      ]
     },
     "execution_count": 70,
     "metadata": {},
     "output_type": "execute_result"
    }
   ],
   "source": [
    "datos[\"median_house_value\"]"
   ]
  },
  {
   "cell_type": "code",
   "execution_count": 72,
   "id": "953f8475",
   "metadata": {},
   "outputs": [
    {
     "data": {
      "text/plain": [
       "array([127528.33361447, 300756.2474896 , 134247.38056817, ...,\n",
       "       215720.77439335, 152082.81177843, 374299.24568053])"
      ]
     },
     "execution_count": 72,
     "metadata": {},
     "output_type": "execute_result"
    }
   ],
   "source": [
    "#con datos inéditos\n",
    "modelo.predict(escala.transform(x_test))"
   ]
  }
 ],
 "metadata": {
  "kernelspec": {
   "display_name": "Python 3 (ipykernel)",
   "language": "python",
   "name": "python3"
  },
  "language_info": {
   "codemirror_mode": {
    "name": "ipython",
    "version": 3
   },
   "file_extension": ".py",
   "mimetype": "text/x-python",
   "name": "python",
   "nbconvert_exporter": "python",
   "pygments_lexer": "ipython3",
   "version": "3.9.12"
  }
 },
 "nbformat": 4,
 "nbformat_minor": 5
}
