{
 "cells": [
  {
   "cell_type": "markdown",
   "id": "b72f343e",
   "metadata": {},
   "source": [
    "### Listas"
   ]
  },
  {
   "cell_type": "code",
   "execution_count": 3,
   "id": "63c3e948",
   "metadata": {},
   "outputs": [
    {
     "name": "stdout",
     "output_type": "stream",
     "text": [
      "0 es numero es par\n",
      "1 es numero es impar\n",
      "2 es numero es par\n",
      "3 es numero es impar\n",
      "4 es numero es par\n",
      "5 es numero es impar\n",
      "Fin\n"
     ]
    }
   ],
   "source": [
    "#Usando listas\n",
    "\n",
    "lista_numeros=[0,1,2,3,4,5]\n",
    "\n",
    "for i in lista_numeros:\n",
    "    if (i%2==0):\n",
    "        print(i,\"es numero es par\")\n",
    "    else:\n",
    "        print(i,\"es numero es impar\")\n",
    "print(\"Fin\")"
   ]
  },
  {
   "cell_type": "code",
   "execution_count": 24,
   "id": "44f324f2",
   "metadata": {},
   "outputs": [
    {
     "name": "stdout",
     "output_type": "stream",
     "text": [
      "0 es par\n",
      "1 es impar\n",
      "2 es par\n",
      "3 es impar\n",
      "4 es par\n",
      "5 es impar\n",
      "6 es par\n",
      "7 es impar\n",
      "8 es par\n",
      "9 es impar\n",
      "10 es par\n",
      "11 es impar\n",
      "12 es par\n",
      "13 es impar\n",
      "14 es par\n",
      "15 es impar\n",
      "16 es par\n",
      "17 es impar\n",
      "18 es par\n",
      "19 es impar\n",
      "20 es par\n",
      "21 es impar\n",
      "22 es par\n",
      "23 es impar\n",
      "24 es par\n",
      "Fin.  hay  25 elementos\n"
     ]
    }
   ],
   "source": [
    "#Listas generando número\n",
    "\n",
    "import numpy as np\n",
    "lista_r=np.arange(25)\n",
    "for k in lista_r:\n",
    "    if(k%2==0):\n",
    "        print(k,\"es par\")\n",
    "    else:\n",
    "        print(k,\"es impar\")\n",
    "print(\"Fin. \", \"hay \", len(lista_r),\"elementos\")\n"
   ]
  },
  {
   "cell_type": "code",
   "execution_count": 29,
   "id": "145e04b1",
   "metadata": {},
   "outputs": [
    {
     "name": "stdout",
     "output_type": "stream",
     "text": [
      "30 es par\n",
      "9 es impar\n",
      "47 es impar\n",
      "28 es par\n",
      "10 es par\n",
      "15 es impar\n",
      "42 es par\n",
      "11 es impar\n",
      "43 es impar\n",
      "20 es par\n",
      "21 es impar\n",
      "2 es par\n",
      "24 es par\n",
      "18 es par\n",
      "22 es par\n",
      "34 es par\n",
      "27 es impar\n",
      "32 es par\n",
      "45 es impar\n",
      "37 es impar\n",
      "4 es par\n",
      "33 es impar\n",
      "26 es par\n",
      "19 es impar\n",
      "35 es impar\n",
      "Fin.  hay  25 elementos\n"
     ]
    }
   ],
   "source": [
    "#Listas generando números aleatorios\n",
    "lista_a=random.sample(range(1, 50), 25)\n",
    "for j in lista_a:\n",
    "    if(j%2==0):\n",
    "        print(j,\"es par\")\n",
    "    else:\n",
    "        print(j,\"es impar\")\n",
    "print(\"Fin. \", \"hay \", len(lista_a),\"elementos\")"
   ]
  },
  {
   "cell_type": "code",
   "execution_count": 33,
   "id": "d44ea6f8",
   "metadata": {},
   "outputs": [
    {
     "data": {
      "text/plain": [
       "array([0, 1, 2, 3, 4, 5, 6, 7, 8, 9])"
      ]
     },
     "execution_count": 33,
     "metadata": {},
     "output_type": "execute_result"
    }
   ],
   "source": [
    "#Tomar de la lista hasta...\n",
    "x=lista_r[:10]\n",
    "x"
   ]
  },
  {
   "cell_type": "code",
   "execution_count": 35,
   "id": "4b685f5f",
   "metadata": {},
   "outputs": [
    {
     "data": {
      "text/plain": [
       "array([10, 11, 12, 13, 14, 15, 16, 17, 18, 19, 20, 21, 22, 23, 24])"
      ]
     },
     "execution_count": 35,
     "metadata": {},
     "output_type": "execute_result"
    }
   ],
   "source": [
    "#Tomar de la lista después de\n",
    "y=lista_r[10:]\n",
    "y"
   ]
  },
  {
   "cell_type": "code",
   "execution_count": 47,
   "id": "fb5ccb12",
   "metadata": {},
   "outputs": [
    {
     "data": {
      "text/plain": [
       "[0, 1, 2, 3, 4, 5, 25, 25, 25, 25, 25]"
      ]
     },
     "execution_count": 47,
     "metadata": {},
     "output_type": "execute_result"
    }
   ],
   "source": [
    "#Agregar número por ejecución\n",
    "lista_numeros.append(25)\n",
    "lista_numeros"
   ]
  },
  {
   "cell_type": "code",
   "execution_count": 51,
   "id": "affb05fc",
   "metadata": {},
   "outputs": [
    {
     "data": {
      "text/plain": [
       "[0, 1, 2, 3, 4, 5, 25, 25, 25, 25, 25, 100, 101, 100, 101, 100, 101]"
      ]
     },
     "execution_count": 51,
     "metadata": {},
     "output_type": "execute_result"
    }
   ],
   "source": [
    "#Extender lista\n",
    "lista_numeros.extend([100,101])\n",
    "lista_numeros"
   ]
  },
  {
   "cell_type": "code",
   "execution_count": 54,
   "id": "9a1e1357",
   "metadata": {},
   "outputs": [
    {
     "data": {
      "text/plain": [
       "[[0, 1, 2, 3, 4, 5, 25, 25, 25, 25, 25, 100, 101, 100, 101, 100, 101],\n",
       " array([ 0,  1,  2,  3,  4,  5,  6,  7,  8,  9, 10, 11, 12, 13, 14, 15, 16,\n",
       "        17, 18, 19, 20, 21, 22, 23, 24])]"
      ]
     },
     "execution_count": 54,
     "metadata": {},
     "output_type": "execute_result"
    }
   ],
   "source": [
    "#Unir dos listas\n",
    "lista_listas=[lista_numeros,lista_r]\n",
    "lista_listas"
   ]
  },
  {
   "cell_type": "code",
   "execution_count": 57,
   "id": "9559e005",
   "metadata": {},
   "outputs": [
    {
     "data": {
      "text/plain": [
       "array([ 0,  1,  2,  3,  4,  5,  6,  7,  8,  9, 10, 11, 12, 13, 14, 15, 16,\n",
       "       17, 18, 19, 20, 21, 22, 23, 24])"
      ]
     },
     "execution_count": 57,
     "metadata": {},
     "output_type": "execute_result"
    }
   ],
   "source": [
    "#Arrojar una lista definida por posición\n",
    "lista_listas[1]"
   ]
  },
  {
   "cell_type": "markdown",
   "id": "3456d3f4",
   "metadata": {},
   "source": [
    "### Tuplas"
   ]
  },
  {
   "cell_type": "code",
   "execution_count": 61,
   "id": "a16033b4",
   "metadata": {},
   "outputs": [
    {
     "data": {
      "text/plain": [
       "(1, 2, 3, 4)"
      ]
     },
     "execution_count": 61,
     "metadata": {},
     "output_type": "execute_result"
    }
   ],
   "source": [
    "tupla=(1,2,3,4)\n",
    "tupla"
   ]
  },
  {
   "cell_type": "code",
   "execution_count": 66,
   "id": "7fe92c0b",
   "metadata": {},
   "outputs": [
    {
     "data": {
      "text/plain": [
       "3"
      ]
     },
     "execution_count": 66,
     "metadata": {},
     "output_type": "execute_result"
    }
   ],
   "source": [
    "#Por posición\n",
    "tupla[2]"
   ]
  },
  {
   "cell_type": "code",
   "execution_count": 67,
   "id": "92bce536",
   "metadata": {},
   "outputs": [],
   "source": [
    "tupla_r=(5,6,7,8)"
   ]
  },
  {
   "cell_type": "code",
   "execution_count": 69,
   "id": "acba56aa",
   "metadata": {},
   "outputs": [
    {
     "data": {
      "text/plain": [
       "((1, 2, 3, 4), (5, 6, 7, 8))"
      ]
     },
     "execution_count": 69,
     "metadata": {},
     "output_type": "execute_result"
    }
   ],
   "source": [
    "#Crear lista de tuplas\n",
    "lista_tupla=(tupla,tupla_r)\n",
    "lista_tupla"
   ]
  },
  {
   "cell_type": "code",
   "execution_count": 76,
   "id": "0be4d0bd",
   "metadata": {},
   "outputs": [
    {
     "name": "stdout",
     "output_type": "stream",
     "text": [
      "12000\n",
      "14000\n"
     ]
    }
   ],
   "source": [
    "#Tupla multivalor\n",
    "(Monto, Deuda)=\"12000,14000\".split(\",\")\n",
    "print(Monto)\n",
    "print(Deuda)"
   ]
  },
  {
   "cell_type": "markdown",
   "id": "b6e430ac",
   "metadata": {},
   "source": [
    "### Diccionarios"
   ]
  },
  {
   "cell_type": "code",
   "execution_count": 2,
   "id": "873c829b",
   "metadata": {},
   "outputs": [
    {
     "name": "stdout",
     "output_type": "stream",
     "text": [
      "Honda\n"
     ]
    }
   ],
   "source": [
    "#Definir diccionario\n",
    "\n",
    "diccionario_autos ={}\n",
    "diccionario_autos[\"March\"]=\"Nissan\"\n",
    "diccionario_autos[\"Fiesta\"]=\"Ford\"\n",
    "diccionario_autos[\"Accord\"]=\"Honda\"\n",
    "diccionario_autos[\"Sportage\"]=\"Kia\"\n",
    "\n",
    "print (diccionario_autos[\"Accord\"])"
   ]
  },
  {
   "cell_type": "code",
   "execution_count": 5,
   "id": "ee213f80",
   "metadata": {},
   "outputs": [
    {
     "name": "stdout",
     "output_type": "stream",
     "text": [
      "Nissan\n"
     ]
    }
   ],
   "source": [
    "#Obtener datos\n",
    "print(diccionario_autos.get(\"March\"))"
   ]
  },
  {
   "cell_type": "code",
   "execution_count": 7,
   "id": "8e0f250d",
   "metadata": {},
   "outputs": [
    {
     "name": "stdout",
     "output_type": "stream",
     "text": [
      "None\n"
     ]
    }
   ],
   "source": [
    "#Obtener datos no definidos\n",
    "print(diccionario_autos.get(\"Camaro\"))\n"
   ]
  },
  {
   "cell_type": "markdown",
   "id": "53c2fe77",
   "metadata": {},
   "source": [
    "### Funciones"
   ]
  },
  {
   "cell_type": "code",
   "execution_count": 9,
   "id": "02958914",
   "metadata": {},
   "outputs": [],
   "source": [
    "def haz_la_suma(x,y):\n",
    "    return x+y\n",
    "   "
   ]
  },
  {
   "cell_type": "code",
   "execution_count": 11,
   "id": "856fa21a",
   "metadata": {},
   "outputs": [
    {
     "data": {
      "text/plain": [
       "21"
      ]
     },
     "execution_count": 11,
     "metadata": {},
     "output_type": "execute_result"
    }
   ],
   "source": [
    "haz_la_suma(10,11)"
   ]
  },
  {
   "cell_type": "code",
   "execution_count": 14,
   "id": "c9248719",
   "metadata": {},
   "outputs": [],
   "source": [
    "#Para x y y números reales\n",
    "def binomio(x,y,n):\n",
    "    return (x+y)**n"
   ]
  },
  {
   "cell_type": "code",
   "execution_count": 16,
   "id": "8b2bf7d5",
   "metadata": {},
   "outputs": [
    {
     "data": {
      "text/plain": [
       "16"
      ]
     },
     "execution_count": 16,
     "metadata": {},
     "output_type": "execute_result"
    }
   ],
   "source": [
    "binomio(2,2,2)"
   ]
  },
  {
   "cell_type": "code",
   "execution_count": 28,
   "id": "7d0061be",
   "metadata": {},
   "outputs": [],
   "source": [
    "#Función dentro de otra función\n",
    "def funcion_agregada(f,x,y,n):\n",
    "    return f(x,y,n)\n"
   ]
  },
  {
   "cell_type": "code",
   "execution_count": 29,
   "id": "76101bc9",
   "metadata": {},
   "outputs": [
    {
     "data": {
      "text/plain": [
       "16"
      ]
     },
     "execution_count": 29,
     "metadata": {},
     "output_type": "execute_result"
    }
   ],
   "source": [
    "funcion_agregada(binomio,2,2,2)"
   ]
  },
  {
   "cell_type": "code",
   "execution_count": 41,
   "id": "40d48538",
   "metadata": {},
   "outputs": [
    {
     "name": "stdout",
     "output_type": "stream",
     "text": [
      "8\n"
     ]
    }
   ],
   "source": [
    "#Función lambda\n",
    "funcion_cubo=lambda y: y*y*y\n",
    "print(funcion_cubo(2))\n"
   ]
  },
  {
   "cell_type": "code",
   "execution_count": 55,
   "id": "c9f0bfe1",
   "metadata": {},
   "outputs": [
    {
     "name": "stdout",
     "output_type": "stream",
     "text": [
      "10\n"
     ]
    }
   ],
   "source": [
    "#Función que regresa el número anterior\n",
    "def func_num_ant(n):\n",
    "    return lambda a : a-n\n",
    "\n",
    "anterior = func_num_ant(11-10)\n",
    "\n",
    "print(anterior(11))\n"
   ]
  },
  {
   "cell_type": "markdown",
   "id": "369bd91f",
   "metadata": {},
   "source": [
    "### Expresiones booleanas"
   ]
  },
  {
   "cell_type": "code",
   "execution_count": 58,
   "id": "2415cafb",
   "metadata": {},
   "outputs": [
    {
     "data": {
      "text/plain": [
       "(False, True, True, True, False)"
      ]
     },
     "execution_count": 58,
     "metadata": {},
     "output_type": "execute_result"
    }
   ],
   "source": [
    "#Verificar veracidad\n",
    "1==2,2==2,2<4,4>2,4<2"
   ]
  },
  {
   "cell_type": "code",
   "execution_count": 64,
   "id": "622a3259",
   "metadata": {},
   "outputs": [
    {
     "name": "stdout",
     "output_type": "stream",
     "text": [
      "True\n"
     ]
    }
   ],
   "source": [
    "print(True or False)"
   ]
  },
  {
   "cell_type": "code",
   "execution_count": 67,
   "id": "5275fb3a",
   "metadata": {},
   "outputs": [
    {
     "name": "stdout",
     "output_type": "stream",
     "text": [
      "False\n"
     ]
    }
   ],
   "source": [
    "print(True and False)"
   ]
  },
  {
   "cell_type": "code",
   "execution_count": 70,
   "id": "66c5e3b1",
   "metadata": {},
   "outputs": [
    {
     "name": "stdout",
     "output_type": "stream",
     "text": [
      "False\n"
     ]
    },
    {
     "name": "stderr",
     "output_type": "stream",
     "text": [
      "<>:1: SyntaxWarning: \"is\" with a literal. Did you mean \"==\"?\n",
      "<>:1: SyntaxWarning: \"is\" with a literal. Did you mean \"==\"?\n",
      "C:\\Users\\kevin\\AppData\\Local\\Temp\\ipykernel_26988\\453973788.py:1: SyntaxWarning: \"is\" with a literal. Did you mean \"==\"?\n",
      "  print(1 is 3)\n"
     ]
    }
   ],
   "source": [
    "print(1 is 3)"
   ]
  },
  {
   "cell_type": "code",
   "execution_count": 74,
   "id": "00d4b3df",
   "metadata": {},
   "outputs": [
    {
     "name": "stdout",
     "output_type": "stream",
     "text": [
      "Las matemáticas nunca mintieron\n"
     ]
    }
   ],
   "source": [
    "#Verificar condiciones\n",
    "if 2==4:\n",
    "    print(\"Las matemáticas mintieron\")\n",
    "elif 4<2:\n",
    "    print(\"Las matemáticas siguen mintiendo\")\n",
    "else:\n",
    "    print(\"Las matemáticas nunca mintieron\")"
   ]
  },
  {
   "cell_type": "markdown",
   "id": "505ccec9",
   "metadata": {},
   "source": [
    "### Clases"
   ]
  },
  {
   "cell_type": "code",
   "execution_count": 88,
   "id": "4913be37",
   "metadata": {},
   "outputs": [
    {
     "name": "stdout",
     "output_type": "stream",
     "text": [
      "Joel\n",
      "35\n"
     ]
    }
   ],
   "source": [
    "#Crear una clase usando __init__, que agrega valores a la clase. Notar que \"self\" es obligatorio por posición pero puede tener otro nombre\n",
    "\n",
    "class Personas:\n",
    "    def __init__(se, nombre, edad):\n",
    "        se.nombre = nombre\n",
    "        se.edad = edad\n",
    "\n",
    "p1 = Personas(\"Joel\", 35)\n",
    "\n",
    "print(p1.nombre)\n",
    "print(p1.edad)"
   ]
  },
  {
   "cell_type": "code",
   "execution_count": 93,
   "id": "de78435d",
   "metadata": {},
   "outputs": [
    {
     "name": "stdout",
     "output_type": "stream",
     "text": [
      "Hola. Mi nombre es Joel\n"
     ]
    }
   ],
   "source": [
    "class Personas:\n",
    "    def __init__(se, nombre, edad):\n",
    "        se.nombre = nombre\n",
    "        se.edad = edad\n",
    "\n",
    "    def myfunc(se):\n",
    "        print(\"Hola. Mi nombre es \" + se.nombre)\n",
    "\n",
    "p1 = Personas(\"Joel\", 35)\n",
    "p1.myfunc()"
   ]
  },
  {
   "cell_type": "code",
   "execution_count": null,
   "id": "bcc9bbe6",
   "metadata": {},
   "outputs": [],
   "source": []
  }
 ],
 "metadata": {
  "kernelspec": {
   "display_name": "Python 3 (ipykernel)",
   "language": "python",
   "name": "python3"
  },
  "language_info": {
   "codemirror_mode": {
    "name": "ipython",
    "version": 3
   },
   "file_extension": ".py",
   "mimetype": "text/x-python",
   "name": "python",
   "nbconvert_exporter": "python",
   "pygments_lexer": "ipython3",
   "version": "3.9.12"
  }
 },
 "nbformat": 4,
 "nbformat_minor": 5
}
