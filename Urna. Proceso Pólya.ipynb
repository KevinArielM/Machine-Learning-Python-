{
 "cells": [
  {
   "cell_type": "code",
   "execution_count": 3,
   "id": "2670bbcd",
   "metadata": {},
   "outputs": [],
   "source": [
    "import random\n",
    "import matplotlib.pyplot as plt"
   ]
  },
  {
   "cell_type": "code",
   "execution_count": 60,
   "id": "d719bbcc",
   "metadata": {},
   "outputs": [],
   "source": [
    "random.seed(9) \n",
    "\n",
    "bolas=[\"Blancas\",\"Negras\"]\n",
    "prob=[.6,.4]\n",
    "urna_inicial=random.choices(bolas,prob,k=10)\n",
    "urna=urna_inicial\n",
    "porcentaje_blancas_sim=[]"
   ]
  },
  {
   "cell_type": "code",
   "execution_count": 61,
   "id": "c9354d9a",
   "metadata": {},
   "outputs": [
    {
     "data": {
      "text/plain": [
       "['Blancas',\n",
       " 'Blancas',\n",
       " 'Blancas',\n",
       " 'Negras',\n",
       " 'Blancas',\n",
       " 'Blancas',\n",
       " 'Negras',\n",
       " 'Blancas',\n",
       " 'Blancas',\n",
       " 'Negras']"
      ]
     },
     "execution_count": 61,
     "metadata": {},
     "output_type": "execute_result"
    }
   ],
   "source": [
    "urna_inicial"
   ]
  },
  {
   "cell_type": "code",
   "execution_count": 62,
   "id": "273d0eb1",
   "metadata": {},
   "outputs": [
    {
     "data": {
      "text/plain": [
       "['Blancas',\n",
       " 'Blancas',\n",
       " 'Blancas',\n",
       " 'Negras',\n",
       " 'Blancas',\n",
       " 'Blancas',\n",
       " 'Negras',\n",
       " 'Blancas',\n",
       " 'Blancas',\n",
       " 'Negras']"
      ]
     },
     "execution_count": 62,
     "metadata": {},
     "output_type": "execute_result"
    }
   ],
   "source": [
    "urna\n"
   ]
  },
  {
   "cell_type": "code",
   "execution_count": 68,
   "id": "759068f9",
   "metadata": {},
   "outputs": [
    {
     "data": {
      "text/plain": [
       "Text(0, 0.5, 'Promedio')"
      ]
     },
     "execution_count": 68,
     "metadata": {},
     "output_type": "execute_result"
    },
    {
     "data": {
      "image/png": "[encoded data removed]",
      "text/plain": [
       "<Figure size 432x288 with 1 Axes>"
      ]
     },
     "metadata": {
      "needs_background": "light"
     },
     "output_type": "display_data"
    }
   ],
   "source": [
    "for i in range(10000): #hacer 10000 simulaciones\n",
    "    porcentaje_blancas=urna.count(\"Blancas\")/len(urna) #calcular porcentajes\n",
    "    porcentaje_negras=urna.count(\"Negras\")/len(urna)\n",
    "    distribucion=[porcentaje_blancas,porcentaje_negras] #definir lista\n",
    "    X=random.choices(bolas, distribucion) #tomar una bola aleatoria\n",
    "    nueva_urna=urna+X*3 #multiplicarla por 3 \n",
    "    porcentaje_blancas_sim.append(nueva_urna.count(\"Blancas\")/len(nueva_urna)) #agregar más info a la variable\n",
    "    urna=nueva_urna  #actualizar\n",
    "plt.plot(porcentaje_blancas_sim)\n",
    "plt.xlabel(\"Simulaciones\")\n",
    "plt.ylabel(\"Promedio\")\n",
    "    \n",
    "\n",
    "    "
   ]
  },
  {
   "cell_type": "code",
   "execution_count": 65,
   "id": "8ef171f5",
   "metadata": {},
   "outputs": [
    {
     "data": {
      "text/plain": [
       "0.9110603762894329"
      ]
     },
     "execution_count": 65,
     "metadata": {},
     "output_type": "execute_result"
    }
   ],
   "source": [
    "porcentaje_blancas"
   ]
  },
  {
   "cell_type": "code",
   "execution_count": null,
   "id": "09ff5370",
   "metadata": {},
   "outputs": [],
   "source": []
  }
 ],
 "metadata": {
  "kernelspec": {
   "display_name": "Python 3 (ipykernel)",
   "language": "python",
   "name": "python3"
  },
  "language_info": {
   "codemirror_mode": {
    "name": "ipython",
    "version": 3
   },
   "file_extension": ".py",
   "mimetype": "text/x-python",
   "name": "python",
   "nbconvert_exporter": "python",
   "pygments_lexer": "ipython3",
   "version": "3.9.12"
  }
 },
 "nbformat": 4,
 "nbformat_minor": 5
}
