{
 "cells": [
  {
   "cell_type": "markdown",
   "id": "a031450d",
   "metadata": {},
   "source": [
    "La regresión logística es un algoritmo de aprendizaje supervisado utilizado para la clasificación de datos. A diferencia de la regresión lineal, que se utiliza para problemas de regresión, la regresión logística se emplea para problemas de clasificación binaria o multiclase.\n",
    "\n",
    "La idea fundamental detrás de la regresión logística es modelar la relación entre las variables independientes (características o atributos) y la variable dependiente (etiquetas de clase) utilizando una función logística (también conocida como sigmoide). La función logística toma cualquier valor real y lo mapea a un rango entre $0$ y $1$, es decir, probabilidades. Entonces se puede entender que dados un conjunto de datos entrada es posible obtener una clasificación a partir del modelo.\n",
    "\n",
    "La forma general de la función logística es:\n",
    "\n",
    "$$sigmoid(z)=\\frac{1}{(1+e^{-z})}$$\n",
    "\n",
    "En el contexto de la regresión logística, la variable $z$ es la combinación lineal de las variables independientes ponderadas por los coeficientes del modelo. La función logística se aplica a $z$ para obtener la probabilidad de que una muestra pertenezca a una clase específica.\n",
    "\n",
    "Aquí un ejemplo sencillo:\n"
   ]
  },
  {
   "cell_type": "code",
   "execution_count": 40,
   "id": "2c49b416",
   "metadata": {},
   "outputs": [
    {
     "name": "stdout",
     "output_type": "stream",
     "text": [
      "Precisión: 100.00%\n",
      "[[1.08671177 0.45797507]] [-4.87989555]\n"
     ]
    }
   ],
   "source": [
    "import numpy as np\n",
    "from sklearn.linear_model import LogisticRegression\n",
    "\n",
    "# Datos de entrenamiento\n",
    "X_train = np.array([[1, 2], [2, 3], [3, 1], [4, 3], [5, 3], [6, 2]])\n",
    "y_train = np.array([0, 0, 0, 1, 1, 1])\n",
    "\n",
    "# Crear el modelo de regresión logística\n",
    "modelo = LogisticRegression()\n",
    "\n",
    "# Entrenar el modelo\n",
    "modelo.fit(X_train, y_train)\n",
    "\n",
    "# Datos de prueba\n",
    "X_test = np.array([[2, 2], [4, 1], [5, 5]])\n",
    "y_test = np.array([0, 0, 1])\n",
    "\n",
    "# Realizar predicciones\n",
    "predictions = modelo.predict(X_test)\n",
    "\n",
    "# Calcular la precisión del modelo\n",
    "accuracy = np.mean(predictions == y_test)\n",
    "print(\"Precisión: {:.2f}%\".format(accuracy * 100))\n",
    "\n",
    "# Obtener los coeficientes del modelo\n",
    "coef = modelo.coef_\n",
    "intercepto = modelo.intercept_\n",
    "\n",
    "print(coef,intercepto)"
   ]
  },
  {
   "cell_type": "markdown",
   "id": "0072ca17",
   "metadata": {},
   "source": [
    "En este ejemplo el vector *X_train* $(1,2)$, $(2,3)$... están ubicados en la clasificación $0$... y así sucesivamente. El objetivo es crear un modelo en el que se pronostique la clasificación de datos inéditos."
   ]
  },
  {
   "cell_type": "code",
   "execution_count": 42,
   "id": "1fcfe482",
   "metadata": {
    "scrolled": false
   },
   "outputs": [
    {
     "data": {
      "text/plain": [
       "<matplotlib.legend.Legend at 0x2d72cb67eb0>"
      ]
     },
     "execution_count": 42,
     "metadata": {},
     "output_type": "execute_result"
    },
    {
     "data": {
      "image/png": "[encoded data removed]",
      "text/plain": [
       "<Figure size 432x288 with 1 Axes>"
      ]
     },
     "metadata": {
      "needs_background": "light"
     },
     "output_type": "display_data"
    }
   ],
   "source": [
    "import matplotlib.pyplot as plt\n",
    "\n",
    "plt.scatter(X_train[:, 0], X_train[:, 1], c=y_train, cmap='bwr', label='Training')\n",
    "\n",
    "# Crear un gráfico de dispersión de los datos de prueba\n",
    "plt.scatter(X_test[:, 0], X_test[:, 1], c=y_test, cmap='bwr', marker='x', label='Testing')\n",
    "\n",
    "# Graficar la frontera de decisión\n",
    "x1 = np.linspace(0, 7, 100)\n",
    "x2 = (-coef[0, 0] * x1 - intercept) / coef[0, 1]\n",
    "plt.plot(x1, x2, color='black', label='Frontera de Decisión')\n",
    "\n",
    "# Configurar etiquetas y título del gráfico\n",
    "plt.xlabel('Característica 1')\n",
    "plt.ylabel('Característica 2')\n",
    "plt.title('Regresión Logística')\n",
    "plt.legend()\n"
   ]
  },
  {
   "cell_type": "markdown",
   "id": "81ef436b",
   "metadata": {},
   "source": [
    "Notar que los puntos azules pertenecen a la clasificación $0$; los rojos a la clasificación $1$. La frontera de decisión separa las clasificaciones para entender mejor la agrupación."
   ]
  },
  {
   "cell_type": "code",
   "execution_count": 48,
   "id": "8e53b2a5",
   "metadata": {
    "scrolled": true
   },
   "outputs": [
    {
     "data": {
      "text/plain": [
       "array([0, 1, 0, 0])"
      ]
     },
     "execution_count": 48,
     "metadata": {},
     "output_type": "execute_result"
    }
   ],
   "source": [
    "X_inédito = np.array([[2, 0], [5, 3], [2, 5],[0,0]])\n",
    "\n",
    "# Realizar predicciones\n",
    "predictions = modelo.predict(X_inédito)\n",
    "predictions"
   ]
  },
  {
   "cell_type": "markdown",
   "id": "fe9eb242",
   "metadata": {},
   "source": [
    "En este caso, las predicciones para datos inéditos se pueden interpretar en la gráfica. Entonces este modelo sencillo tiene la esencia de la regresión logística."
   ]
  },
  {
   "cell_type": "code",
   "execution_count": 80,
   "id": "faec4778",
   "metadata": {
    "scrolled": true
   },
   "outputs": [
    {
     "name": "stdout",
     "output_type": "stream",
     "text": [
      "Valor de z: [[-1.61976024]]\n",
      "Probabilidad estimada: [[0.16523794]]\n",
      "Clase predicha: 0\n"
     ]
    }
   ],
   "source": [
    "# Comprobar la validez de la ecuación\n",
    "datos_compr = np.array([[3, 0]])  # Datos de entrada para comprobar\n",
    "\n",
    "# Calcular el valor de z\n",
    "z = np.dot(datos_compr, coef.T) + intercepto #notar que \".T\" es tranpuesto\n",
    "\n",
    "# Aplicar la función logística\n",
    "prob = 1 / (1 + np.exp(-z))\n",
    "\n",
    "# Imprimir los resultados\n",
    "print(\"Valor de z:\", z)\n",
    "print(\"Probabilidad estimada:\", prob)\n",
    "\n",
    "# Comparar con el umbral de decisión\n",
    "umbral = 0.2\n",
    "clase_predicha = 1 if prob > umbral else 0\n",
    "print(\"Clase predicha:\", clase_predicha)"
   ]
  },
  {
   "cell_type": "markdown",
   "id": "46f7c890",
   "metadata": {},
   "source": [
    "Es importante mencionar que la clase positiva es $1$; la negativa $0$.\n",
    "\n",
    "La clase que se quiere predecir es $1$ por lo que si $prob$ es mayor que $umbral$ entonces pertenece a la clase $1$, si es menor pertenece a la clase $0$. Las probabilidades sirven para saber qué valores se van a asignar a cada clase como se acaba de ver."
   ]
  },
  {
   "cell_type": "code",
   "execution_count": 101,
   "id": "21d10770",
   "metadata": {
    "scrolled": false
   },
   "outputs": [
    {
     "name": "stdout",
     "output_type": "stream",
     "text": [
      "Coeficientes: [[-1.26545691e-01  4.53531014e-02  5.17745313e-07  1.03549068e-03]]\n",
      "Término constante: [-67.26749086]\n"
     ]
    },
    {
     "name": "stderr",
     "output_type": "stream",
     "text": [
      "C:\\Users\\kevin\\Dropbox\\Python 3.9\\lib\\site-packages\\sklearn\\linear_model\\_logistic.py:814: ConvergenceWarning: lbfgs failed to converge (status=1):\n",
      "STOP: TOTAL NO. of ITERATIONS REACHED LIMIT.\n",
      "\n",
      "Increase the number of iterations (max_iter) or scale the data as shown in:\n",
      "    https://scikit-learn.org/stable/modules/preprocessing.html\n",
      "Please also refer to the documentation for alternative solver options:\n",
      "    https://scikit-learn.org/stable/modules/linear_model.html#logistic-regression\n",
      "  n_iter_i = _check_optimize_result(\n"
     ]
    }
   ],
   "source": [
    "from sklearn.linear_model import LogisticRegression\n",
    "from sklearn.preprocessing import LabelEncoder, OneHotEncoder\n",
    "from sklearn.compose import ColumnTransformer\n",
    "\n",
    "\n",
    "import pandas as pd\n",
    "# Datos de ejemplo\n",
    "datos = pd.DataFrame({'Género': ['Masculino', 'Femenino', 'Masculino', 'Femenino'],\n",
    "                     'Edad': [25, 30, 35, 40],\n",
    "                     'Salario': [50000, 60000, 70000, 80000],\n",
    "                     'Compró': ['No', 'No', 'Sí', 'Sí']})\n",
    "\n",
    "# Codificar variables categóricas\n",
    "label_encoder = LabelEncoder()\n",
    "datos['Género_encoded'] = label_encoder.fit_transform(datos['Género'])\n",
    "\n",
    "# Separar características y variable objetivo\n",
    "X = datos[['Género_encoded', 'Edad', 'Salario']]\n",
    "y = datos['Compró']\n",
    "\n",
    "# Transformar variables categóricas a variables ficticias (one-hot encoding)\n",
    "transformer = ColumnTransformer(transformers=[('OneHotEncoder', OneHotEncoder(), [0])],\n",
    "                                remainder='passthrough')\n",
    "X = transformer.fit_transform(X)\n",
    "\n",
    "# Ajustar el modelo de regresión logística\n",
    "model2 = LogisticRegression()\n",
    "model2.fit(X, y)\n",
    "\n",
    "# Coeficientes y término constante del modelo\n",
    "coefficients = model2.coef_\n",
    "intercept = model2.intercept_\n",
    "\n",
    "# Imprimir los resultados\n",
    "print(\"Coeficientes:\", coefficients)\n",
    "print(\"Término constante:\", intercept)\n",
    "\n"
   ]
  },
  {
   "cell_type": "code",
   "execution_count": null,
   "id": "3ff04f4c",
   "metadata": {},
   "outputs": [],
   "source": []
  }
 ],
 "metadata": {
  "kernelspec": {
   "display_name": "Python 3 (ipykernel)",
   "language": "python",
   "name": "python3"
  },
  "language_info": {
   "codemirror_mode": {
    "name": "ipython",
    "version": 3
   },
   "file_extension": ".py",
   "mimetype": "text/x-python",
   "name": "python",
   "nbconvert_exporter": "python",
   "pygments_lexer": "ipython3",
   "version": "3.9.12"
  }
 },
 "nbformat": 4,
 "nbformat_minor": 5
}
