{
 "cells": [
  {
   "cell_type": "code",
   "execution_count": 8,
   "id": "3eb2ee18",
   "metadata": {},
   "outputs": [],
   "source": [
    "import pandas as pd, numpy as np, statistics"
   ]
  },
  {
   "cell_type": "code",
   "execution_count": 64,
   "id": "f1fc35ca",
   "metadata": {},
   "outputs": [],
   "source": [
    "def distribucion_perdida_binomial (N,M,p,c): #N es el número de escenarios posibles por simulación, \n",
    "    #M es el número de simulaciones, p es la probabilidad de incumplimiento, c son los montos de pérdida \n",
    "    U = np.random.uniform(0,1,[M,N]) #matriz de NxM en (0,1)\n",
    "    indicador = 1* np.less(U, p) #matriz que asigna los incumplientos con 1 y 0 en otro caso\n",
    "    Distribucion = np.sort(np.dot(indicador , c ) , axis =None)\n",
    "    return Distribucion"
   ]
  },
  {
   "cell_type": "code",
   "execution_count": 96,
   "id": "7691f089",
   "metadata": {},
   "outputs": [],
   "source": [
    "Distribucion_matriz=distribucion_perdida_binomial(5,1,.5,150) #incumplientos y pérdidas"
   ]
  },
  {
   "cell_type": "code",
   "execution_count": 116,
   "id": "9aebe229",
   "metadata": {},
   "outputs": [
    {
     "data": {
      "text/plain": [
       "array([  0,   0,   0, 150, 150])"
      ]
     },
     "execution_count": 116,
     "metadata": {},
     "output_type": "execute_result"
    }
   ],
   "source": [
    "Distribucion_matriz"
   ]
  },
  {
   "cell_type": "code",
   "execution_count": 120,
   "id": "534e6143",
   "metadata": {},
   "outputs": [],
   "source": [
    "def medidas_riesgo (M,Distribucion, alpha):\n",
    "    perdida_esperada = np.mean (Distribucion)\n",
    "    perdida_noesperada = np.std(Distribucion)\n",
    "    deficit_esperado = np.zeros([len(alpha)])\n",
    "    var = np.zeros([len( alpha )])\n",
    "    for n in range (0 , len ( alpha ) ) :\n",
    "        quantil = np.ceil ( alpha [ n ] * (M-1) ).astype( int )\n",
    "        deficit_esperado[n] = np.mean ( Distribucion [ quantil :M-1])\n",
    "        var [n] = Distribucion [quantil]\n",
    "    return perdida_esperada , perdida_noesperada , var , deficit_esperado"
   ]
  },
  {
   "cell_type": "code",
   "execution_count": 121,
   "id": "87782cef",
   "metadata": {},
   "outputs": [
    {
     "data": {
      "text/plain": [
       "(60.0, 73.48469228349535, array([150.]), array([nan]))"
      ]
     },
     "execution_count": 121,
     "metadata": {},
     "output_type": "execute_result"
    }
   ],
   "source": [
    "medidas_riesgo(5,Distribucion_matriz,[.96])"
   ]
  }
 ],
 "metadata": {
  "kernelspec": {
   "display_name": "Python 3 (ipykernel)",
   "language": "python",
   "name": "python3"
  },
  "language_info": {
   "codemirror_mode": {
    "name": "ipython",
    "version": 3
   },
   "file_extension": ".py",
   "mimetype": "text/x-python",
   "name": "python",
   "nbconvert_exporter": "python",
   "pygments_lexer": "ipython3",
   "version": "3.9.12"
  }
 },
 "nbformat": 4,
 "nbformat_minor": 5
}
