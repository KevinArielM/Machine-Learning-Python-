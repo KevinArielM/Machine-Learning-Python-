{
 "cells": [
  {
   "cell_type": "code",
   "execution_count": 2,
   "id": "af2c61a1",
   "metadata": {},
   "outputs": [],
   "source": [
    "from sklearn.model_selection import train_test_split\n",
    "import pandas as pd\n",
    "\n"
   ]
  },
  {
   "cell_type": "code",
   "execution_count": 3,
   "id": "8275f53d",
   "metadata": {},
   "outputs": [
    {
     "data": {
      "text/html": [
       "<div>\n",
       "<style scoped>\n",
       "    .dataframe tbody tr th:only-of-type {\n",
       "        vertical-align: middle;\n",
       "    }\n",
       "\n",
       "    .dataframe tbody tr th {\n",
       "        vertical-align: top;\n",
       "    }\n",
       "\n",
       "    .dataframe thead th {\n",
       "        text-align: right;\n",
       "    }\n",
       "</style>\n",
       "<table border=\"1\" class=\"dataframe\">\n",
       "  <thead>\n",
       "    <tr style=\"text-align: right;\">\n",
       "      <th></th>\n",
       "      <th>longitude</th>\n",
       "      <th>latitude</th>\n",
       "      <th>housing_median_age</th>\n",
       "      <th>total_rooms</th>\n",
       "      <th>total_bedrooms</th>\n",
       "      <th>population</th>\n",
       "      <th>households</th>\n",
       "      <th>median_income</th>\n",
       "      <th>median_house_value</th>\n",
       "      <th>ocean_proximity</th>\n",
       "    </tr>\n",
       "  </thead>\n",
       "  <tbody>\n",
       "    <tr>\n",
       "      <th>0</th>\n",
       "      <td>-122.23</td>\n",
       "      <td>37.88</td>\n",
       "      <td>41.0</td>\n",
       "      <td>880.0</td>\n",
       "      <td>129.0</td>\n",
       "      <td>322.0</td>\n",
       "      <td>126.0</td>\n",
       "      <td>8.3252</td>\n",
       "      <td>452600.0</td>\n",
       "      <td>NEAR BAY</td>\n",
       "    </tr>\n",
       "    <tr>\n",
       "      <th>1</th>\n",
       "      <td>-122.22</td>\n",
       "      <td>37.86</td>\n",
       "      <td>21.0</td>\n",
       "      <td>7099.0</td>\n",
       "      <td>1106.0</td>\n",
       "      <td>2401.0</td>\n",
       "      <td>1138.0</td>\n",
       "      <td>8.3014</td>\n",
       "      <td>358500.0</td>\n",
       "      <td>NEAR BAY</td>\n",
       "    </tr>\n",
       "    <tr>\n",
       "      <th>2</th>\n",
       "      <td>-122.24</td>\n",
       "      <td>37.85</td>\n",
       "      <td>52.0</td>\n",
       "      <td>1467.0</td>\n",
       "      <td>190.0</td>\n",
       "      <td>496.0</td>\n",
       "      <td>177.0</td>\n",
       "      <td>7.2574</td>\n",
       "      <td>352100.0</td>\n",
       "      <td>NEAR BAY</td>\n",
       "    </tr>\n",
       "    <tr>\n",
       "      <th>3</th>\n",
       "      <td>-122.25</td>\n",
       "      <td>37.85</td>\n",
       "      <td>52.0</td>\n",
       "      <td>1274.0</td>\n",
       "      <td>235.0</td>\n",
       "      <td>558.0</td>\n",
       "      <td>219.0</td>\n",
       "      <td>5.6431</td>\n",
       "      <td>341300.0</td>\n",
       "      <td>NEAR BAY</td>\n",
       "    </tr>\n",
       "    <tr>\n",
       "      <th>4</th>\n",
       "      <td>-122.25</td>\n",
       "      <td>37.85</td>\n",
       "      <td>52.0</td>\n",
       "      <td>1627.0</td>\n",
       "      <td>280.0</td>\n",
       "      <td>565.0</td>\n",
       "      <td>259.0</td>\n",
       "      <td>3.8462</td>\n",
       "      <td>342200.0</td>\n",
       "      <td>NEAR BAY</td>\n",
       "    </tr>\n",
       "  </tbody>\n",
       "</table>\n",
       "</div>"
      ],
      "text/plain": [
       "   longitude  latitude  housing_median_age  total_rooms  total_bedrooms  \\\n",
       "0    -122.23     37.88                41.0        880.0           129.0   \n",
       "1    -122.22     37.86                21.0       7099.0          1106.0   \n",
       "2    -122.24     37.85                52.0       1467.0           190.0   \n",
       "3    -122.25     37.85                52.0       1274.0           235.0   \n",
       "4    -122.25     37.85                52.0       1627.0           280.0   \n",
       "\n",
       "   population  households  median_income  median_house_value ocean_proximity  \n",
       "0       322.0       126.0         8.3252            452600.0        NEAR BAY  \n",
       "1      2401.0      1138.0         8.3014            358500.0        NEAR BAY  \n",
       "2       496.0       177.0         7.2574            352100.0        NEAR BAY  \n",
       "3       558.0       219.0         5.6431            341300.0        NEAR BAY  \n",
       "4       565.0       259.0         3.8462            342200.0        NEAR BAY  "
      ]
     },
     "execution_count": 3,
     "metadata": {},
     "output_type": "execute_result"
    }
   ],
   "source": [
    "datos=pd.read_csv(\"housecsv.txt\")\n",
    "datos.head()"
   ]
  },
  {
   "cell_type": "code",
   "execution_count": 4,
   "id": "853fd67d",
   "metadata": {},
   "outputs": [],
   "source": [
    "datos=datos.dropna()"
   ]
  },
  {
   "cell_type": "code",
   "execution_count": 9,
   "id": "4a0d136f",
   "metadata": {},
   "outputs": [],
   "source": [
    "x_train,x_,y_train,y_=train_test_split(datos.drop([\"longitude\",\"latitude\",\"ocean_proximity\",\"median_house_value\"],axis=1),\n",
    "                                      datos.median_house_value,test_size=.4,stratify=datos.ocean_proximity)\n",
    "x_val,x_test,y_val,y_test=train_test_split(x_,y_,test_size=.4)"
   ]
  },
  {
   "cell_type": "code",
   "execution_count": 42,
   "id": "f3e3ba25",
   "metadata": {},
   "outputs": [],
   "source": [
    "#modelo para comparar\n",
    "from sklearn.ensemble import RandomForestRegressor, RandomForestClassifier"
   ]
  },
  {
   "cell_type": "code",
   "execution_count": 16,
   "id": "f8d257c1",
   "metadata": {},
   "outputs": [],
   "source": [
    "modelo = RandomForestRegressor().fit(x_train,y_train)"
   ]
  },
  {
   "cell_type": "code",
   "execution_count": 17,
   "id": "ed3e4346",
   "metadata": {},
   "outputs": [
    {
     "data": {
      "text/plain": [
       "0.6555359026669612"
      ]
     },
     "execution_count": 17,
     "metadata": {},
     "output_type": "execute_result"
    }
   ],
   "source": [
    "modelo.score(x_val,y_val)"
   ]
  },
  {
   "cell_type": "markdown",
   "id": "73b27407",
   "metadata": {},
   "source": []
  },
  {
   "cell_type": "markdown",
   "id": "d9794da3",
   "metadata": {},
   "source": [
    "### Validación cruzada"
   ]
  },
  {
   "cell_type": "code",
   "execution_count": 22,
   "id": "36b5938b",
   "metadata": {},
   "outputs": [],
   "source": [
    "#hay 5 subconjunto de los datos totales\n",
    "from sklearn.model_selection import cross_val_score, cross_val_predict"
   ]
  },
  {
   "cell_type": "code",
   "execution_count": 20,
   "id": "419343d8",
   "metadata": {},
   "outputs": [
    {
     "data": {
      "text/plain": [
       "array([0.62658347, 0.65888049, 0.63655872, 0.59907385, 0.59731244])"
      ]
     },
     "execution_count": 20,
     "metadata": {},
     "output_type": "execute_result"
    }
   ],
   "source": [
    "cross_val_score(modelo,x_val,y_val)"
   ]
  },
  {
   "cell_type": "code",
   "execution_count": 24,
   "id": "49e373ee",
   "metadata": {},
   "outputs": [
    {
     "data": {
      "text/plain": [
       "array([384046.22, 121618.  , 276803.  , ..., 159048.  , 160708.  ,\n",
       "        80252.  ])"
      ]
     },
     "execution_count": 24,
     "metadata": {},
     "output_type": "execute_result"
    }
   ],
   "source": [
    "#obtener predicciones de los cinco modelos\n",
    "cross_val_predict(modelo,x_test,y_test)"
   ]
  },
  {
   "cell_type": "markdown",
   "id": "f545070b",
   "metadata": {},
   "source": [
    "### Modelo Dummy"
   ]
  },
  {
   "cell_type": "code",
   "execution_count": 26,
   "id": "2e882027",
   "metadata": {},
   "outputs": [],
   "source": [
    "from sklearn.dummy import DummyClassifier, DummyRegressor"
   ]
  },
  {
   "cell_type": "code",
   "execution_count": 28,
   "id": "ba078c0c",
   "metadata": {},
   "outputs": [],
   "source": [
    "#la estrategia por defecto es tomar la media\n",
    "dummy=DummyRegressor(strategy=\"mean\")"
   ]
  },
  {
   "cell_type": "code",
   "execution_count": 29,
   "id": "6cc7b87e",
   "metadata": {},
   "outputs": [
    {
     "data": {
      "text/plain": [
       "DummyRegressor()"
      ]
     },
     "execution_count": 29,
     "metadata": {},
     "output_type": "execute_result"
    }
   ],
   "source": [
    "dummy.fit(x_train,y_train)"
   ]
  },
  {
   "cell_type": "code",
   "execution_count": 31,
   "id": "cc6278c4",
   "metadata": {},
   "outputs": [
    {
     "data": {
      "text/plain": [
       "-5.1560228335967295e-05"
      ]
     },
     "execution_count": 31,
     "metadata": {},
     "output_type": "execute_result"
    }
   ],
   "source": [
    "dummy.score(x_val,y_val)"
   ]
  },
  {
   "cell_type": "code",
   "execution_count": 32,
   "id": "87d7c390",
   "metadata": {},
   "outputs": [
    {
     "data": {
      "text/plain": [
       "array([209232.16055046, 209232.16055046, 209232.16055046, ...,\n",
       "       207290.37767584, 207290.37767584, 207290.37767584])"
      ]
     },
     "execution_count": 32,
     "metadata": {},
     "output_type": "execute_result"
    }
   ],
   "source": [
    "cross_val_predict(dummy,x_test,y_test)"
   ]
  },
  {
   "cell_type": "code",
   "execution_count": 34,
   "id": "2883b996",
   "metadata": {},
   "outputs": [],
   "source": [
    "x_train,x_,y_train,y_=train_test_split(datos.drop([\"longitude\",\"latitude\",\"ocean_proximity\",\"median_house_value\"],axis=1),\n",
    "                                      datos.ocean_proximity, test_size=.5)\n",
    "x_val,x_test,y_val,y_test=train_test_split(x_,y_,test_size=.4)"
   ]
  },
  {
   "cell_type": "code",
   "execution_count": 39,
   "id": "b9b6a400",
   "metadata": {},
   "outputs": [],
   "source": [
    "#cambiando la estrategia\n",
    "dummy=DummyClassifier(strategy=\"prior\")"
   ]
  },
  {
   "cell_type": "code",
   "execution_count": 40,
   "id": "556bdd80",
   "metadata": {},
   "outputs": [
    {
     "data": {
      "text/plain": [
       "DummyClassifier()"
      ]
     },
     "execution_count": 40,
     "metadata": {},
     "output_type": "execute_result"
    }
   ],
   "source": [
    "dummy.fit(x_train,y_train)"
   ]
  },
  {
   "cell_type": "code",
   "execution_count": 41,
   "id": "2f2768e0",
   "metadata": {},
   "outputs": [
    {
     "data": {
      "text/plain": [
       "0.4373572593800979"
      ]
     },
     "execution_count": 41,
     "metadata": {},
     "output_type": "execute_result"
    }
   ],
   "source": [
    "dummy.score(x_val,y_val)"
   ]
  },
  {
   "cell_type": "code",
   "execution_count": 43,
   "id": "d124ad41",
   "metadata": {},
   "outputs": [],
   "source": [
    "modelo=RandomForestClassifier().fit(x_train,y_train)"
   ]
  },
  {
   "cell_type": "code",
   "execution_count": 45,
   "id": "0ff55e66",
   "metadata": {},
   "outputs": [
    {
     "data": {
      "text/plain": [
       "0.5944535073409462"
      ]
     },
     "execution_count": 45,
     "metadata": {},
     "output_type": "execute_result"
    }
   ],
   "source": [
    "#es mejor predictor\n",
    "modelo.score(x_val,y_val)"
   ]
  },
  {
   "cell_type": "code",
   "execution_count": 46,
   "id": "8bd01c68",
   "metadata": {},
   "outputs": [
    {
     "name": "stderr",
     "output_type": "stream",
     "text": [
      "C:\\Users\\kevin\\Dropbox\\Python 3.9\\lib\\site-packages\\sklearn\\model_selection\\_split.py:676: UserWarning: The least populated class in y has only 3 members, which is less than n_splits=5.\n",
      "  warnings.warn(\n"
     ]
    },
    {
     "data": {
      "text/plain": [
       "array([0.59535452, 0.57823961, 0.58506732, 0.58384333, 0.6119951 ])"
      ]
     },
     "execution_count": 46,
     "metadata": {},
     "output_type": "execute_result"
    }
   ],
   "source": [
    "cross_val_score(modelo,x_test,y_test)"
   ]
  },
  {
   "cell_type": "code",
   "execution_count": 47,
   "id": "fd11f9c9",
   "metadata": {},
   "outputs": [
    {
     "name": "stderr",
     "output_type": "stream",
     "text": [
      "C:\\Users\\kevin\\Dropbox\\Python 3.9\\lib\\site-packages\\sklearn\\model_selection\\_split.py:676: UserWarning: The least populated class in y has only 3 members, which is less than n_splits=5.\n",
      "  warnings.warn(\n"
     ]
    },
    {
     "data": {
      "text/plain": [
       "array([0.45110024, 0.44987775, 0.4504284 , 0.4504284 , 0.4504284 ])"
      ]
     },
     "execution_count": 47,
     "metadata": {},
     "output_type": "execute_result"
    }
   ],
   "source": [
    "cross_val_score(dummy,x_test,y_test)"
   ]
  },
  {
   "cell_type": "markdown",
   "id": "d244ae26",
   "metadata": {},
   "source": [
    "El modelo inicial superó en precisión al modelo dummy"
   ]
  },
  {
   "cell_type": "code",
   "execution_count": null,
   "id": "32514645",
   "metadata": {},
   "outputs": [],
   "source": []
  }
 ],
 "metadata": {
  "kernelspec": {
   "display_name": "Python 3 (ipykernel)",
   "language": "python",
   "name": "python3"
  },
  "language_info": {
   "codemirror_mode": {
    "name": "ipython",
    "version": 3
   },
   "file_extension": ".py",
   "mimetype": "text/x-python",
   "name": "python",
   "nbconvert_exporter": "python",
   "pygments_lexer": "ipython3",
   "version": "3.9.12"
  }
 },
 "nbformat": 4,
 "nbformat_minor": 5
}
