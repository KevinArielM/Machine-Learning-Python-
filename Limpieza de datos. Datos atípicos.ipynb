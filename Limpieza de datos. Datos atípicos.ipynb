{
 "cells": [
  {
   "cell_type": "code",
   "execution_count": 1,
   "id": "f77ffe34",
   "metadata": {},
   "outputs": [
    {
     "data": {
      "image/png": "[encoded data removed]",
      "text/plain": [
       "<Figure size 432x288 with 1 Axes>"
      ]
     },
     "metadata": {
      "needs_background": "light"
     },
     "output_type": "display_data"
    }
   ],
   "source": [
    "%matplotlib inline\n",
    "\n",
    "import numpy as np,  statistics\n",
    "\n",
    "\n",
    "\n",
    "ingresos=np.random.normal(37000,16000,10000) #10000 numeros normales\n",
    "ingresos=np.append(ingresos,[100000000]) #agregar un atípico intencional\n",
    "\n",
    "import matplotlib.pyplot as plt\n",
    "plt.hist(ingresos,90)\n",
    "plt.show()"
   ]
  },
  {
   "cell_type": "code",
   "execution_count": 2,
   "id": "3fad3b94",
   "metadata": {},
   "outputs": [
    {
     "data": {
      "text/plain": [
       "(47206.082440693666, 37344.34743792853, 999307932124.7607)"
      ]
     },
     "execution_count": 2,
     "metadata": {},
     "output_type": "execute_result"
    }
   ],
   "source": [
    "ingresos.mean(), np.median(ingresos), ingresos.var() #notar que la media teórica no es representativa\n"
   ]
  },
  {
   "cell_type": "markdown",
   "id": "f2ee9c96",
   "metadata": {},
   "source": [
    "Quitar el valor atípico no es la mejor solución porque posiblemente el dato sea importante. Sin embargo se pueden filtrar este tipo de datos mediante una función:"
   ]
  },
  {
   "cell_type": "code",
   "execution_count": 3,
   "id": "5fcb1961",
   "metadata": {},
   "outputs": [
    {
     "data": {
      "image/png": "[encoded data removed]",
      "text/plain": [
       "<Figure size 432x288 with 1 Axes>"
      ]
     },
     "metadata": {
      "needs_background": "light"
     },
     "output_type": "display_data"
    }
   ],
   "source": [
    "#función que rechaza datos fuera de un intervalo\n",
    "def rechazar_atipicos(datos):\n",
    "    u=np.median(datos)\n",
    "    s=np.std(datos)\n",
    "    filtrar=[e for e in datos if (u - 2 * s< e <u + 2 * s)]\n",
    "    return filtrar\n",
    "y=rechazar_atipicos(ingresos)\n",
    "\n",
    "plt.hist(y,50)\n",
    "plt.show()\n",
    "    "
   ]
  },
  {
   "cell_type": "code",
   "execution_count": 4,
   "id": "ddfe7cd2",
   "metadata": {},
   "outputs": [
    {
     "data": {
      "text/plain": [
       "(37210.80304893774, 37341.181696598156, 251856115.24596143)"
      ]
     },
     "execution_count": 4,
     "metadata": {},
     "output_type": "execute_result"
    }
   ],
   "source": [
    "np.mean(y), np.median(y),np.var(y)"
   ]
  },
  {
   "cell_type": "markdown",
   "id": "41af6d97",
   "metadata": {},
   "source": [
    "Notar que la función que filtra datos obtiene estadística descriptiva similar a la distribución teórica inicial."
   ]
  }
 ],
 "metadata": {
  "kernelspec": {
   "display_name": "Python 3 (ipykernel)",
   "language": "python",
   "name": "python3"
  },
  "language_info": {
   "codemirror_mode": {
    "name": "ipython",
    "version": 3
   },
   "file_extension": ".py",
   "mimetype": "text/x-python",
   "name": "python",
   "nbconvert_exporter": "python",
   "pygments_lexer": "ipython3",
   "version": "3.9.12"
  }
 },
 "nbformat": 4,
 "nbformat_minor": 5
}
