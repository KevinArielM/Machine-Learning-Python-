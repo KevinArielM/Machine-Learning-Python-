{
 "cells": [
  {
   "cell_type": "code",
   "execution_count": 9,
   "id": "30c5541e",
   "metadata": {},
   "outputs": [
    {
     "name": "stdout",
     "output_type": "stream",
     "text": [
      "150\n",
      "4\n"
     ]
    },
    {
     "data": {
      "text/plain": [
       "['setosa', 'versicolor', 'virginica']"
      ]
     },
     "execution_count": 9,
     "metadata": {},
     "output_type": "execute_result"
    }
   ],
   "source": [
    "#Usando los datos de sklearn\n",
    "\n",
    "from sklearn.datasets import load_iris\n",
    "from sklearn.decomposition import PCA\n",
    "import pylab as pl\n",
    "from itertools import cycle\n",
    "\n",
    "iris=load_iris()\n",
    "\n",
    "muestras, caracteristicas = iris.data.shape\n",
    "print (muestras)\n",
    "print (caracteristicas)\n",
    "list(iris.target_names)"
   ]
  },
  {
   "cell_type": "markdown",
   "id": "709d4a46",
   "metadata": {},
   "source": [
    "Implica que hay 150 muestras con 4 características de iris y además 3 categorías, que son los datos de salida"
   ]
  },
  {
   "cell_type": "code",
   "execution_count": 12,
   "id": "fdedb801",
   "metadata": {},
   "outputs": [],
   "source": [
    "X=iris.data\n",
    "acp=PCA(n_components=2, whiten=True).fit(X) #reducir de 4 dimensiones a dos dimensiones\n",
    "X_acp=acp.transform(X) #son datos normalizados"
   ]
  },
  {
   "cell_type": "code",
   "execution_count": 17,
   "id": "9ffd4d25",
   "metadata": {},
   "outputs": [
    {
     "name": "stdout",
     "output_type": "stream",
     "text": [
      "[[ 0.36138659 -0.08452251  0.85667061  0.3582892 ]\n",
      " [ 0.65658877  0.73016143 -0.17337266 -0.07548102]]\n"
     ]
    }
   ],
   "source": [
    "print(acp.components_) #son los vectores propios para definir los planos"
   ]
  },
  {
   "cell_type": "markdown",
   "id": "ee820fa4",
   "metadata": {},
   "source": [
    "Un objetivo del ACP es preservar la varianza lo máximo posible"
   ]
  },
  {
   "cell_type": "code",
   "execution_count": 23,
   "id": "6e517be1",
   "metadata": {},
   "outputs": [
    {
     "name": "stdout",
     "output_type": "stream",
     "text": [
      "[0.92461872 0.05306648]\n"
     ]
    }
   ],
   "source": [
    "#Varianza preservada por la primera dimensión y la segunda\n",
    "print(acp.explained_variance_ratio_)"
   ]
  },
  {
   "cell_type": "code",
   "execution_count": 25,
   "id": "5dadfabd",
   "metadata": {},
   "outputs": [
    {
     "name": "stdout",
     "output_type": "stream",
     "text": [
      "0.977685206318795\n"
     ]
    }
   ],
   "source": [
    "#Varianza junta preservada por las dos dimensiones\n",
    "print(sum(acp.explained_variance_ratio_))"
   ]
  },
  {
   "cell_type": "markdown",
   "id": "69fd9275",
   "metadata": {},
   "source": [
    "Se puede concluir que las 4 dimensiones no eran tan necesarias porque con 2 dimensiones se conservó el $97.7\\%$ de la varianza."
   ]
  },
  {
   "cell_type": "code",
   "execution_count": 37,
   "id": "988727fe",
   "metadata": {},
   "outputs": [
    {
     "data": {
      "image/png": "[encoded data removed]",
      "text/plain": [
       "<Figure size 432x288 with 1 Axes>"
      ]
     },
     "metadata": {
      "needs_background": "light"
     },
     "output_type": "display_data"
    }
   ],
   "source": [
    "colors=cycle(\"ryb\") #definir colores\n",
    "objetivo_iris=range(len(iris.target_names)) #los datos de salida \n",
    "pl.figure()\n",
    "for i,c, label in zip(objetivo_iris,colors,iris.target_names): #ordenar de acuerdo a las especies\n",
    "    pl.scatter(X_acp[iris.target==i,0], X_acp[iris.target==i,1], #graficar de a una categoría\n",
    "    c=c, label=label)\n",
    "pl.legend()\n",
    "pl.show()\n",
    "#Y se tiene el objeto de 4 dimensiones proyectado en dos dimensiones    \n",
    "    \n",
    "    "
   ]
  },
  {
   "cell_type": "markdown",
   "id": "64b84ecc",
   "metadata": {},
   "source": [
    "Ahora reducir a una dimensión"
   ]
  },
  {
   "cell_type": "code",
   "execution_count": 39,
   "id": "b8453d71",
   "metadata": {},
   "outputs": [],
   "source": [
    "X=iris.data\n",
    "acp=PCA(n_components=1, whiten=False).fit(X) #reducir de 4 dimensiones a dos dimensiones\n",
    "X_acp=acp.transform(X) #sin datos normalizados"
   ]
  },
  {
   "cell_type": "code",
   "execution_count": 41,
   "id": "816cd8b4",
   "metadata": {},
   "outputs": [
    {
     "name": "stdout",
     "output_type": "stream",
     "text": [
      "[[ 0.36138659 -0.08452251  0.85667061  0.3582892 ]]\n"
     ]
    }
   ],
   "source": [
    "print(acp.components_) #son los vectores propios para definir los planos"
   ]
  },
  {
   "cell_type": "code",
   "execution_count": 43,
   "id": "bf0d2702",
   "metadata": {},
   "outputs": [
    {
     "name": "stdout",
     "output_type": "stream",
     "text": [
      "[0.92461872]\n"
     ]
    }
   ],
   "source": [
    "print(acp.explained_variance_ratio_)"
   ]
  },
  {
   "cell_type": "markdown",
   "id": "1bedad03",
   "metadata": {},
   "source": [
    "Por lo que se conservó menos varianza. Ahora con datos normalizados:"
   ]
  },
  {
   "cell_type": "code",
   "execution_count": 49,
   "id": "2c936bdb",
   "metadata": {},
   "outputs": [],
   "source": [
    "X=iris.data\n",
    "acp=PCA(n_components=1, whiten=True).fit(X) #reducir de 4 dimensiones a dos dimensiones\n",
    "X_acp=acp.transform(X) #son datos normalizados"
   ]
  },
  {
   "cell_type": "code",
   "execution_count": 50,
   "id": "89e42510",
   "metadata": {},
   "outputs": [
    {
     "name": "stdout",
     "output_type": "stream",
     "text": [
      "[[ 0.36138659 -0.08452251  0.85667061  0.3582892 ]]\n"
     ]
    }
   ],
   "source": [
    "print(acp.components_) #son los vectores propios para definir los planos"
   ]
  },
  {
   "cell_type": "code",
   "execution_count": 52,
   "id": "82177c92",
   "metadata": {},
   "outputs": [
    {
     "name": "stdout",
     "output_type": "stream",
     "text": [
      "[0.92461872]\n"
     ]
    }
   ],
   "source": [
    "print(acp.explained_variance_ratio_)"
   ]
  },
  {
   "cell_type": "markdown",
   "id": "bc2abc44",
   "metadata": {},
   "source": [
    "Por lo tanto, para esta reducción no hubo un cambio significativo usando datos normalizados."
   ]
  }
 ],
 "metadata": {
  "kernelspec": {
   "display_name": "Python 3 (ipykernel)",
   "language": "python",
   "name": "python3"
  },
  "language_info": {
   "codemirror_mode": {
    "name": "ipython",
    "version": 3
   },
   "file_extension": ".py",
   "mimetype": "text/x-python",
   "name": "python",
   "nbconvert_exporter": "python",
   "pygments_lexer": "ipython3",
   "version": "3.9.12"
  }
 },
 "nbformat": 4,
 "nbformat_minor": 5
}
