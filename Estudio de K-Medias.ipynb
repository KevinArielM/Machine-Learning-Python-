{
 "cells": [
  {
   "cell_type": "markdown",
   "id": "3daa7715",
   "metadata": {},
   "source": [
    "### Varianza y desviación estándar\n",
    "\n",
    "En el estudio de datos numéricos, la media $\\frac{\\sum_{i=0}^{n}x_{i}}{n}$ representa el centro de los datos pero no explica la variabilidad de estos. La varianza y la desviación estándar sí explican qué tanto se mueven los datos respecto a la media.\n",
    "\n",
    "Para una muestra, la variación se representa como $(x_{i}-\\bar x)$, en donde $\\bar x$ es la media muestral. En cambio para la población la variación se representa como $(x_{i}-\\mu)$, siendo $\\mu$ la media poblacional, también conocida como media teórica.\n",
    "\n",
    "La media muestral es un estimador insesgado de la media teórica porque $E(\\bar X)= \\mu$.\n",
    "\n",
    "Notar que el promedio de las diferencias es cero porque la suma de las diferencias es cero: $$\\frac{1}{n}\\sum_{i=0}^{n}(x_{i}-\\bar x)=0$$ \n",
    "\n",
    "Si consideramos las diferencias al cuadrado la suma ya no es cero en todos los casos: $$\\sigma^2=\\frac{1}{N}\\sum_{i=0}^{n}(x_{i}-\\bar x)^2$$ \n",
    "\n",
    "Al promedio de las diferencias al cuadrado se le conoce como *varianza*, en donde $N$ es el tamaño de la población.\n",
    "\n",
    " A la *varianza muestral* se le denota como $S^2$ porque hay un ligera diferencia: $$S^2=\\frac{1}{n-1}\\sum_{i=0}^{n}(x_{i}-\\bar x)^2$$\n",
    " \n",
    "La desviación estándar es simplemente la raíz cuadrada según aplique de la varianza: $$\\sigma=\\sqrt{\\frac{1}{N}\\sum_{i=0}^{n}(x_{i}-\\bar x)^2}$$ \n",
    "\n",
    "y para la desviación muestral: $$S=\\sqrt{\\frac{1}{n-1}\\sum_{i=0}^{n}(x_{i}-\\bar x)^2}$$\n",
    "\n",
    "Tradicionalmente se trabaja sobre muestras para hacer inferencias poblacionales."
   ]
  },
  {
   "cell_type": "code",
   "execution_count": 1,
   "id": "6f15dbf6",
   "metadata": {},
   "outputs": [
    {
     "data": {
      "image/png": "[encoded data removed]",
      "text/plain": [
       "<Figure size 432x288 with 2 Axes>"
      ]
     },
     "metadata": {
      "needs_background": "light"
     },
     "output_type": "display_data"
    }
   ],
   "source": [
    "import numpy as np, matplotlib.pyplot as plt\n",
    "\n",
    "x = np.array([2,3,5,6])\n",
    "y = np.array([-8,-7,15,16])\n",
    "\n",
    "#para graficar\n",
    "my_range = np.arange(4)\n",
    "\n",
    "# medias, que es 4\n",
    "mean_x = np.mean(x)\n",
    "mean_y = np.mean(y)\n",
    "\n",
    "fig, axs = plt.subplots(1,2, sharey=True)\n",
    "axs[0].stem(my_range, x, label='valores de x', bottom=mean_x) \n",
    "axs[1].stem(my_range, y, label='valores de y', bottom=mean_y)\n",
    "legend_x = axs[0].legend(loc='upper right')\n",
    "legend_y = axs[1].legend(loc='lower right')\n",
    "plt.show()"
   ]
  },
  {
   "cell_type": "markdown",
   "id": "0595781e",
   "metadata": {},
   "source": [
    "Notar la variación respecto a la media."
   ]
  },
  {
   "cell_type": "markdown",
   "id": "e45a6c3b",
   "metadata": {},
   "source": [
    "### Datos multidimensionales\n",
    "\n",
    "Dadas $n$ observaciones y $p$ variables, la matriz de datos se representa comos sigue $X=(X_{1},X_{2},\\dots,X_{p})$, en donde cada $X_{j}$ denota la $j^{th}$ variable con $n$ observaciones. \n",
    "\n",
    "Además $X_{j}$ representa $nx1$, que es una columna vector: \n",
    "\\begin{pmatrix} X_{1j} \\\\ \\vdots \\\\ X_{nj}  \\end{pmatrix}\n",
    "\n",
    "\n",
    "Al mismo tiempo $\\mu_{1}$ representa la media teórica, $\\bar x_{1}$ la media muestral para $X_{1}$.\n",
    "\n",
    "La media muestral es un estimador insesgado para la media poblacional, por lo que la media teórica se puede calcular como $$\\bar x_{j}=\\frac{\\sum_{i=1} ^{n}x_{ij}}{n}$$\n",
    "\n",
    "en donde $x_{ij}$ denota la observación de la variable $j$ en el registro $i$, o sea, en la entrada $ij$.\n",
    "\n",
    "El vector de media poblacional se escribe como $\\mu =\\begin{pmatrix} \\mu_{1} \\\\ \\vdots \\\\ \\mu_{p}  \\end{pmatrix}$\n",
    "\n",
    "cada subindice corresponde a cada variable.\n",
    "\n",
    "Este vector, similarmente, se puede calcular como sigue:\n",
    "\n",
    "$\\bar x =\\begin{pmatrix} \\bar x_{1} \\\\ \\vdots \\\\ \\bar x_{p}  \\end{pmatrix}$\n",
    "\n",
    "y se cumple la propiedad insesgada de la media pero ahora para vectores, es decir, para el caso multivariado."
   ]
  },
  {
   "cell_type": "markdown",
   "id": "c4545a4f",
   "metadata": {},
   "source": [
    "### Varianza multidimensional\n",
    "\n",
    "La varianza poblaciona multidimensional es el promedio de las varianzas por cada variable: $$\\sigma _{j}^{2}=\\frac{\\sum_{i=1}^{N}(x_{ij}-\\mu_{j})^2}{N}$$\n",
    "\n",
    "En donde $N$ es el tamaño de la población.\n",
    "\n",
    "La varianza muestral también es un estimador insesgado para la varianza teórica, por lo que se puede estimar como sigue: $$s_{j}^{2}=\\frac{1}{n-1}\\sum _{i=1}^{n}(x_{ij}-\\bar x_{j})^2$$\n",
    "\n",
    "### Covarianza\n",
    "\n",
    "¿Cómo se relacionan las variables entre sí? La covarianza mide la relación entre dos variables $j$ y $k$.\n",
    "\n",
    "La covarianza poblacional mide la relación de dos variables poblacionales. La covarianza poblacional $\\sigma _{jk}$ entre $j$ y $k$ puede estimarse con la covarianza muestral $s_{jk}$ por la propiedad insesgada.\n",
    "Se calcula de la siguente forma: $$s_{jk}=\\frac{1}{n-1}\\sum_{i=1}^{n}(x_{ij}-\\bar x_{j})(x_{ij}-\\bar x_{k})$$\n",
    "\n",
    "Interpretación:\n",
    "\n",
    "1. $s_{jk}=0$, no hay relación entre las dos variables. \n",
    "2. $s_{jk}> 0$, hay relación positiva entre las dos variables.\n",
    "3. $s_{jk}<0$, hay relación negativa entre las dos variables.\n",
    "\n",
    "Estas covarianzas se pueden representan en una matriz:\n",
    "$ \\Sigma=\\begin{pmatrix} \n",
    "\\sigma_{1}^2 & \\dots & \\sigma_{1p} \\\\ \n",
    "\\vdots & \\dots & \\vdots \\\\ \n",
    "\\sigma_{p1} & \\dots & \\sigma_{p}^2 \n",
    "\\end{pmatrix}$\n",
    "\n",
    "En donde las diagonales son las varianzas poblacionales.\n",
    "\n",
    "De igual forma, la matriz de varianza-covarianza muestral se denota como sigue:\n",
    " \n",
    "$ S=\\begin{pmatrix} \n",
    "s_{1}^2 & \\dots & s_{1p} \\\\ \n",
    "\\vdots & \\dots & \\vdots \\\\ \n",
    "s_{p1} & \\dots & s_{p}^2 \n",
    "\\end{pmatrix}$\n",
    "\n",
    "\n",
    "En donde las diagonales son las varianzas muestrales."
   ]
  },
  {
   "cell_type": "markdown",
   "id": "f80a3b73",
   "metadata": {},
   "source": [
    "Dados dos vectores $x,y \\in \\mathbb{R}^{m}$, que son vectores de $1xm$, es decir. $x=(x_{1},x_{2}, \\dots, x_{m})$ y $y=(y_{1},y_{2}, \\dots, y_{m})$ y un valor $p$ tal que $1\\leq p < \\infty$, la distancia $L_{p}$ entre $x$ y $y$ se define como $$L_{p}(x,y)=(\\sum_{i=1}^{m}|x_{i}-y_{i}|^{p})^\\frac{1}{p}$$\n",
    "\n",
    "Casos para $p$:\n",
    "\n",
    "1. $p=1$ implica $L_{1}$, que es la distancia Manhattan ($\\sum |x_{i}-y_{i}|$).\n",
    "2. $p=2$ implica $L_{2}$, que es la distancia Euclidiana.\n",
    "3. $p=\\infty$ implica $L_{\\infty}$, que es la ditancia $L-$ infinita ($\\max |x_{i}-y_{i}|$).\n",
    "\n",
    "La utilizada en este curso es $p=2$: $$L_{2}(x,y)=(\\sum_{i=1}^{m}|x_{i}-y_{i}|^{2})^\\frac{1}{2}$$\n",
    "\n",
    "Notar que $$L_{2}(x,y)=(\\sum_{i=1}^{m}|x_{i}-y_{i}|^{2})^\\frac{1}{2}=(\\sum_{i=1}^{m}(x_{i}-y_{i})^{2})^\\frac{1}{2}$$\n",
    "\n",
    "$L_{2}$ es una distancia importante para los clusters por K-medias.\n",
    "\n",
    "### Normalización\n",
    "Consiste en convertir cada valor en variables medibles de similares escalas mediante el proceso de sustraer la media y dividir entre la desviación estándar.\n",
    "\n",
    "Sean $\\mu_{j}$ y $\\sigma_{j}$ la media y la desviación, respectivamente, de $j^{th}$, se normaliza como sigue: $$X_{ij}^{Z}=\\frac{x_{ij}-\\bar x}{s_{j}}$$\n",
    "\n",
    "que se les conoce como $z-scores$.\n",
    "\n",
    "También se puede normalizar para tener un dominio en común:$[0,1]$. Se le conoce como estandarización del dominio: $$X_{ij}^{\\mu}=\\frac{x_{ij}-\\min x_{ij}}{\\max x_{ij}-\\min x_{ij}}$$\n",
    "\n",
    "este proceso es importante para evitar que los datos sean incomparables para la construcción de K-medias."
   ]
  },
  {
   "cell_type": "code",
   "execution_count": 8,
   "id": "037006d6",
   "metadata": {
    "scrolled": true
   },
   "outputs": [
    {
     "data": {
      "image/png": "[encoded data removed]",
      "text/plain": [
       "<Figure size 720x360 with 3 Axes>"
      ]
     },
     "metadata": {
      "needs_background": "light"
     },
     "output_type": "display_data"
    }
   ],
   "source": [
    "datos = np.array([55, 67, 28, 235, 114])\n",
    "x = np.arange(len(datos))\n",
    "media = datos.mean()\n",
    "desv = datos.std()\n",
    "\n",
    "# normalisation: the data will now have \n",
    "# a mean of 0 and a standard deviation of 1\n",
    "datos_norm = (datos - media) / desv\n",
    "\n",
    "# domain standardisation: the data points will all lie\n",
    "# between 0 (smallest one) and 1 (largest one)\n",
    "datos_est = (datos - datos.min()) / (datos.max() - datos.min())\n",
    "\n",
    "# Have a look at the y axis for each figure!\n",
    "fig, (ax1, ax2, ax3) = plt.subplots(1,3, figsize=(10,5))\n",
    "ax1.plot(x,datos)\n",
    "ax1.set_title('Original')\n",
    "ax2.plot(x,datos_norm)\n",
    "ax2.set_title('Normalizado \\n(mean = 0, stddev = 1)')\n",
    "ax3.plot(x,datos_est)\n",
    "ax3.set_title('Estandarización de dominio \\n(entre 0 and 1)')\n",
    "plt.show()"
   ]
  },
  {
   "cell_type": "markdown",
   "id": "23ca4c47",
   "metadata": {},
   "source": [
    "### Gráficas\n",
    "\n",
    "Es de utilidad aprender a usar la libreria matplot.\n"
   ]
  },
  {
   "cell_type": "code",
   "execution_count": 26,
   "id": "ea8d9df3",
   "metadata": {},
   "outputs": [],
   "source": [
    "import numpy as np, matplotlib.pyplot as plt\n",
    "\n",
    "x=np.arange(0,50)\n",
    "y=np.arange(50,100)"
   ]
  },
  {
   "cell_type": "code",
   "execution_count": 28,
   "id": "9d4ff71c",
   "metadata": {},
   "outputs": [
    {
     "data": {
      "text/plain": [
       "<matplotlib.collections.PathCollection at 0x1d15131cf10>"
      ]
     },
     "execution_count": 28,
     "metadata": {},
     "output_type": "execute_result"
    },
    {
     "data": {
      "image/png": "[encoded data removed]",
      "text/plain": [
       "<Figure size 432x288 with 1 Axes>"
      ]
     },
     "metadata": {
      "needs_background": "light"
     },
     "output_type": "display_data"
    }
   ],
   "source": [
    "plt.scatter(x,y)"
   ]
  },
  {
   "cell_type": "code",
   "execution_count": 41,
   "id": "0c162854",
   "metadata": {},
   "outputs": [],
   "source": [
    "arreglo=[[0,1],[1,4],[2,5],[6,7],[8,5],[3,2]]\n",
    "arreglo=np.array(arreglo)"
   ]
  },
  {
   "cell_type": "code",
   "execution_count": 42,
   "id": "37a21b71",
   "metadata": {},
   "outputs": [
    {
     "data": {
      "text/plain": [
       "<matplotlib.collections.PathCollection at 0x1d1513fe8b0>"
      ]
     },
     "execution_count": 42,
     "metadata": {},
     "output_type": "execute_result"
    },
    {
     "data": {
      "image/png": "[encoded data removed]",
      "text/plain": [
       "<Figure size 432x288 with 1 Axes>"
      ]
     },
     "metadata": {
      "needs_background": "light"
     },
     "output_type": "display_data"
    }
   ],
   "source": [
    "plt.scatter(arreglo[:,0],arreglo[:,1])"
   ]
  },
  {
   "cell_type": "code",
   "execution_count": 43,
   "id": "2f039e04",
   "metadata": {},
   "outputs": [
    {
     "data": {
      "text/plain": [
       "array([[0, 1],\n",
       "       [1, 4],\n",
       "       [2, 5],\n",
       "       [6, 7],\n",
       "       [8, 5],\n",
       "       [3, 2]])"
      ]
     },
     "execution_count": 43,
     "metadata": {},
     "output_type": "execute_result"
    }
   ],
   "source": [
    "arreglo"
   ]
  },
  {
   "cell_type": "code",
   "execution_count": 44,
   "id": "c57aab75",
   "metadata": {
    "scrolled": true
   },
   "outputs": [
    {
     "data": {
      "text/plain": [
       "(array([0, 1, 2, 6, 8, 3]),\n",
       " array([1, 4, 5, 7, 5, 2]),\n",
       " array([[0, 1],\n",
       "        [1, 4],\n",
       "        [2, 5],\n",
       "        [6, 7],\n",
       "        [8, 5]]),\n",
       " array([0, 1, 2, 6, 8, 3]))"
      ]
     },
     "execution_count": 44,
     "metadata": {},
     "output_type": "execute_result"
    }
   ],
   "source": [
    "arreglo[:,0], arreglo[:,1], arreglo[:-1], arreglo[:,-2]"
   ]
  },
  {
   "cell_type": "markdown",
   "id": "93f55137",
   "metadata": {},
   "source": [
    "### Media multidimensional usando numpy"
   ]
  },
  {
   "cell_type": "code",
   "execution_count": 45,
   "id": "c6adc242",
   "metadata": {},
   "outputs": [
    {
     "data": {
      "text/plain": [
       "3.6666666666666665"
      ]
     },
     "execution_count": 45,
     "metadata": {},
     "output_type": "execute_result"
    }
   ],
   "source": [
    "np.mean(arreglo)"
   ]
  },
  {
   "cell_type": "markdown",
   "id": "555abaaa",
   "metadata": {},
   "source": [
    "Notar que esa media es de todos los datos del arreglo, pero no de columna por columna."
   ]
  },
  {
   "cell_type": "code",
   "execution_count": 46,
   "id": "3181a8e9",
   "metadata": {},
   "outputs": [
    {
     "name": "stdout",
     "output_type": "stream",
     "text": [
      "3.3333333333333335 4.0\n"
     ]
    }
   ],
   "source": [
    "x_media=np.mean(arreglo[:,0])\n",
    "y_media=np.mean(arreglo[:,1])\n",
    "print(x_media,y_media)"
   ]
  },
  {
   "cell_type": "markdown",
   "id": "0efe010c",
   "metadata": {},
   "source": [
    "Este método sigue siendo un poco tedioso, pero numpy tiene la solución:"
   ]
  },
  {
   "cell_type": "code",
   "execution_count": 63,
   "id": "0265cf82",
   "metadata": {},
   "outputs": [
    {
     "name": "stdout",
     "output_type": "stream",
     "text": [
      "[[0 1]\n",
      " [1 4]\n",
      " [2 5]\n",
      " [6 7]\n",
      " [8 5]\n",
      " [3 2]] [3.33333333 4.        ]\n"
     ]
    }
   ],
   "source": [
    "media=np.mean(arreglo,0)\n",
    "print(arreglo, media )"
   ]
  },
  {
   "cell_type": "markdown",
   "id": "c41cb9fb",
   "metadata": {},
   "source": [
    "Notar que el $0$ es media por columna y el $1$ es por fila:"
   ]
  },
  {
   "cell_type": "code",
   "execution_count": 50,
   "id": "26d43ac1",
   "metadata": {},
   "outputs": [
    {
     "name": "stdout",
     "output_type": "stream",
     "text": [
      "[[0 1]\n",
      " [1 4]\n",
      " [2 5]\n",
      " [6 7]\n",
      " [8 5]\n",
      " [3 2]] [0.5 2.5 3.5 6.5 6.5 2.5]\n"
     ]
    }
   ],
   "source": [
    "media=np.mean(arreglo,1)\n",
    "print(arreglo, media )"
   ]
  },
  {
   "cell_type": "code",
   "execution_count": 65,
   "id": "3d603893",
   "metadata": {},
   "outputs": [
    {
     "data": {
      "text/plain": [
       "<matplotlib.collections.PathCollection at 0x1d152633b80>"
      ]
     },
     "execution_count": 65,
     "metadata": {},
     "output_type": "execute_result"
    },
    {
     "data": {
      "image/png": "[encoded data removed]",
      "text/plain": [
       "<Figure size 432x288 with 1 Axes>"
      ]
     },
     "metadata": {
      "needs_background": "light"
     },
     "output_type": "display_data"
    }
   ],
   "source": [
    "plt.scatter(arreglo[:,0], arreglo[:,1])\n",
    "plt.scatter(media[0], media[1]) #vector de media"
   ]
  },
  {
   "cell_type": "markdown",
   "id": "a7b2886b",
   "metadata": {},
   "source": [
    "¿Y si queremos la desviación estándar gráficamente?"
   ]
  },
  {
   "cell_type": "code",
   "execution_count": 73,
   "id": "1957292a",
   "metadata": {},
   "outputs": [
    {
     "data": {
      "text/plain": [
       "<matplotlib.patches.Ellipse at 0x1d1546574c0>"
      ]
     },
     "execution_count": 73,
     "metadata": {},
     "output_type": "execute_result"
    },
    {
     "data": {
      "image/png": "[encoded data removed]",
      "text/plain": [
       "<Figure size 432x288 with 1 Axes>"
      ]
     },
     "metadata": {
      "needs_background": "light"
     },
     "output_type": "display_data"
    }
   ],
   "source": [
    "import matplotlib.patches as patches\n",
    "desv=np.std(arreglo,0)\n",
    "ellipse=patches.Ellipse([media[0],media[1]],desv[0]*2, desv[1]*2, alpha=.25)\n",
    "fig,graph=plt.subplots()\n",
    "graph.scatter(arreglo[:,0], arreglo[:,1])\n",
    "graph.scatter(media[0], media[1])\n",
    "graph.add_patch(ellipse)\n"
   ]
  },
  {
   "cell_type": "markdown",
   "id": "59ec3efa",
   "metadata": {},
   "source": [
    "### Calcular distancia de un punto a la media"
   ]
  },
  {
   "cell_type": "code",
   "execution_count": 79,
   "id": "08bd598f",
   "metadata": {},
   "outputs": [
    {
     "data": {
      "text/plain": [
       "(array([0, 1]), array([3.33333333, 4.        ]))"
      ]
     },
     "execution_count": 79,
     "metadata": {},
     "output_type": "execute_result"
    }
   ],
   "source": [
    "arreglo[0], media"
   ]
  },
  {
   "cell_type": "code",
   "execution_count": 81,
   "id": "fe2d2967",
   "metadata": {},
   "outputs": [
    {
     "data": {
      "text/plain": [
       "array([-3.33333333, -3.        ])"
      ]
     },
     "execution_count": 81,
     "metadata": {},
     "output_type": "execute_result"
    }
   ],
   "source": [
    "arreglo[0]-media"
   ]
  },
  {
   "cell_type": "markdown",
   "id": "1863c6eb",
   "metadata": {},
   "source": [
    "Esta es una resta de vectores. Se requiere, sin embargo, la distancia con $p=2$, o sea, la euclidiana."
   ]
  },
  {
   "cell_type": "code",
   "execution_count": 83,
   "id": "f2104323",
   "metadata": {},
   "outputs": [
    {
     "data": {
      "text/plain": [
       "4.48454134902457"
      ]
     },
     "execution_count": 83,
     "metadata": {},
     "output_type": "execute_result"
    }
   ],
   "source": [
    "np.linalg.norm(arreglo[0]-media)"
   ]
  },
  {
   "cell_type": "code",
   "execution_count": 90,
   "id": "972b38d7",
   "metadata": {},
   "outputs": [
    {
     "data": {
      "text/plain": [
       "4.48454134902457"
      ]
     },
     "execution_count": 90,
     "metadata": {},
     "output_type": "execute_result"
    }
   ],
   "source": [
    "np.sqrt(np.sum((arreglo[0]-media)*(arreglo[0]-media)))"
   ]
  },
  {
   "cell_type": "code",
   "execution_count": 86,
   "id": "45267e47",
   "metadata": {},
   "outputs": [
    {
     "data": {
      "text/plain": [
       "2.3333333333333335"
      ]
     },
     "execution_count": 86,
     "metadata": {},
     "output_type": "execute_result"
    }
   ],
   "source": [
    "np.linalg.norm(arreglo[1]-media)"
   ]
  },
  {
   "cell_type": "markdown",
   "id": "8c4bb9df",
   "metadata": {},
   "source": [
    "Y así sucesivamente, se requiere una lista por comprensión:"
   ]
  },
  {
   "cell_type": "markdown",
   "id": "60173ce5",
   "metadata": {},
   "source": [
    "### Lista por comprensión"
   ]
  },
  {
   "cell_type": "code",
   "execution_count": 92,
   "id": "176425bd",
   "metadata": {},
   "outputs": [],
   "source": [
    "a=[2,4,6,8]\n",
    "b=[item+5 for item in a]"
   ]
  },
  {
   "cell_type": "code",
   "execution_count": 95,
   "id": "77cc11ec",
   "metadata": {},
   "outputs": [
    {
     "data": {
      "text/plain": [
       "([2, 4, 6, 8], [7, 9, 11, 13])"
      ]
     },
     "execution_count": 95,
     "metadata": {},
     "output_type": "execute_result"
    }
   ],
   "source": [
    "a, b"
   ]
  },
  {
   "cell_type": "markdown",
   "id": "34224e0c",
   "metadata": {},
   "source": [
    "Entonces de alguna forma se automatiza una nueva matriz. Volviendo al ejemplo de la distancia:"
   ]
  },
  {
   "cell_type": "code",
   "execution_count": 101,
   "id": "9baa59ec",
   "metadata": {},
   "outputs": [
    {
     "name": "stdout",
     "output_type": "stream",
     "text": [
      "[4.48454134902457, 2.3333333333333335, 1.6666666666666667, 4.013864859597431, 4.772607021092117, 2.0275875100994067]\n"
     ]
    }
   ],
   "source": [
    "d=np.linalg.norm(arreglo[1]-media)\n",
    "dist=[np.linalg.norm(xy-media)for xy in arreglo ]\n",
    "print(dist)"
   ]
  },
  {
   "cell_type": "markdown",
   "id": "6e5d4740",
   "metadata": {},
   "source": [
    "Dando como resultado todas las distancias euclidianas."
   ]
  },
  {
   "cell_type": "markdown",
   "id": "950936ac",
   "metadata": {},
   "source": [
    "### Normalización\n",
    "\n",
    "Trabajando sobre los mismos datos:"
   ]
  },
  {
   "cell_type": "code",
   "execution_count": 105,
   "id": "147edffb",
   "metadata": {},
   "outputs": [
    {
     "data": {
      "text/plain": [
       "array([[0, 1],\n",
       "       [1, 4],\n",
       "       [2, 5],\n",
       "       [6, 7],\n",
       "       [8, 5],\n",
       "       [3, 2]])"
      ]
     },
     "execution_count": 105,
     "metadata": {},
     "output_type": "execute_result"
    }
   ],
   "source": [
    "arreglo"
   ]
  },
  {
   "cell_type": "code",
   "execution_count": 107,
   "id": "15a80854",
   "metadata": {},
   "outputs": [
    {
     "name": "stdout",
     "output_type": "stream",
     "text": [
      "0 8\n",
      "[0.    0.125 0.25  0.75  1.    0.375]\n"
     ]
    }
   ],
   "source": [
    "x_min=np.min(arreglo[:,0])\n",
    "x_max=np.max(arreglo[:,0])\n",
    "print(x_min, x_max)\n",
    "norma=(arreglo[:,0]-x_min)/(x_max-x_min)\n",
    "print(norma)"
   ]
  },
  {
   "cell_type": "markdown",
   "id": "c7b4f6b5",
   "metadata": {},
   "source": [
    "En lugar de hacerlo para la otra variable $y$, utilizamos el parámetro $0$ en la función."
   ]
  },
  {
   "cell_type": "code",
   "execution_count": 110,
   "id": "9419b360",
   "metadata": {},
   "outputs": [
    {
     "name": "stdout",
     "output_type": "stream",
     "text": [
      "[[0.         0.        ]\n",
      " [0.125      0.5       ]\n",
      " [0.25       0.66666667]\n",
      " [0.75       1.        ]\n",
      " [1.         0.66666667]\n",
      " [0.375      0.16666667]]\n"
     ]
    }
   ],
   "source": [
    "min=np.min(arreglo,0)\n",
    "max=np.max(arreglo,0)\n",
    "norma=(arreglo-min)/(max-min)\n",
    "print(norma)"
   ]
  },
  {
   "cell_type": "code",
   "execution_count": 111,
   "id": "6c6c802c",
   "metadata": {},
   "outputs": [
    {
     "data": {
      "text/plain": [
       "<matplotlib.patches.Ellipse at 0x1d1548972b0>"
      ]
     },
     "execution_count": 111,
     "metadata": {},
     "output_type": "execute_result"
    },
    {
     "data": {
      "image/png": "[encoded data removed]",
      "text/plain": [
       "<Figure size 432x288 with 1 Axes>"
      ]
     },
     "metadata": {
      "needs_background": "light"
     },
     "output_type": "display_data"
    }
   ],
   "source": [
    "media=np.mean(norma,0)\n",
    "desv=np.std(norma,0)\n",
    "ellipse=patches.Ellipse([media[0],media[1]],desv[0]*2, desv[1]*2, alpha=.25)\n",
    "fig,graph=plt.subplots()\n",
    "graph.scatter(norma[:,0], norma[:,1])\n",
    "graph.scatter(media[0], media[1])\n",
    "graph.add_patch(ellipse)"
   ]
  },
  {
   "cell_type": "markdown",
   "id": "3e39098a",
   "metadata": {},
   "source": [
    "Notar que estos datos son los normalizados y que esto sirve para visualizar los datos atípicos."
   ]
  },
  {
   "cell_type": "code",
   "execution_count": null,
   "id": "e79899cd",
   "metadata": {},
   "outputs": [],
   "source": []
  }
 ],
 "metadata": {
  "kernelspec": {
   "display_name": "Python 3 (ipykernel)",
   "language": "python",
   "name": "python3"
  },
  "language_info": {
   "codemirror_mode": {
    "name": "ipython",
    "version": 3
   },
   "file_extension": ".py",
   "mimetype": "text/x-python",
   "name": "python",
   "nbconvert_exporter": "python",
   "pygments_lexer": "ipython3",
   "version": "3.9.12"
  }
 },
 "nbformat": 4,
 "nbformat_minor": 5
}
