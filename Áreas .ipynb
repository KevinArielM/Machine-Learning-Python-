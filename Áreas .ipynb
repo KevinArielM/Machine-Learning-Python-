{
 "cells": [
  {
   "cell_type": "code",
   "execution_count": 5,
   "id": "d9f53e81",
   "metadata": {},
   "outputs": [],
   "source": [
    "import math\n",
    "\n"
   ]
  },
  {
   "cell_type": "code",
   "execution_count": 14,
   "id": "e9bb5be8",
   "metadata": {},
   "outputs": [],
   "source": [
    "def calcular_area_triangulo():\n",
    "    try:\n",
    "        #ingresar la longitud de los lados del triángulo\n",
    "        longitud_lado1=float(input(\"Ingrese la longitud del primera lado del triángulo: \"))\n",
    "        longitud_lado2=float(input(\"Ingrese la longitud del segundo lado del triángulo: \"))\n",
    "        longitud_lado3=float(input(\"Ingrese la longitud del tercer del triángulo: \"))\n",
    "        \n",
    "        #semiperimetro del triángulo (método de Herón)\n",
    "        \n",
    "        semiperimetro=(longitud_lado1+longitud_lado2+longitud_lado3)/2\n",
    "        \n",
    "        #área del triángulo (método de Herón)\n",
    "        area=math.sqrt(semiperimetro*(semiperimetro-longitud_lado1)*(semiperimetro-longitud_lado2)*(semiperimetro-longitud_lado3))\n",
    "\n",
    "        print(f\"El área del triángulo con lados de longitud {longitud_lado1}, {longitud_lado2} y {longitud_lado3} es {area:.2f}\")\n",
    "        \n",
    "    except ValueError:\n",
    "        print(\"Error: ingresa un número válido\")"
   ]
  },
  {
   "cell_type": "code",
   "execution_count": 15,
   "id": "a6838648",
   "metadata": {},
   "outputs": [
    {
     "name": "stdout",
     "output_type": "stream",
     "text": [
      "Ingrese la longitud del primera lado del triángulo: 10\n",
      "Ingrese la longitud del segundo lado del triángulo: 10\n",
      "Ingrese la longitud del tercer del triángulo: 10\n",
      "El área del triángulo con lados de longitud 10.0, 10.0 y 10.0 es 43.30\n"
     ]
    }
   ],
   "source": [
    "calcular_area_triangulo()"
   ]
  },
  {
   "cell_type": "code",
   "execution_count": 3,
   "id": "a8079e22",
   "metadata": {},
   "outputs": [
    {
     "name": "stdout",
     "output_type": "stream",
     "text": [
      "Ingrese la longitud de un lado del pentágono: 4\n",
      "El área del pentágono con lados de longitud 4.0 es: 27.53\n"
     ]
    }
   ],
   "source": [
    "def calcular_area_pentagono():\n",
    "    try:\n",
    "        # Solicitar al usuario la longitud de un lado del pentágono\n",
    "        longitud_lado = float(input(\"Ingrese la longitud de un lado del pentágono: \"))\n",
    "        \n",
    "        # Calcular el área del pentágono usando la fórmula: área = (1/4) * sqrt(5 * (5 + 2 * sqrt(5))) * lado^2\n",
    "        area = (1/4) * math.sqrt(5 * (5 + 2 * math.sqrt(5))) * longitud_lado**2\n",
    "        \n",
    "        # Imprimir el resultado\n",
    "        print(f\"El área del pentágono con lados de longitud {longitud_lado} es: {area:.4f}\")\n",
    "        \n",
    "    except ValueError:\n",
    "        print(\"Error: Por favor, ingrese un valor numérico válido.\")\n",
    "\n",
    "# Llamar a la función para calcular el área del pentágono\n",
    "calcular_area_pentagono()\n"
   ]
  }
 ],
 "metadata": {
  "kernelspec": {
   "display_name": "Python 3 (ipykernel)",
   "language": "python",
   "name": "python3"
  },
  "language_info": {
   "codemirror_mode": {
    "name": "ipython",
    "version": 3
   },
   "file_extension": ".py",
   "mimetype": "text/x-python",
   "name": "python",
   "nbconvert_exporter": "python",
   "pygments_lexer": "ipython3",
   "version": "3.9.12"
  }
 },
 "nbformat": 4,
 "nbformat_minor": 5
}
